{
 "cells": [
  {
   "cell_type": "code",
   "execution_count": 107,
   "metadata": {},
   "outputs": [],
   "source": [
    "# imports\n",
    "import pandas as p\n",
    "from sklearn import decomposition\n",
    "import traceback\n",
    "\n",
    "# Import dataframe from \"TREAD\" notebook\n",
    "%store -r\n",
    "df = chosen_points.reset_index().copy()\n",
    "df = df.drop('index', axis=1) #drop old index"
   ]
  },
  {
   "cell_type": "code",
   "execution_count": 108,
   "metadata": {},
   "outputs": [
    {
     "data": {
      "text/html": [
       "<div>\n",
       "<style scoped>\n",
       "    .dataframe tbody tr th:only-of-type {\n",
       "        vertical-align: middle;\n",
       "    }\n",
       "\n",
       "    .dataframe tbody tr th {\n",
       "        vertical-align: top;\n",
       "    }\n",
       "\n",
       "    .dataframe thead th {\n",
       "        text-align: right;\n",
       "    }\n",
       "</style>\n",
       "<table border=\"1\" class=\"dataframe\">\n",
       "  <thead>\n",
       "    <tr style=\"text-align: right;\">\n",
       "      <th></th>\n",
       "      <th>MMSI</th>\n",
       "      <th>BaseDateTime</th>\n",
       "      <th>LAT</th>\n",
       "      <th>LON</th>\n",
       "      <th>SOG</th>\n",
       "      <th>COG</th>\n",
       "      <th>Heading</th>\n",
       "      <th>VesselName</th>\n",
       "      <th>VesselType</th>\n",
       "      <th>Status</th>\n",
       "      <th>Length</th>\n",
       "      <th>Width</th>\n",
       "      <th>Draft</th>\n",
       "      <th>IsClassA</th>\n",
       "      <th>Avg_Speed</th>\n",
       "      <th>EstimatedStatus</th>\n",
       "      <th>IsInWP</th>\n",
       "      <th>IsInSignificantWP</th>\n",
       "      <th>Route</th>\n",
       "    </tr>\n",
       "  </thead>\n",
       "  <tbody>\n",
       "    <tr>\n",
       "      <th>0</th>\n",
       "      <td>245011000</td>\n",
       "      <td>2019-03-12 08:10:03</td>\n",
       "      <td>20.8970</td>\n",
       "      <td>-156.4710</td>\n",
       "      <td>2.4</td>\n",
       "      <td>311.0</td>\n",
       "      <td>325.0</td>\n",
       "      <td>PRINS HENDRIK</td>\n",
       "      <td>80</td>\n",
       "      <td>0</td>\n",
       "      <td>153</td>\n",
       "      <td>24</td>\n",
       "      <td>9.4</td>\n",
       "      <td>True</td>\n",
       "      <td>10.7</td>\n",
       "      <td>return</td>\n",
       "      <td>WP_28</td>\n",
       "      <td>&lt;NA&gt;</td>\n",
       "      <td>WP_28 - WP_42</td>\n",
       "    </tr>\n",
       "    <tr>\n",
       "      <th>1</th>\n",
       "      <td>245011000</td>\n",
       "      <td>2019-03-12 08:35:24</td>\n",
       "      <td>20.9492</td>\n",
       "      <td>-156.4762</td>\n",
       "      <td>10.7</td>\n",
       "      <td>334.0</td>\n",
       "      <td>333.0</td>\n",
       "      <td>PRINS HENDRIK</td>\n",
       "      <td>80</td>\n",
       "      <td>0</td>\n",
       "      <td>153</td>\n",
       "      <td>24</td>\n",
       "      <td>9.4</td>\n",
       "      <td>True</td>\n",
       "      <td>11.2</td>\n",
       "      <td>return</td>\n",
       "      <td>None</td>\n",
       "      <td>&lt;NA&gt;</td>\n",
       "      <td>WP_28 - WP_42</td>\n",
       "    </tr>\n",
       "    <tr>\n",
       "      <th>2</th>\n",
       "      <td>245011000</td>\n",
       "      <td>2019-03-12 09:03:23</td>\n",
       "      <td>21.0260</td>\n",
       "      <td>-156.5170</td>\n",
       "      <td>11.2</td>\n",
       "      <td>328.0</td>\n",
       "      <td>337.0</td>\n",
       "      <td>PRINS HENDRIK</td>\n",
       "      <td>80</td>\n",
       "      <td>0</td>\n",
       "      <td>153</td>\n",
       "      <td>24</td>\n",
       "      <td>9.4</td>\n",
       "      <td>True</td>\n",
       "      <td>11.3</td>\n",
       "      <td>return</td>\n",
       "      <td>None</td>\n",
       "      <td>&lt;NA&gt;</td>\n",
       "      <td>WP_28 - WP_42</td>\n",
       "    </tr>\n",
       "  </tbody>\n",
       "</table>\n",
       "</div>"
      ],
      "text/plain": [
       "        MMSI        BaseDateTime      LAT       LON   SOG    COG  Heading  \\\n",
       "0  245011000 2019-03-12 08:10:03  20.8970 -156.4710   2.4  311.0    325.0   \n",
       "1  245011000 2019-03-12 08:35:24  20.9492 -156.4762  10.7  334.0    333.0   \n",
       "2  245011000 2019-03-12 09:03:23  21.0260 -156.5170  11.2  328.0    337.0   \n",
       "\n",
       "      VesselName  VesselType  Status  Length  Width  Draft  IsClassA  \\\n",
       "0  PRINS HENDRIK          80       0     153     24    9.4      True   \n",
       "1  PRINS HENDRIK          80       0     153     24    9.4      True   \n",
       "2  PRINS HENDRIK          80       0     153     24    9.4      True   \n",
       "\n",
       "   Avg_Speed EstimatedStatus IsInWP IsInSignificantWP          Route  \n",
       "0       10.7          return  WP_28              <NA>  WP_28 - WP_42  \n",
       "1       11.2          return   None              <NA>  WP_28 - WP_42  \n",
       "2       11.3          return   None              <NA>  WP_28 - WP_42  "
      ]
     },
     "metadata": {},
     "output_type": "display_data"
    },
    {
     "name": "stdout",
     "output_type": "stream",
     "text": [
      "Index(['MMSI', 'BaseDateTime', 'LAT', 'LON', 'SOG', 'COG', 'Heading',\n",
      "       'VesselName', 'VesselType', 'Status', 'Length', 'Width', 'Draft',\n",
      "       'IsClassA', 'Avg_Speed', 'EstimatedStatus', 'IsInWP',\n",
      "       'IsInSignificantWP', 'Route'],\n",
      "      dtype='object')\n",
      "Num of features: {df.columns.size}\n",
      "<class 'pandas.core.frame.DataFrame'>\n",
      "RangeIndex: 65520 entries, 0 to 65519\n",
      "Data columns (total 19 columns):\n",
      " #   Column             Non-Null Count  Dtype        \n",
      "---  ------             --------------  -----        \n",
      " 0   MMSI               65520 non-null  int32        \n",
      " 1   BaseDateTime       65520 non-null  datetime64[s]\n",
      " 2   LAT                65520 non-null  float64      \n",
      " 3   LON                65520 non-null  float64      \n",
      " 4   SOG                65520 non-null  float64      \n",
      " 5   COG                65520 non-null  float32      \n",
      " 6   Heading            65520 non-null  float32      \n",
      " 7   VesselName         52356 non-null  string       \n",
      " 8   VesselType         65520 non-null  int16        \n",
      " 9   Status             65520 non-null  int8         \n",
      " 10  Length             65520 non-null  int16        \n",
      " 11  Width              65520 non-null  int16        \n",
      " 12  Draft              50663 non-null  float32      \n",
      " 13  IsClassA           65520 non-null  bool         \n",
      " 14  Avg_Speed          65520 non-null  float64      \n",
      " 15  EstimatedStatus    65520 non-null  object       \n",
      " 16  IsInWP             25475 non-null  object       \n",
      " 17  IsInSignificantWP  0 non-null      string       \n",
      " 18  Route              65520 non-null  string       \n",
      "dtypes: bool(1), datetime64[s](1), float32(3), float64(4), int16(3), int32(1), int8(1), object(2), string(3)\n",
      "memory usage: 6.5+ MB\n"
     ]
    },
    {
     "data": {
      "text/plain": [
       "None"
      ]
     },
     "metadata": {},
     "output_type": "display_data"
    }
   ],
   "source": [
    "# some info about the dataframe\n",
    "\n",
    "display(df.head(3))\n",
    "\n",
    "# current columns (aka features) of the dataset\n",
    "print(df.columns)\n",
    "print(\"Num of features: {df.columns.size}\")\n",
    "\n",
    "display(df.info())"
   ]
  },
  {
   "cell_type": "markdown",
   "metadata": {},
   "source": [
    "#### General Approach\n",
    "1. Filling missing data? (To be decided)\n",
    "2. Normalization (some features have different scales)\n",
    "3. Dimensionality reduction (if possible)\n",
    "4. Time series alignment? (To be decided)\n",
    "5. Clustering algorithm"
   ]
  },
  {
   "cell_type": "markdown",
   "metadata": {},
   "source": [
    "### Normalization"
   ]
  },
  {
   "cell_type": "code",
   "execution_count": null,
   "metadata": {},
   "outputs": [],
   "source": []
  },
  {
   "cell_type": "markdown",
   "metadata": {},
   "source": [
    "### Dimensionality Reduction\n",
    "In order to do reduce the number of features of the data source using the PCA methodology, some columns need to be converted into numerical form.\n",
    "- 'BaseDateTime' from datetime64 to int64\n",
    "- 'VesselName' -> column removed\n",
    "- 'EstimatedStatus' from string to int (category)\n",
    "- 'IsInWP' from string to int (category)\n",
    "- 'IsInSignificantWP' from string to int (category)\n",
    "- 'Route' -> Column manually removed (because it contains the same value)"
   ]
  },
  {
   "cell_type": "code",
   "execution_count": 109,
   "metadata": {},
   "outputs": [],
   "source": [
    "df = df.drop(['VesselName', 'Route'], axis=1)"
   ]
  },
  {
   "cell_type": "code",
   "execution_count": 146,
   "metadata": {},
   "outputs": [
    {
     "name": "stdout",
     "output_type": "stream",
     "text": [
      "<class 'pandas.core.frame.DataFrame'>\n",
      "RangeIndex: 65520 entries, 0 to 65519\n",
      "Data columns (total 17 columns):\n",
      " #   Column             Non-Null Count  Dtype  \n",
      "---  ------             --------------  -----  \n",
      " 0   MMSI               65520 non-null  int32  \n",
      " 1   BaseDateTime       65520 non-null  int64  \n",
      " 2   LAT                65520 non-null  float64\n",
      " 3   LON                65520 non-null  float64\n",
      " 4   SOG                65520 non-null  float64\n",
      " 5   COG                65520 non-null  float32\n",
      " 6   Heading            65520 non-null  float32\n",
      " 7   VesselType         65520 non-null  int16  \n",
      " 8   Status             65520 non-null  int8   \n",
      " 9   Length             65520 non-null  int16  \n",
      " 10  Width              65520 non-null  int16  \n",
      " 11  Draft              50663 non-null  float32\n",
      " 12  IsClassA           65520 non-null  bool   \n",
      " 13  Avg_Speed          65520 non-null  float64\n",
      " 14  EstimatedStatus    65520 non-null  int8   \n",
      " 15  IsInWP             65520 non-null  int8   \n",
      " 16  IsInSignificantWP  65520 non-null  int8   \n",
      "dtypes: bool(1), float32(3), float64(4), int16(3), int32(1), int64(1), int8(4)\n",
      "memory usage: 4.2 MB\n",
      "None\n",
      "The columns ['Draft'] need their NaNs values fixed!)\n"
     ]
    }
   ],
   "source": [
    "try:\n",
    "    df['BaseDateTime'] = p.to_numeric(df['BaseDateTime'], errors='raise')\n",
    "    df['EstimatedStatus'] = df['EstimatedStatus'].astype('category').cat.codes\n",
    "    df['IsInWP'] = df['IsInWP'].astype('category').cat.codes\n",
    "    df['IsInSignificantWP'] = df['IsInSignificantWP'].astype('category').cat.codes\n",
    "    print(df.info())\n",
    "except Exception:\n",
    "    print(traceback.format_exc())\n",
    "\n",
    "# search for any column with at least one NaN value\n",
    "cols_with_nans = list(df.columns[df.isnull().any()])\n",
    "if cols_with_nans:\n",
    "    print(f\"The columns {cols_with_nans} need their NaNs values fixed!)\")\n",
    "else:\n",
    "    print('No NaNs values found')\n",
    "\n"
   ]
  },
  {
   "cell_type": "code",
   "execution_count": 148,
   "metadata": {},
   "outputs": [
    {
     "name": "stdout",
     "output_type": "stream",
     "text": [
      "No NaNs values found\n"
     ]
    }
   ],
   "source": [
    "# Replacing NaN values\n",
    "df['Draft'] = df['Draft'].fillna(value=0)\n",
    "\n",
    "# search for any column with at least one NaN value\n",
    "cols_with_nans = list(df.columns[df.isnull().any()])\n",
    "if cols_with_nans:\n",
    "    print(f\"The columns {cols_with_nans} need their NaNs values fixed!)\")\n",
    "else:\n",
    "    print('No NaNs values found')"
   ]
  },
  {
   "cell_type": "code",
   "execution_count": null,
   "metadata": {},
   "outputs": [],
   "source": [
    "'''# https://scikit-learn.org/stable/modules/generated/sklearn.decomposition.PCA.html\n",
    "# pca dimensionality reduction\n",
    "pca = decomposition.PCA(n_components='mle') # automatically detect the number of relevant features\n",
    "#pca = decomposition.PCA(n_components=15)\n",
    "reduced_data = pca.fit_transform(df)\n",
    "reduced_df = p.DataFrame(reduced_data, columns=[\"Col_\" + str(x) for x in range(0,15)])\n",
    "display(reduced_df)\n",
    "print(reduced_df.info())'''"
   ]
  },
  {
   "cell_type": "code",
   "execution_count": null,
   "metadata": {},
   "outputs": [],
   "source": []
  }
 ],
 "metadata": {
  "kernelspec": {
   "display_name": "Python 3",
   "language": "python",
   "name": "python3"
  },
  "language_info": {
   "codemirror_mode": {
    "name": "ipython",
    "version": 3
   },
   "file_extension": ".py",
   "mimetype": "text/x-python",
   "name": "python",
   "nbconvert_exporter": "python",
   "pygments_lexer": "ipython3",
   "version": "3.10.12"
  }
 },
 "nbformat": 4,
 "nbformat_minor": 2
}
