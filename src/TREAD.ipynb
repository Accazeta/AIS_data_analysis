{
 "cells": [
  {
   "cell_type": "code",
   "execution_count": 40,
   "metadata": {},
   "outputs": [],
   "source": [
    "# imports\n",
    "import pandas as p\n",
    "import constants as c\n",
    "import folium\n",
    "import os\n",
    "import zipfile\n",
    "from collections import Counter\n",
    "import math\n",
    "import matplotlib.pyplot as plt\n",
    "import statistics as stats\n",
    "import haversine as hs\n",
    "from datetime import datetime\n",
    "\n",
    "\n",
    "# constants\n",
    "LAT_MIN = 18.76651\n",
    "LAT_MAX = 22.63089\n",
    "LON_MIN = -160.11085\n",
    "LON_MAX = -154.38957\n",
    "FOLDER_PATH = \"../dataset/2019_01/\"\n",
    "SPEED_THRESHOLD = 1"
   ]
  },
  {
   "cell_type": "markdown",
   "metadata": {},
   "source": [
    "Extract only the data with the correct latitude and longitude values\n",
    "This operation takes roughly 15-20 seconds per csv file (tested on csv files with > 1 million rows)"
   ]
  },
  {
   "cell_type": "code",
   "execution_count": 17,
   "metadata": {},
   "outputs": [
    {
     "name": "stdout",
     "output_type": "stream",
     "text": [
      "        MMSI         BaseDateTime       LAT        LON  SOG    COG  Heading  \\\n",
      "0  338070127  2019-01-01T00:00:02  21.31311 -157.86715  0.0  190.3    511.0   \n",
      "1  367379890  2019-01-01T00:00:01  21.28031 -157.83826  1.5   36.7    511.0   \n",
      "2  367119160  2019-01-01T00:00:02  21.31010 -157.86773  0.1  329.0    159.0   \n",
      "3  367008740  2019-01-01T00:00:02  21.30887 -157.87032  0.0   21.4    511.0   \n",
      "4  367213090  2019-01-01T00:00:04  21.95327 -159.35876  0.0  196.1    511.0   \n",
      "\n",
      "  VesselName         IMO CallSign  VesselType  Status  Length  Width  Draft  \\\n",
      "0   HONOLULU         NaN      NaN        50.0     NaN    12.0    4.0    NaN   \n",
      "1  DISCOVERY         NaN  WCC5846        60.0     0.0    23.0    7.0    NaN   \n",
      "2   HOKULANI  IMO7417422  WDI9073        31.0     0.0    34.0   10.0    4.9   \n",
      "3  MIKI HANA  IMO7031163  WTW9252        31.0     0.0    33.0    9.0    3.9   \n",
      "4        NaN         NaN      NaN         NaN     0.0     NaN    NaN    NaN   \n",
      "\n",
      "   Cargo TransceiverClass  \n",
      "0    NaN                B  \n",
      "1    NaN                A  \n",
      "2   32.0                A  \n",
      "3   32.0                A  \n",
      "4    NaN                A  \n"
     ]
    }
   ],
   "source": [
    "final_df = p.DataFrame()\n",
    "\n",
    "# list all the files in the specified directory\n",
    "filenames = os.listdir(FOLDER_PATH)\n",
    "# and sort them alphabetically\n",
    "filenames.sort()\n",
    "# for each file\n",
    "for file_name in filenames:\n",
    "    # only iterate over zip files\n",
    "    if file_name.endswith('.zip'):\n",
    "        file_path = os.path.join(FOLDER_PATH, file_name)\n",
    "        # if the csv file has yet to be extracted\n",
    "        csv_filename = file_name.replace(\".zip\", \".csv\")\n",
    "        if not(os.path.exists(os.path.join(FOLDER_PATH, csv_filename))):\n",
    "            # open the zip file and extract it\n",
    "            with zipfile.ZipFile(file_path, 'r') as zip_file:\n",
    "                csv_filename = zip_file.namelist()[0]\n",
    "                zip_file.extractall(FOLDER_PATH)\n",
    "        # create a dataframe using the extracted csv file\n",
    "        full_df = p.read_csv(os.path.join(FOLDER_PATH, csv_filename))\n",
    "        # extract only the rows of interest (with LAT and LON values between the specified bounds)\n",
    "        filtered_df = full_df[\n",
    "                                (full_df['LAT'].between(LAT_MIN, LAT_MAX)) &\n",
    "                                (full_df['LON'].between(LON_MIN, LON_MAX)) \n",
    "                            ]\n",
    "        # and append the extracted rows to the final dataframe\n",
    "        final_df = p.concat([final_df, filtered_df], ignore_index = True)\n",
    "\n",
    "print(f\"Final dataframe len: {final_df.shape[0]}\")\n",
    "print(final_df.head())\n",
    "      \n",
    "    "
   ]
  },
  {
   "cell_type": "markdown",
   "metadata": {},
   "source": [
    "Separate code snippet used for exporting the final dataframe as a csv file.\n",
    "This is necessary as the above code snippet takes ~8 minutes read and filter 31 csv files.\n",
    "By exporting the resulting df as a csv file it's possible import it again for the following part of this notebook"
   ]
  },
  {
   "cell_type": "code",
   "execution_count": 2,
   "metadata": {},
   "outputs": [],
   "source": [
    "#OUTPUT_PATH = os.getcwd()\n",
    "OUTPUT_PATH = FOLDER_PATH\n",
    "FILE_NAME = '2019_01.csv' #specify file name (don't forget the .csv extension)\n",
    "#final_df.to_csv(OUTPUT_PATH + '/' + FILE_NAME, index = False)\n",
    "\n",
    "#print(f\"Final dataframe len: {final_df.shape[0]}\")\n"
   ]
  },
  {
   "cell_type": "markdown",
   "metadata": {},
   "source": [
    "Read the csv file and use it as the final data source\n",
    "(The code snippet below should be used only if the code snippet #2 was not executed)"
   ]
  },
  {
   "cell_type": "code",
   "execution_count": 3,
   "metadata": {},
   "outputs": [
    {
     "name": "stdout",
     "output_type": "stream",
     "text": [
      "Final dataframe len: 1924660\n"
     ]
    }
   ],
   "source": [
    "# read csv\n",
    "final_df = p.read_csv(OUTPUT_PATH + FILE_NAME)\n",
    "final_df.drop_duplicates(keep='first') # drop duplicates\n",
    "final_df.BaseDateTime = p.to_datetime(final_df.BaseDateTime) # Convert DateTime into more readable format\n",
    "\n",
    "print(f\"Final dataframe len: {final_df.shape[0]}\")"
   ]
  },
  {
   "cell_type": "markdown",
   "metadata": {},
   "source": [
    "Some stats about the imported dataframe\n",
    "In order to make the histogram below, occurrencies are rounded to the top hundred (ex: 33 -> 100, 244 -> 300, etc...)\n",
    "This is done in order to have an idea about how many ships have negligible amount of records.\n",
    "In the next code snippet (#10) the threshold is set to 100 and consequently all vessels with less than 100 data points are removed from the dataset"
   ]
  },
  {
   "cell_type": "code",
   "execution_count": 4,
   "metadata": {},
   "outputs": [
    {
     "name": "stdout",
     "output_type": "stream",
     "text": [
      "Num of rows: 1924660\n",
      "Num of vessels: 423\n",
      "Avg entries for each vessel 4550.023640661939\n",
      "Variance: 37102188.6108142\n",
      "Standard Deviation: 6091.156590567525\n",
      "Max entries found for the same ship: 28673\n",
      "Min entries found for the same ship: 1\n",
      "Final dataframe len: 1924660, num of vessels: 423\n"
     ]
    },
    {
     "data": {
      "image/png": "[encoded data removed]",
      "text/plain": [
       "<Figure size 640x480 with 1 Axes>"
      ]
     },
     "metadata": {},
     "output_type": "display_data"
    }
   ],
   "source": [
    "# Number of entries (number of rows of the dataframe)\n",
    "num_of_rows = final_df.index.shape[0]\n",
    "print(\"Num of rows: \" + str(num_of_rows))\n",
    "\n",
    "# Extract all the unique MMSIs\n",
    "unique_vessels_ids = p.unique(final_df['MMSI']).tolist()\n",
    "num_of_vessels = len(unique_vessels_ids)\n",
    "print(\"Num of vessels: \" + str(num_of_vessels))\n",
    "\n",
    "# Calculate the exact number of entries for each ship\n",
    "vessels_entries_dict = dict(Counter(final_df['MMSI'].to_list())) # save it in a dict\n",
    "vessels_entries = list(vessels_entries_dict.values()) # save just the values in a list\n",
    "vessels_entries.sort()\n",
    "rounded_vessels_entries = [math.ceil(x/100) * 100 for x in vessels_entries]\n",
    "\n",
    "print(f\"Avg entries for each vessel {stats.mean(vessels_entries)}\")\n",
    "print(f\"Variance: {stats.variance(vessels_entries)}\")\n",
    "print(f\"Standard Deviation: {stats.stdev(vessels_entries)}\")\n",
    "print(f\"Max entries found for the same ship: {vessels_entries[-1]}\")\n",
    "print(f\"Min entries found for the same ship: {vessels_entries[0]}\")\n",
    "\n",
    "n, bins, patches = plt.hist(x=rounded_vessels_entries, bins='auto', color='orange', edgecolor = 'black')\n",
    "\n",
    "\n",
    "print(f\"Final dataframe len: {final_df.shape[0]}, num of vessels: {len(vessels_entries)}\")"
   ]
  },
  {
   "cell_type": "markdown",
   "metadata": {},
   "source": [
    "Remove ships with not enough entries"
   ]
  },
  {
   "cell_type": "code",
   "execution_count": 62,
   "metadata": {},
   "outputs": [
    {
     "name": "stdout",
     "output_type": "stream",
     "text": [
      "Final dataframe len: 1924660, num of vessels: 423, unwanted vessels: 71\n",
      "Final dataframe len: 1924660, num of vessels: 423, unwanted vessels: 71\n",
      "Cleaned dataframe len: 1922770, num of vessels: 352\n"
     ]
    }
   ],
   "source": [
    "THRESHOLD = 100\n",
    "\n",
    "mmsi_to_be_removed = [x for x in vessels_entries_dict.keys() if vessels_entries_dict[x] <= THRESHOLD]\n",
    "print(f\"Final dataframe len: {final_df.shape[0]}, num of vessels: {len(vessels_entries)}, unwanted vessels: {len(mmsi_to_be_removed)}\")\n",
    "clean_df = final_df.copy()\n",
    "\n",
    "for unwanted_mmsi in mmsi_to_be_removed:\n",
    "    clean_df = clean_df.drop(clean_df[clean_df['MMSI'] == unwanted_mmsi].index)\n",
    "\n",
    "clean_df.drop_duplicates(keep='first', inplace=True)\n",
    "\n",
    "print(f\"Cleaned dataframe len: {clean_df.shape[0]}, num of vessels: {len(p.unique(clean_df['MMSI']))}\")"
   ]
  },
  {
   "cell_type": "markdown",
   "metadata": {},
   "source": [
    "Export the cleaned dataframe in order to have a backup copy in a csv file"
   ]
  },
  {
   "cell_type": "code",
   "execution_count": 6,
   "metadata": {},
   "outputs": [],
   "source": [
    "#OUTPUT_PATH = os.getcwd()\n",
    "OUTPUT_PATH = FOLDER_PATH\n",
    "FILE_NAME = 'cleaned_2019_01.csv' #specify file name (don't forget the .csv extension)\n",
    "clean_df.to_csv(OUTPUT_PATH + '/' + FILE_NAME, index = False)\n",
    "\n",
    "#print(f\"Final dataframe len: {final_df.shape[0]}\")"
   ]
  },
  {
   "cell_type": "markdown",
   "metadata": {},
   "source": [
    "Create a new histogram using the \"cleaned\" data from the clean_df"
   ]
  },
  {
   "cell_type": "code",
   "execution_count": 7,
   "metadata": {},
   "outputs": [
    {
     "name": "stdout",
     "output_type": "stream",
     "text": [
      "Avg entries for each vessel 5463.980113636364\n",
      "Variance: 39616279.979660384\n",
      "Standard Deviation: 6294.146485398984\n",
      "Max entries found for the same ship: 28673\n",
      "Min entries found for the same ship: 105\n"
     ]
    },
    {
     "data": {
      "image/png": "[encoded data removed]",
      "text/plain": [
       "<Figure size 640x480 with 1 Axes>"
      ]
     },
     "metadata": {},
     "output_type": "display_data"
    }
   ],
   "source": [
    "clean_vessel_entries = list(Counter(clean_df['MMSI'].to_list()).values())\n",
    "\n",
    "rounded_clean_vessels_entries = [math.ceil(x/100) * 100 for x in clean_vessel_entries]\n",
    "\n",
    "print(f\"Avg entries for each vessel {stats.mean(clean_vessel_entries)}\")\n",
    "print(f\"Variance: {stats.variance(clean_vessel_entries)}\")\n",
    "print(f\"Standard Deviation: {stats.stdev(clean_vessel_entries)}\")\n",
    "print(f\"Max entries found for the same ship: {max(clean_vessel_entries)}\")\n",
    "print(f\"Min entries found for the same ship: {min(clean_vessel_entries)}\")\n",
    "\n",
    "n, bins, patches = plt.hist(x=rounded_clean_vessels_entries, bins='auto', color='green', edgecolor = 'black', )"
   ]
  },
  {
   "cell_type": "markdown",
   "metadata": {},
   "source": [
    "Print a few points on the map just to check that everything works"
   ]
  },
  {
   "cell_type": "code",
   "execution_count": null,
   "metadata": {},
   "outputs": [],
   "source": [
    "map = folium.Map(location=[21, -158], tiles=\"OpenStreetMap\", zoom_start=9)\n",
    "\n",
    "clean_df.sort_values(by='MMSI', inplace=True)\n",
    "\n",
    "#test ranges (replace x and y below): [2:474], [474, 1364], [1364,1837], [1837:2285], [2285, 2725]\n",
    "x = 2\n",
    "y = 30000\n",
    "# extract from the dataset latitude and longitude of the values in range [x:y)\n",
    "loc = [[str(mmsi), lat, lon] for (mmsi, lat, lon) in zip(clean_df.iloc[x:y]['MMSI'], clean_df.iloc[x:y]['LAT'], clean_df.iloc[x:y]['LON'])]\n",
    "\n",
    "tempDF = p.DataFrame(loc)\n",
    "tempDF.columns = ['MMSI', 'LAT', 'LON'] # create a temporary df with the extracted mmsi, lat. and long. values\n",
    "\n",
    "# CircleMarker requires each point to be added one by one\n",
    "# The temp function below is applied to all points in the tempDF\n",
    "def tempFunc(row):\n",
    "    folium.CircleMarker(\n",
    "        location=[row['LAT'],row['LON']],\n",
    "        radius=0.5\n",
    "        ).add_child(folium.Popup(row['MMSI'])).add_to(map)\n",
    "\n",
    "# Using 'apply' with a custom function saves a bit of time (compared to a simple for-loop)\n",
    "tempDF.apply(tempFunc, axis=1)\n",
    "\n",
    "map "
   ]
  },
  {
   "cell_type": "markdown",
   "metadata": {},
   "source": [
    "Source: Pallotta, G., Vespe, M., & Bryan, K. (2013). Vessel Pattern Knowledge Discovery from AIS Data: A Framework for Anomaly Detection and Route Prediction. Entropy, 15(12), 2218–2245. https://doi.org/10.3390/e15062218\n",
    "\n",
    "‌TREAD algorithm (pages 2223-2231)"
   ]
  },
  {
   "cell_type": "markdown",
   "metadata": {},
   "source": [
    "Function \"Online_WP_Clustering\"<br>\n",
    "Takes as input:<br>\n",
    "   - Vs: list of vessels<br>\n",
    "   - v: vessel that generated the event of interest to be clustered<br>\n",
    "   - WPs: list of waypoints to be clustered (list of entri, stationary and exit points)<br>\n",
    "   - Rs: list of routes to be modified<br>\n",
    "   - Eps: radius of the cluster for the DBSCAN algorithm<br>\n",
    "   - N: minimum number of points for each cluster for the DBSCAN algorithm<br>\n",
    "   \n",
    "Returns:<br>\n",
    "   - WPs\n",
    "   - v\n",
    "   - Rs"
   ]
  },
  {
   "cell_type": "code",
   "execution_count": null,
   "metadata": {},
   "outputs": [],
   "source": [
    "\n",
    "def Online_WP_Clustering(WPs, Rs, Vs, Eps, N, v) -> list:\n",
    "    None"
   ]
  },
  {
   "cell_type": "markdown",
   "metadata": {},
   "source": [
    "Function \"Route_Objects_Manager\"<br>\n",
    "Takes as input:<br>\n",
    "   - v: vessel that generated the event of interest to be clustered<br>\n",
    "   - WPs: list of waypoints to be clustered (list of entry, stationary and exit points)<br>\n",
    "   - Rs: list of routes to be modified<br>\n",
    "\n",
    "Returns:<br>\n",
    "   - v\n",
    "   - Rs"
   ]
  },
  {
   "cell_type": "code",
   "execution_count": null,
   "metadata": {},
   "outputs": [],
   "source": [
    "def Route_Objects_Manager(Rs, Vs, v) -> list:\n",
    "    None"
   ]
  },
  {
   "cell_type": "code",
   "execution_count": 63,
   "metadata": {},
   "outputs": [
    {
     "name": "stdout",
     "output_type": "stream",
     "text": [
      "8.78\n",
      "6.08\n",
      "1.62\n",
      "6.35\n",
      "0.0\n",
      "0.37\n",
      "0.03\n",
      "0.03\n",
      "0.04\n",
      "7.29\n",
      "0.04\n",
      "0.06\n",
      "9.23\n",
      "13.23\n",
      "4.67\n",
      "6.27\n",
      "0.04\n",
      "0.04\n",
      "0.06\n",
      "0.07\n",
      "0.06\n",
      "10.41\n",
      "0.1\n",
      "0.0\n",
      "5.05\n",
      "21.35\n",
      "6.24\n",
      "0.07\n",
      "8.58\n",
      "6.91\n",
      "0.03\n",
      "7.53\n",
      "13.42\n",
      "0.0\n",
      "0.0\n",
      "10.29\n",
      "0.03\n",
      "4.68\n",
      "0.06\n",
      "5.81\n",
      "9.3\n",
      "10.09\n",
      "0.07\n",
      "0.0\n",
      "0.07\n",
      "0.04\n",
      "0.07\n",
      "9.98\n",
      "0.0\n",
      "0.12\n",
      "10.32\n",
      "21.04\n",
      "6.67\n",
      "7.23\n",
      "0.01\n",
      "6.77\n",
      "0.01\n",
      "6.09\n",
      "7.68\n",
      "0.08\n",
      "8.72\n",
      "0.0\n",
      "0.02\n",
      "0.06\n",
      "0.03\n",
      "13.87\n",
      "0.02\n",
      "0.09\n",
      "0.02\n",
      "0.03\n",
      "0.0\n",
      "0.03\n",
      "-0.06\n",
      "0.0\n",
      "0.08\n",
      "0.01\n",
      "4.89\n",
      "0.09\n",
      "10.05\n",
      "0.0\n",
      "0.03\n",
      "0.03\n",
      "0.03\n",
      "0.03\n",
      "10.12\n",
      "0.02\n",
      "0.11\n",
      "{338070127: ['stationary', {0: [Timestamp('2019-01-01 00:00:02'), 21.31311, -157.86715, 190.3, 0.0], 1: [Timestamp('2019-01-01 00:03:03'), 21.3131, -157.86715, 171.2, 0.0]}], 367379890: ['stationary', {0: [Timestamp('2019-01-01 00:00:01'), 21.28031, -157.83826, 36.7, 1.5], 1: [Timestamp('2019-01-01 00:01:11'), 21.28042, -157.83821, 28.3, 0.2], 2: [Timestamp('2019-01-01 00:02:20'), 21.28041, -157.83821, 58.7, 0.0], 3: [Timestamp('2019-01-01 00:03:31'), 21.28039, -157.83819, 97.7, 0.0]}], 367119160: ['stationary', {0: [Timestamp('2019-01-01 00:00:02'), 21.3101, -157.86773, 329.0, 0.1], 1: [Timestamp('2019-01-01 00:01:12'), 21.31011, -157.86773, 327.0, 0.1], 2: [Timestamp('2019-01-01 00:02:21'), 21.31011, -157.86773, 343.4, 0.0], 3: [Timestamp('2019-01-01 00:03:31'), 21.31012, -157.86773, 347.8, 0.1]}], 367008740: ['stationary', {0: [Timestamp('2019-01-01 00:00:02'), 21.30887, -157.87032, 21.4, 0.0], 1: [Timestamp('2019-01-01 00:01:11'), 21.30887, -157.87034, 358.4, 0.1], 2: [Timestamp('2019-01-01 00:02:22'), 21.30887, -157.87033, 52.0, 0.2], 3: [Timestamp('2019-01-01 00:03:42'), 21.30886, -157.87033, 26.3, 0.1]}], 367213090: ['stationary', {0: [Timestamp('2019-01-01 00:00:04'), 21.95327, -159.35876, 196.1, 0.0], 1: [Timestamp('2019-01-01 00:01:13'), 21.95325, -159.35876, 202.2, 0.1], 2: [Timestamp('2019-01-01 00:02:23'), 21.95326, -159.35876, 209.8, 0.0], 3: [Timestamp('2019-01-01 00:03:32'), 21.95326, -159.35875, 192.4, 0.1]}], 338143427: ['sailing', {0: [Timestamp('2019-01-01 00:00:03'), 20.73033, -156.95901, 101.8, 7.9], 1: [Timestamp('2019-01-01 00:02:03'), 20.72987, -156.95457, 92.5, 7.7], 2: [Timestamp('2019-01-01 00:03:04'), 20.72968, -156.95226, 92.4, 7.6]}], 367416420: ['stationary', {0: [Timestamp('2019-01-01 00:00:03'), 21.31002, -157.86884, 147.6, 0.0], 1: [Timestamp('2019-01-01 00:01:13'), 21.31003, -157.86885, 156.8, 0.1], 2: [Timestamp('2019-01-01 00:03:33'), 21.31004, -157.86884, 165.0, 0.0], 3: [Timestamp('2019-01-01 00:02:22'), 21.31003, -157.86886, 165.8, 0.0]}], 338199855: ['stationary', {0: [Timestamp('2019-01-01 00:00:00'), 21.31309, -157.86712, 360.0, 0.0], 1: [Timestamp('2019-01-01 00:01:09'), 21.31309, -157.86712, 360.0, 0.0], 2: [Timestamp('2019-01-01 00:02:20'), 21.31309, -157.86712, 360.0, 0.0], 3: [Timestamp('2019-01-01 00:03:31'), 21.31309, -157.86712, 360.0, 0.0]}], 367789570: ['stationary', {0: [Timestamp('2019-01-01 00:00:03'), 21.31645, -157.87919, 106.8, 0.0], 1: [Timestamp('2019-01-01 00:03:01'), 21.31644, -157.87918, 106.8, 0.0]}], 367776660: ['sailing', {0: [Timestamp('2019-01-01 00:00:03'), 21.22116, -158.02665, 105.5, 6.3], 1: [Timestamp('2019-01-01 00:01:06'), 21.22062, -158.02484, 105.8, 6.2], 2: [Timestamp('2019-01-01 00:02:14'), 21.2201, -158.02281, 104.0, 6.3], 3: [Timestamp('2019-01-01 00:03:18'), 21.21964, -158.02094, 104.4, 6.2]}], 366254000: ['sailing', {0: [Timestamp('2019-01-01 00:00:03'), 20.94641, -156.46855, 357.3, 8.2], 1: [Timestamp('2019-01-01 00:01:08'), 20.94905, -156.46861, 357.5, 8.8], 2: [Timestamp('2019-01-01 00:02:09'), 20.95147, -156.46867, 1.3, 8.8], 3: [Timestamp('2019-01-01 00:03:15'), 20.95413, -156.46877, 356.3, 8.5]}], 366909880: ['stationary', {0: [Timestamp('2019-01-01 00:00:03'), 21.31673, -157.87819, 56.2, 0.0], 1: [Timestamp('2019-01-01 00:03:04'), 21.31674, -157.87818, 56.2, 0.1]}], 366873510: ['sailing', {0: [Timestamp('2019-01-01 00:00:06'), 21.15374, -158.28557, 250.2, 10.3], 1: [Timestamp('2019-01-01 00:01:15'), 21.15258, -158.28891, 251.0, 10.2], 2: [Timestamp('2019-01-01 00:02:25'), 21.15141, -158.29218, 248.1, 10.3], 3: [Timestamp('2019-01-01 00:03:36'), 21.15015, -158.29548, 250.0, 10.4]}], 367007920: ['stationary', {0: [Timestamp('2019-01-01 00:00:04'), 21.30996, -157.87085, 345.1, 0.0], 1: [Timestamp('2019-01-01 00:01:13'), 21.30994, -157.87086, 359.8, 0.0], 2: [Timestamp('2019-01-01 00:02:24'), 21.30996, -157.87086, 355.2, 0.0], 3: [Timestamp('2019-01-01 00:03:33'), 21.30995, -157.87083, 354.4, 0.0]}], 367639430: ['sailing', {0: [Timestamp('2019-01-01 00:00:14'), 21.31333, -157.86678, 22.9, 0.1]}], 338926424: ['stationary', {0: [Timestamp('2019-01-01 00:00:03'), 21.30676, -157.87209, 302.0, 0.0], 1: [Timestamp('2019-01-01 00:01:13'), 21.30675, -157.87208, 282.2, 0.0], 2: [Timestamp('2019-01-01 00:02:23'), 21.30675, -157.87208, 138.2, 0.0]}], 369970036: ['stationary', {0: [Timestamp('2019-01-01 00:00:07'), 21.35253, -157.94278, 50.0, 0.1], 1: [Timestamp('2019-01-01 00:01:17'), 21.35253, -157.94278, 97.2, 0.0], 2: [Timestamp('2019-01-01 00:02:28'), 21.35253, -157.94278, 18.6, 0.1]}], 367773150: ['stationary', {0: [Timestamp('2019-01-01 00:00:06'), 20.79058, -156.51132, 360.0, 0.0], 1: [Timestamp('2019-01-01 00:01:16'), 20.79059, -156.51133, 360.0, 0.0], 2: [Timestamp('2019-01-01 00:02:47'), 20.79059, -156.51133, 360.0, 0.0]}], 367309890: ['sailing', {0: [Timestamp('2019-01-01 00:00:07'), 21.30955, -157.87226, 150.7, 4.4], 1: [Timestamp('2019-01-01 00:01:17'), 21.30813, -157.8707, 102.8, 7.3], 2: [Timestamp('2019-01-01 00:02:37'), 21.30912, -157.86865, 40.0, 5.5]}], 367309120: ['sailing', {0: [Timestamp('2019-01-01 00:00:06'), 20.43407, -156.16117, 109.0, 4.7], 1: [Timestamp('2019-01-01 00:01:16'), 20.43354, -156.15966, 109.0, 4.8], 2: [Timestamp('2019-01-01 00:02:36'), 20.43298, -156.15791, 109.0, 4.9], 3: [Timestamp('2019-01-01 00:03:47'), 20.43248, -156.15628, 108.0, 5.0]}], 367191940: ['stationary', {0: [Timestamp('2019-01-01 00:00:01'), 21.29401, -157.85784, 333.5, 0.0], 1: [Timestamp('2019-01-01 00:03:02'), 21.294, -157.85784, 333.5, 0.0]}], 303966000: ['stationary', {0: [Timestamp('2019-01-01 00:00:08'), 21.35332, -157.94844, 360.0, 0.0], 1: [Timestamp('2019-01-01 00:03:09'), 21.35326, -157.94847, 360.0, 0.0]}], 367755180: ['sailing', {0: [Timestamp('2019-01-01 00:00:42'), 21.31378, -157.86677, 57.4, 0.1]}], 369970966: ['sailing', {0: [Timestamp('2019-01-01 00:00:08'), 21.35104, -157.9899, 128.2, 13.7], 1: [Timestamp('2019-01-01 00:01:12'), 21.35002, -157.98584, 91.9, 13.6], 2: [Timestamp('2019-01-01 00:02:15'), 21.34922, -157.98173, 118.5, 13.5], 3: [Timestamp('2019-01-01 00:03:19'), 21.34627, -157.97866, 137.8, 13.6]}], 367151250: ['stationary', {0: [Timestamp('2019-01-01 00:00:07'), 21.31029, -157.8677, 325.4, 0.1], 1: [Timestamp('2019-01-01 00:01:18'), 21.31028, -157.86771, 333.4, 0.0], 2: [Timestamp('2019-01-01 00:02:28'), 21.31027, -157.8677, 332.6, 0.1]}], 367472000: ['sailing', {0: [Timestamp('2019-01-01 00:00:04'), 21.30933, -157.87167, 138.0, 3.2], 1: [Timestamp('2019-01-01 00:01:07'), 21.30898, -157.87133, 171.0, 0.8], 2: [Timestamp('2019-01-01 00:02:12'), 21.3082, -157.86993, 118.0, 7.3], 3: [Timestamp('2019-01-01 00:03:15'), 21.3087, -157.86788, 57.0, 7.4]}], 368003650: ['sailing', {0: [Timestamp('2019-01-01 00:00:08'), 21.10234, -157.94994, 217.7, 6.4], 1: [Timestamp('2019-01-01 00:01:09'), 21.10061, -157.95044, 209.3, 6.1], 2: [Timestamp('2019-01-01 00:02:37'), 21.09807, -157.95147, 204.8, 7.2]}], 367433780: ['sailing', {0: [Timestamp('2019-01-01 00:00:05'), 21.26022, -157.89079, 14.9, 8.9], 1: [Timestamp('2019-01-01 00:01:15'), 21.26317, -157.89027, 9.7, 9.0], 2: [Timestamp('2019-01-01 00:02:24'), 21.26608, -157.88964, 8.6, 9.3]}], 367705430: ['sailing', {0: [Timestamp('2019-01-01 00:00:12'), 20.93407, -158.34279, 225.5, 7.1], 1: [Timestamp('2019-01-01 00:01:13'), 20.93282, -158.34454, 230.7, 7.4], 2: [Timestamp('2019-01-01 00:02:14'), 20.93166, -158.34622, 218.6, 6.9], 3: [Timestamp('2019-01-01 00:03:15'), 20.93031, -158.34786, 224.9, 7.8]}], 367331770: ['sailing', {0: [Timestamp('2019-01-01 00:00:18'), 20.86571, -156.70787, 87.6, 10.4], 1: [Timestamp('2019-01-01 00:02:17'), 20.86588, -156.70181, 90.9, 10.4]}], 367300660: ['stationary', {0: [Timestamp('2019-01-01 00:00:08'), 20.03742, -155.83019, 42.6, 0.0], 1: [Timestamp('2019-01-01 00:01:18'), 20.03743, -155.83019, 42.6, 0.0], 2: [Timestamp('2019-01-01 00:02:28'), 20.03742, -155.83017, 42.6, 0.0]}], 367420170: ['stationary', {0: [Timestamp('2019-01-01 00:00:06'), 21.31018, -157.87111, 0.0, 0.0], 1: [Timestamp('2019-01-01 00:01:16'), 21.31015, -157.87112, 90.1, 0.0], 2: [Timestamp('2019-01-01 00:02:27'), 21.31016, -157.87112, 0.0, 0.0]}], 310327000: ['stationary', {0: [Timestamp('2019-01-01 00:00:24'), 21.95444, -159.35529, 74.0, 0.0], 1: [Timestamp('2019-01-01 00:03:24'), 21.95444, -159.35529, 74.0, 0.0]}], 366563000: ['sailing', {0: [Timestamp('2019-01-01 00:00:10'), 22.16544, -156.84285, 36.0, 21.0], 1: [Timestamp('2019-01-01 00:01:21'), 22.1711, -156.83838, 37.1, 21.0], 2: [Timestamp('2019-01-01 00:02:33'), 22.17674, -156.83389, 36.9, 21.1]}], 367017630: ['stationary', {0: [Timestamp('2019-01-01 00:00:32'), 21.32218, -158.11476, 234.1, 0.1], 1: [Timestamp('2019-01-01 00:03:33'), 21.32216, -158.11468, 130.4, 0.1]}], 941202248: ['stationary', {0: [Timestamp('2019-01-01 00:00:34'), 21.31635, -157.87848, 214.6, 0.0], 1: [Timestamp('2019-01-01 00:03:34'), 21.31632, -157.87839, 265.7, 0.3]}], 367309720: ['stationary', {0: [Timestamp('2019-01-01 00:00:08'), 21.293, -157.85924, 356.2, 0.1], 1: [Timestamp('2019-01-01 00:01:18'), 21.29302, -157.85924, 358.4, 0.0], 2: [Timestamp('2019-01-01 00:02:28'), 21.293, -157.85925, 244.6, 0.0]}], 367007870: ['sailing', {0: [Timestamp('2019-01-01 00:00:31'), 21.3091, -157.87076, 296.8, 0.0]}], 367018980: ['stationary', {0: [Timestamp('2019-01-01 00:00:51'), 21.31662, -157.87723, 83.7, 0.0], 1: [Timestamp('2019-01-01 00:03:17'), 21.31662, -157.87724, 130.2, 0.0]}], 368144000: ['stationary', {0: [Timestamp('2019-01-01 00:00:26'), 21.3164, -157.87824, 19.0, 0.0], 1: [Timestamp('2019-01-01 00:03:27'), 21.31639, -157.87823, 19.0, 0.0]}], 366339000: ['sailing', {0: [Timestamp('2019-01-01 00:01:00'), 19.63674, -156.00716, 270.7, 0.2]}], 367423550: ['sailing', {0: [Timestamp('2019-01-01 00:00:56'), 21.32923, -158.12, 189.3, 0.0]}], 367602740: ['sailing', {0: [Timestamp('2019-01-01 00:00:45'), 21.31269, -157.86664, 290.7, 0.1]}], 368477000: ['sailing', {0: [Timestamp('2019-01-01 00:00:58'), 21.3099, -157.86857, 285.4, 0.0]}], 248951000: ['sailing', {0: [Timestamp('2019-01-01 00:00:51'), 21.29822, -157.8683, 291.7, 0.0]}], 367309860: ['stationary', {0: [Timestamp('2019-01-01 00:00:32'), 21.31566, -157.8865, 290.7, 0.0], 1: [Timestamp('2019-01-01 00:03:33'), 21.31568, -157.88651, 283.0, 0.0]}], 366914430: ['stationary', {0: [Timestamp('2019-01-01 00:00:34'), 21.35925, -157.94237, 287.4, 0.0], 1: [Timestamp('2019-01-01 00:03:36'), 21.35926, -157.94235, 288.6, 0.0]}], 366766970: ['sailing', {0: [Timestamp('2019-01-01 00:01:01'), 20.03444, -155.82794, 82.4, 0.1]}], 366606000: ['stationary', {0: [Timestamp('2019-01-01 00:00:35'), 21.31147, -157.86562, 10.7, 0.0], 1: [Timestamp('2019-01-01 00:03:36'), 21.31147, -157.86562, 10.7, 0.0]}], 367423310: ['sailing', {0: [Timestamp('2019-01-01 00:00:40'), 21.31675, -157.87761, 41.0, 0.0]}], 367648550: ['sailing', {0: [Timestamp('2019-01-01 00:00:40'), 20.03613, -155.82902, 283.0, 0.0]}], 367613000: ['sailing', {0: [Timestamp('2019-01-01 00:00:59'), 19.49072, -155.95341, 161.0, 10.6], 1: [Timestamp('2019-01-01 00:02:32'), 19.48649, -155.95197, 156.2, 10.9]}], 303205000: ['sailing', {0: [Timestamp('2019-01-01 00:00:44'), 21.31102, -157.86523, 301.9, 0.0]}], 367617790: ['sailing', {0: [Timestamp('2019-01-01 00:00:48'), 20.7081, -156.44538, 0.0, 0.0]}], 368728000: ['sailing', {0: [Timestamp('2019-01-01 00:00:50'), 21.33, -157.96683, 287.0, 0.1]}], 319266000: ['sailing', {0: [Timestamp('2019-01-01 00:00:53'), 20.732, -156.90007, 307.8, 0.2]}], 367389160: ['sailing', {0: [Timestamp('2019-01-01 00:01:08'), 21.31027, -157.86926, 173.3, 0.1]}], 367682040: ['sailing', {0: [Timestamp('2019-01-01 00:01:03'), 21.31687, -157.87803, 9.9, 0.0]}], 245011000: ['sailing', {0: [Timestamp('2019-01-01 00:01:08'), 21.2845, -157.91533, 35.0, 0.4]}], 369970216: ['stationary', {0: [Timestamp('2019-01-01 00:01:10'), 21.35318, -157.94026, 178.5, 0.0], 1: [Timestamp('2019-01-01 00:02:19'), 21.35316, -157.94027, 226.4, 0.0], 2: [Timestamp('2019-01-01 00:03:29'), 21.35318, -157.94027, 82.2, 0.0]}], 538002935: ['sailing', {0: [Timestamp('2019-01-01 00:01:10'), 21.2891, -157.92652, 27.0, 0.0]}], 366914420: ['stationary', {0: [Timestamp('2019-01-01 00:00:11'), 21.35899, -157.94259, 306.0, 0.0], 1: [Timestamp('2019-01-01 00:03:05'), 21.35899, -157.94253, 293.6, 0.0]}], 367059880: ['sailing', {0: [Timestamp('2019-01-01 00:01:19'), 21.3165, -157.8766, 260.3, 0.0]}], 338132176: ['sailing', {0: [Timestamp('2019-01-01 00:01:18'), 21.32072, -157.89367, 274.6, 0.0]}], 368001140: ['sailing', {0: [Timestamp('2019-01-01 00:01:09'), 21.31686, -157.87752, 360.0, 0.1]}], 366721530: ['sailing', {0: [Timestamp('2019-01-01 00:01:19'), 21.31303, -157.8663, 3.0, 0.0]}], 367130000: ['sailing', {0: [Timestamp('2019-01-01 00:01:20'), 21.23971, -157.58554, 46.5, 9.8], 1: [Timestamp('2019-01-01 00:02:30'), 21.24188, -157.58297, 48.0, 10.0], 2: [Timestamp('2019-01-01 00:03:41'), 21.2441, -157.58035, 49.0, 9.9]}], 367480810: ['sailing', {0: [Timestamp('2019-01-01 00:01:17'), 21.32064, -157.89197, 294.1, 0.0]}], 338179903: ['sailing', {0: [Timestamp('2019-01-01 00:01:27'), 21.32888, -158.11995, 235.2, 0.0]}], 367151210: ['sailing', {0: [Timestamp('2019-01-01 00:01:32'), 20.89527, -156.46801, 115.2, 0.1]}], 303945000: ['sailing', {0: [Timestamp('2019-01-01 00:01:24'), 21.36282, -157.94454, 88.1, 0.0]}], 367056982: ['sailing', {0: [Timestamp('2019-01-01 00:01:26'), 21.95251, -159.35851, 336.3, 0.1]}], 366827010: ['sailing', {0: [Timestamp('2019-01-01 00:01:27'), 21.31662, -157.87951, 218.3, 0.0]}], 368806000: ['sailing', {0: [Timestamp('2019-01-01 00:01:22'), 21.32978, -157.96632, 311.8, 0.0]}], 367387250: ['sailing', {0: [Timestamp('2019-01-01 00:01:16'), 21.28549, -157.84148, 135.4, 0.0]}], 366791000: ['sailing', {0: [Timestamp('2019-01-01 00:02:06'), 21.31389, -157.8836, 310.1, 0.0]}], 303867000: ['sailing', {0: [Timestamp('2019-01-01 00:01:47'), 21.30609, -157.87149, 250.9, 0.0]}], 338326426: ['sailing', {0: [Timestamp('2019-01-01 00:01:34'), 21.30673, -157.87205, 276.1, 0.0]}], 338091016: ['sailing', {0: [Timestamp('2019-01-01 00:01:52'), 21.28741, -157.84258, 43.7, 0.0]}], 367323070: ['sailing', {0: [Timestamp('2019-01-01 00:01:09'), 19.49883, -155.95147, 292.1, 0.2]}], 303165000: ['sailing', {0: [Timestamp('2019-01-01 00:01:45'), 21.31603, -157.8769, 131.1, 0.0]}], 367719270: ['stationary', {0: [Timestamp('2019-01-01 00:01:34'), 21.31683, -157.87701, 181.2, 0.1], 1: [Timestamp('2019-01-01 00:02:59'), 21.31686, -157.87705, 341.8, 0.5]}], 366853890: ['sailing', {0: [Timestamp('2019-01-01 00:02:01'), 21.35969, -157.94197, 325.3, 0.0]}], 366994450: ['sailing', {0: [Timestamp('2019-01-01 00:01:35'), 20.89645, -156.46597, 122.7, 0.0]}], 367310270: ['sailing', {0: [Timestamp('2019-01-01 00:02:18'), 21.27832, -158.08953, 234.2, 0.5]}], 367507280: ['sailing', {0: [Timestamp('2019-01-01 00:02:10'), 21.31652, -157.87773, 31.0, 0.0]}], 235013738: ['sailing', {0: [Timestamp('2019-01-01 00:01:45'), 21.32792, -158.11996, 283.8, 0.0]}], 255805759: ['sailing', {0: [Timestamp('2019-01-01 00:02:10'), 21.31248, -157.87612, 347.2, 0.1]}], 983192128: ['sailing', {0: [Timestamp('2019-01-01 00:01:59'), 21.29321, -157.85848, 161.8, 0.3]}], 367477330: ['sailing', {0: [Timestamp('2019-01-01 00:02:18'), 21.31351, -157.86647, 64.1, 0.0]}], 367523880: ['sailing', {0: [Timestamp('2019-01-01 00:02:09'), 21.31629, -157.87849, 75.0, 0.0]}], 366135000: ['sailing', {0: [Timestamp('2019-01-01 00:02:20'), 21.31302, -157.86609, 15.0, 0.0]}], 304586000: ['sailing', {0: [Timestamp('2019-01-01 00:02:19'), 21.31299, -157.87966, 322.7, 0.0]}], 367403980: ['sailing', {0: [Timestamp('2019-01-01 00:02:22'), 21.31608, -157.87847, 33.8, 0.0]}], 367133450: ['sailing', {0: [Timestamp('2019-01-01 00:02:24'), 21.30983, -157.86869, 335.6, 0.0]}], 338070129: ['sailing', {0: [Timestamp('2019-01-01 00:02:24'), 21.3287, -158.12071, 0.0, 0.0]}], 367662660: ['sailing', {0: [Timestamp('2019-01-01 00:02:25'), 21.31679, -157.87717, 31.6, 0.0]}], 367762610: ['sailing', {0: [Timestamp('2019-01-01 00:01:51'), 21.31311, -157.86681, 27.3, 0.0]}], 367753850: ['sailing', {0: [Timestamp('2019-01-01 00:02:31'), 19.66943, -156.02247, 356.0, 0.0]}], 367762810: ['sailing', {0: [Timestamp('2019-01-01 00:02:40'), 21.31321, -157.86649, 22.8, 0.0]}], 367645140: ['sailing', {0: [Timestamp('2019-01-01 00:02:28'), 21.31701, -157.878, 142.9, 0.0]}], 366972620: ['sailing', {0: [Timestamp('2019-01-01 00:02:26'), 21.31009, -157.86917, 344.5, 0.0]}], 366953000: ['sailing', {0: [Timestamp('2019-01-01 00:02:42'), 21.30834, -157.87338, 305.0, 0.0]}], 368729000: ['sailing', {0: [Timestamp('2019-01-01 00:02:42'), 21.32993, -157.96646, 46.0, 0.1]}], 303174000: ['sailing', {0: [Timestamp('2019-01-01 00:02:43'), 21.31646, -157.87821, 20.8, 0.0]}], 563020300: ['sailing', {0: [Timestamp('2019-01-01 00:02:50'), 21.27811, -158.07234, 213.1, 0.0]}], 303999000: ['sailing', {0: [Timestamp('2019-01-01 00:02:47'), 21.36601, -157.96636, 129.6, 0.0]}], 244370000: ['sailing', {0: [Timestamp('2019-01-01 00:02:39'), 19.63138, -156.00254, 307.2, 0.3]}], 367578510: ['sailing', {0: [Timestamp('2019-01-01 00:02:44'), 21.31322, -157.86643, 306.9, 0.0]}], 9105773: ['sailing', {0: [Timestamp('2019-01-01 00:03:00'), 21.31603, -157.87848, 189.1, 0.0]}], 367343000: ['sailing', {0: [Timestamp('2019-01-01 00:02:57'), 21.31625, -157.87896, 351.1, 0.0]}], 367514890: ['sailing', {0: [Timestamp('2019-01-01 00:02:26'), 21.31661, -157.8773, 210.3, 0.1]}], 366914410: ['sailing', {0: [Timestamp('2019-01-01 00:03:24'), 21.35951, -157.94225, 347.4, 0.0]}]}\n"
     ]
    }
   ],
   "source": [
    "Vs = {} # Dictionary used for storing vessels during the operations of the algorithm\n",
    "\n",
    "test_df = clean_df[['MMSI', 'BaseDateTime', 'LAT', 'LON', 'COG', 'SOG']].head(200).copy()\n",
    "\n",
    "for i in test_df.index:\n",
    "    mmsi = test_df['MMSI'][i]\n",
    "    timestamp = test_df['BaseDateTime'][i]\n",
    "    lat = test_df['LAT'][i]\n",
    "    lon = test_df['LON'][i]\n",
    "    cog = test_df['COG'][i]\n",
    "    sog = test_df['SOG'][i]\n",
    "\n",
    "    if mmsi not in Vs.keys():\n",
    "        Vs[mmsi] = ['sailing', {0: [timestamp, lat, lon, cog, sog]}]\n",
    "        #a,b,c = Online_WP_Clustering(EN, Vs, Eps, N)\n",
    "        #d,e = Routes_Objects_Manager(Rs, Vs)\n",
    "    else:\n",
    "        curr_key = list(Vs[mmsi][1].keys())[-1] + 1\n",
    "        Vs[mmsi][1].update({curr_key: [timestamp, lat, lon, cog, sog]})\n",
    "        # calculate haversine distance in order to calculate average speed\n",
    "        distance = hs.haversine([lat, lon], [Vs[mmsi][1][curr_key - 1][1], Vs[mmsi][1][curr_key - 1][2]])\n",
    "        time = (timestamp - Vs[mmsi][1][curr_key - 1][0]).total_seconds()\n",
    "        avg_speed = round(((distance*1000)/time) * 1.94384, 2)\n",
    "        print(avg_speed)\n",
    "\n",
    "        if avg_speed < SPEED_THRESHOLD and Vs[mmsi][0] == 'sailing':\n",
    "            Vs[mmsi][0] = 'stationary'\n",
    "            #a,b,c = Online_WP_Clustering(POs, Vs, Eps, N)\n",
    "            #d,e = Routes_Objects_Manager(Rs, Vs)\n",
    "        if Vs[mmsi][0] == 'lost':\n",
    "            Vs[mmsi][0] = 'sailing'\n",
    "            #a,b,c = Online_WP_Clustering(ENs, Vs, Eps, N)\n",
    "            #d,e = Routes_Objects_Manager(Rs, Vs)\n",
    "\n",
    "print(Vs)\n"
   ]
  },
  {
   "cell_type": "markdown",
   "metadata": {},
   "source": [
    "\n",
    "1) Comprendere veramente pseudocodice pallotta\n",
    "2) Estrarre rotte e considerarle come verità assoluta\n",
    "3) Iniziare a trovare modo per beccare anomalia di rotta"
   ]
  }
 ],
 "metadata": {
  "kernelspec": {
   "display_name": "Python 3",
   "language": "python",
   "name": "python3"
  },
  "language_info": {
   "codemirror_mode": {
    "name": "ipython",
    "version": 3
   },
   "file_extension": ".py",
   "mimetype": "text/x-python",
   "name": "python",
   "nbconvert_exporter": "python",
   "pygments_lexer": "ipython3",
   "version": "3.10.12"
  }
 },
 "nbformat": 4,
 "nbformat_minor": 2
}
