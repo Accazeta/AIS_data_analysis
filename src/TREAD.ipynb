{
 "cells": [
  {
   "cell_type": "code",
   "execution_count": 1,
   "metadata": {},
   "outputs": [],
   "source": [
    "# imports\n",
    "import pandas as p\n",
    "import constants as c\n",
    "import folium\n",
    "import os\n",
    "import zipfile\n",
    "from collections import Counter\n",
    "import math\n",
    "import matplotlib.pyplot as plt\n",
    "import statistics as stats\n",
    "import numpy as np\n",
    "import haversine as hs\n",
    "from datetime import datetime\n",
    "import incdbscan\n",
    "\n",
    "\n",
    "# constants\n",
    "LAT_MIN = 18.76651\n",
    "LAT_MAX = 22.63089\n",
    "LON_MIN = -160.11085\n",
    "LON_MAX = -154.38957\n",
    "FOLDER_PATH = \"../dataset/2019_01/\"\n",
    "SPEED_THRESHOLD = 1"
   ]
  },
  {
   "cell_type": "markdown",
   "metadata": {},
   "source": [
    "Extract only the data with the correct latitude and longitude values\n",
    "This operation takes roughly 15-20 seconds per csv file (tested on csv files with > 1 million rows)"
   ]
  },
  {
   "cell_type": "code",
   "execution_count": null,
   "metadata": {},
   "outputs": [],
   "source": [
    "final_df = p.DataFrame()\n",
    "\n",
    "# list all the files in the specified directory\n",
    "filenames = os.listdir(FOLDER_PATH)\n",
    "# and sort them alphabetically\n",
    "filenames.sort()\n",
    "# for each file\n",
    "for file_name in filenames:\n",
    "    # only iterate over zip files\n",
    "    if file_name.endswith('.zip'):\n",
    "        file_path = os.path.join(FOLDER_PATH, file_name)\n",
    "        # if the csv file has yet to be extracted\n",
    "        csv_filename = file_name.replace(\".zip\", \".csv\")\n",
    "        if not(os.path.exists(os.path.join(FOLDER_PATH, csv_filename))):\n",
    "            # open the zip file and extract it\n",
    "            with zipfile.ZipFile(file_path, 'r') as zip_file:\n",
    "                csv_filename = zip_file.namelist()[0]\n",
    "                zip_file.extractall(FOLDER_PATH)\n",
    "        # create a dataframe using the extracted csv file\n",
    "        full_df = p.read_csv(os.path.join(FOLDER_PATH, csv_filename))\n",
    "        # extract only the rows of interest (with LAT and LON values between the specified bounds)\n",
    "        filtered_df = full_df[\n",
    "                                (full_df['LAT'].between(LAT_MIN, LAT_MAX)) &\n",
    "                                (full_df['LON'].between(LON_MIN, LON_MAX)) \n",
    "                            ]\n",
    "        # and append the extracted rows to the final dataframe\n",
    "        final_df = p.concat([final_df, filtered_df], ignore_index = True)\n",
    "\n",
    "print(f\"Final dataframe len: {final_df.shape[0]}\")\n",
    "print(final_df.head())\n",
    "      \n",
    "    "
   ]
  },
  {
   "cell_type": "markdown",
   "metadata": {},
   "source": [
    "Separate code snippet used for exporting the final dataframe as a csv file.\n",
    "This is necessary as the above code snippet takes ~8 minutes read and filter 31 csv files.\n",
    "By exporting the resulting df as a csv file it's possible import it again for the following part of this notebook"
   ]
  },
  {
   "cell_type": "code",
   "execution_count": 2,
   "metadata": {},
   "outputs": [],
   "source": [
    "#OUTPUT_PATH = os.getcwd()\n",
    "OUTPUT_PATH = FOLDER_PATH\n",
    "FILE_NAME = '2019_01.csv' #specify file name (don't forget the .csv extension)\n",
    "#final_df.to_csv(OUTPUT_PATH + '/' + FILE_NAME, index = False)\n",
    "\n",
    "#print(f\"Final dataframe len: {final_df.shape[0]}\")\n"
   ]
  },
  {
   "cell_type": "markdown",
   "metadata": {},
   "source": [
    "Read the csv file and use it as the final data source\n",
    "(The code snippet below should be used only if the code snippet #2 was not executed)"
   ]
  },
  {
   "cell_type": "code",
   "execution_count": 3,
   "metadata": {},
   "outputs": [
    {
     "name": "stdout",
     "output_type": "stream",
     "text": [
      "Final dataframe len: 1924108\n"
     ]
    }
   ],
   "source": [
    "# read csv\n",
    "final_df = p.read_csv(OUTPUT_PATH + FILE_NAME)\n",
    "final_df.drop_duplicates(keep='first', inplace=True, ignore_index=True) # drop duplicates\n",
    "final_df.BaseDateTime = p.to_datetime(final_df.BaseDateTime) # Convert DateTime into more readable format\n",
    "\n",
    "print(f\"Final dataframe len: {final_df.shape[0]}\")"
   ]
  },
  {
   "cell_type": "markdown",
   "metadata": {},
   "source": [
    "Some stats about the imported dataframe\n",
    "In order to make the histogram below, occurrencies are rounded to the top hundred (ex: 33 -> 100, 244 -> 300, etc...)\n",
    "This is done in order to have an idea about how many ships have negligible amount of records.\n",
    "In the next code snippet (#10) the threshold is set to 100 and consequently all vessels with less than 100 data points are removed from the dataset"
   ]
  },
  {
   "cell_type": "code",
   "execution_count": 4,
   "metadata": {},
   "outputs": [
    {
     "name": "stdout",
     "output_type": "stream",
     "text": [
      "Num of rows: 1924108\n",
      "Num of vessels: 423\n",
      "Avg entries for each vessel 4548.718676122931\n",
      "Variance: 37071194.430148005\n",
      "Standard Deviation: 6088.611863975893\n",
      "Max entries found for the same ship: 28648\n",
      "Min entries found for the same ship: 1\n",
      "Final dataframe len: 1924108, num of vessels: 423\n"
     ]
    },
    {
     "data": {
      "image/png": "[encoded data removed]",
      "text/plain": [
       "<Figure size 640x480 with 1 Axes>"
      ]
     },
     "metadata": {},
     "output_type": "display_data"
    }
   ],
   "source": [
    "# Number of entries (number of rows of the dataframe)\n",
    "num_of_rows = final_df.index.shape[0]\n",
    "print(\"Num of rows: \" + str(num_of_rows))\n",
    "\n",
    "# Extract all the unique MMSIs\n",
    "unique_vessels_ids = p.unique(final_df['MMSI']).tolist()\n",
    "num_of_vessels = len(unique_vessels_ids)\n",
    "print(\"Num of vessels: \" + str(num_of_vessels))\n",
    "\n",
    "# Calculate the exact number of entries for each ship\n",
    "vessels_entries_dict = dict(Counter(final_df['MMSI'].to_list())) # save it in a dict\n",
    "vessels_entries = list(vessels_entries_dict.values()) # save just the values in a list\n",
    "vessels_entries.sort()\n",
    "rounded_vessels_entries = [math.ceil(x/100) * 100 for x in vessels_entries]\n",
    "\n",
    "print(f\"Avg entries for each vessel {stats.mean(vessels_entries)}\")\n",
    "print(f\"Variance: {stats.variance(vessels_entries)}\")\n",
    "print(f\"Standard Deviation: {stats.stdev(vessels_entries)}\")\n",
    "print(f\"Max entries found for the same ship: {vessels_entries[-1]}\")\n",
    "print(f\"Min entries found for the same ship: {vessels_entries[0]}\")\n",
    "\n",
    "n, bins, patches = plt.hist(x=rounded_vessels_entries, bins='auto', color='orange', edgecolor = 'black')\n",
    "\n",
    "\n",
    "print(f\"Final dataframe len: {final_df.shape[0]}, num of vessels: {len(vessels_entries)}\")"
   ]
  },
  {
   "cell_type": "markdown",
   "metadata": {},
   "source": [
    "Remove ships with not enough entries"
   ]
  },
  {
   "cell_type": "code",
   "execution_count": 5,
   "metadata": {},
   "outputs": [
    {
     "name": "stdout",
     "output_type": "stream",
     "text": [
      "Final dataframe len: 1924108, num of vessels: 423, unwanted vessels: 71\n",
      "Cleaned dataframe len: 1922770, num of vessels: 352\n"
     ]
    }
   ],
   "source": [
    "THRESHOLD = 100\n",
    "\n",
    "mmsi_to_be_removed = [x for x in vessels_entries_dict.keys() if vessels_entries_dict[x] <= THRESHOLD]\n",
    "print(f\"Final dataframe len: {final_df.shape[0]}, num of vessels: {len(vessels_entries)}, unwanted vessels: {len(mmsi_to_be_removed)}\")\n",
    "clean_df = final_df.copy()\n",
    "\n",
    "for unwanted_mmsi in mmsi_to_be_removed:\n",
    "    clean_df = clean_df.drop(clean_df[clean_df['MMSI'] == unwanted_mmsi].index)\n",
    "\n",
    "clean_df.sort_values(by='BaseDateTime', inplace=True, ignore_index=True)\n",
    "\n",
    "print(f\"Cleaned dataframe len: {clean_df.shape[0]}, num of vessels: {len(p.unique(clean_df['MMSI']))}\")"
   ]
  },
  {
   "cell_type": "markdown",
   "metadata": {},
   "source": [
    "Export the cleaned dataframe in order to have a backup copy in a csv file"
   ]
  },
  {
   "cell_type": "code",
   "execution_count": 6,
   "metadata": {},
   "outputs": [],
   "source": [
    "#OUTPUT_PATH = os.getcwd()\n",
    "OUTPUT_PATH = FOLDER_PATH\n",
    "FILE_NAME = 'cleaned_2019_01.csv' #specify file name (don't forget the .csv extension)\n",
    "#clean_df.to_csv(OUTPUT_PATH + '/' + FILE_NAME, index = False)\n",
    "\n",
    "#print(f\"Final dataframe len: {final_df.shape[0]}\")"
   ]
  },
  {
   "cell_type": "markdown",
   "metadata": {},
   "source": [
    "Create a new histogram using the \"cleaned\" data from the clean_df"
   ]
  },
  {
   "cell_type": "code",
   "execution_count": 7,
   "metadata": {},
   "outputs": [
    {
     "name": "stdout",
     "output_type": "stream",
     "text": [
      "Avg entries for each vessel 5462.414772727273\n",
      "Variance: 39581859.54827117\n",
      "Standard Deviation: 6291.411570408597\n",
      "Max entries found for the same ship: 28648\n",
      "Min entries found for the same ship: 105\n"
     ]
    },
    {
     "data": {
      "image/png": "[encoded data removed]",
      "text/plain": [
       "<Figure size 640x480 with 1 Axes>"
      ]
     },
     "metadata": {},
     "output_type": "display_data"
    }
   ],
   "source": [
    "clean_vessel_entries = list(Counter(clean_df['MMSI'].to_list()).values())\n",
    "\n",
    "rounded_clean_vessels_entries = [math.ceil(x/100) * 100 for x in clean_vessel_entries]\n",
    "\n",
    "print(f\"Avg entries for each vessel {stats.mean(clean_vessel_entries)}\")\n",
    "print(f\"Variance: {stats.variance(clean_vessel_entries)}\")\n",
    "print(f\"Standard Deviation: {stats.stdev(clean_vessel_entries)}\")\n",
    "print(f\"Max entries found for the same ship: {max(clean_vessel_entries)}\")\n",
    "print(f\"Min entries found for the same ship: {min(clean_vessel_entries)}\")\n",
    "\n",
    "n, bins, patches = plt.hist(x=rounded_clean_vessels_entries, bins='auto', color='green', edgecolor = 'black', )"
   ]
  },
  {
   "cell_type": "markdown",
   "metadata": {},
   "source": [
    "Print a few points on the map just to check that everything works"
   ]
  },
  {
   "cell_type": "code",
   "execution_count": null,
   "metadata": {},
   "outputs": [],
   "source": [
    "map = folium.Map(location=[21, -158], tiles=\"OpenStreetMap\", zoom_start=9)\n",
    "\n",
    "clean_df.sort_values(by='MMSI', inplace=True)\n",
    "\n",
    "#test ranges (replace x and y below): [2:474], [474, 1364], [1364,1837], [1837:2285], [2285, 2725]\n",
    "x = 2\n",
    "y = 30000\n",
    "# extract from the dataset latitude and longitude of the values in range [x:y)\n",
    "loc = [[str(mmsi), lat, lon] for (mmsi, lat, lon) in zip(clean_df.iloc[x:y]['MMSI'], clean_df.iloc[x:y]['LAT'], clean_df.iloc[x:y]['LON'])]\n",
    "\n",
    "appendDF = p.DataFrame(loc)\n",
    "appendDF.columns = ['MMSI', 'LAT', 'LON'] # create a temporary df with the extracted mmsi, lat. and long. values\n",
    "\n",
    "# CircleMarker requires each point to be added one by one\n",
    "# The temp function below is applied to all points in the tempDF\n",
    "def tempFunc(row):\n",
    "    folium.CircleMarker(\n",
    "        location=[row['LAT'],row['LON']],\n",
    "        radius=0.5\n",
    "        ).add_child(folium.Popup(row['MMSI'])).add_to(map)\n",
    "\n",
    "# Using 'apply' with a custom function saves a bit of time (compared to a simple for-loop)\n",
    "appendDF.apply(tempFunc, axis=1)\n",
    "\n",
    "map "
   ]
  },
  {
   "cell_type": "markdown",
   "metadata": {},
   "source": [
    "Source: Pallotta, G., Vespe, M., & Bryan, K. (2013). Vessel Pattern Knowledge Discovery from AIS Data: A Framework for Anomaly Detection and Route Prediction. Entropy, 15(12), 2218–2245. https://doi.org/10.3390/e15062218\n",
    "\n",
    "‌TREAD algorithm (pages 2223-2231)"
   ]
  },
  {
   "cell_type": "code",
   "execution_count": 37,
   "metadata": {},
   "outputs": [
    {
     "name": "stdout",
     "output_type": "stream",
     "text": [
      "      index       MMSI        BaseDateTime       LAT        LON   COG   SOG  \\\n",
      "0   1877574  563004500 2019-01-31 05:46:29  19.88157 -158.87368  41.1  13.5   \n",
      "1   1877925  563004500 2019-01-31 05:56:49  19.91112 -158.84769  42.9  13.3   \n",
      "2   1878067  563004500 2019-01-31 05:59:49  19.91955 -158.84007  41.6  12.8   \n",
      "3   1878183  563004500 2019-01-31 06:01:21  19.92374 -158.83634  39.4  13.1   \n",
      "4   1878668  563004500 2019-01-31 06:11:19  19.95071 -158.81213  39.6  11.8   \n",
      "..      ...        ...                 ...       ...        ...   ...   ...   \n",
      "95  1885880  563004500 2019-01-31 09:16:10  20.44765 -158.46426  30.3  11.6   \n",
      "96  1886017  563004500 2019-01-31 09:19:20  20.45644 -158.45873  30.1  11.2   \n",
      "97  1886131  563004500 2019-01-31 09:22:20  20.46466 -158.45362  30.8  11.3   \n",
      "98  1886216  563004500 2019-01-31 09:24:49  20.47148 -158.44942  30.5  11.4   \n",
      "99  1886276  563004500 2019-01-31 09:26:20  20.47567 -158.44681  31.1  11.4   \n",
      "\n",
      "    Avg_Speed   Status  \n",
      "0       13.50  sailing  \n",
      "1       10.30      NaN  \n",
      "2       10.12      NaN  \n",
      "3        9.84      NaN  \n",
      "4        9.75      NaN  \n",
      "..        ...      ...  \n",
      "95       9.98      NaN  \n",
      "96      10.00      NaN  \n",
      "97       9.87      NaN  \n",
      "98       9.89      NaN  \n",
      "99       9.95      NaN  \n",
      "\n",
      "[100 rows x 9 columns]\n"
     ]
    }
   ],
   "source": [
    "def my_fun(row):\n",
    "    first_coords = (row['LAT_left'], row['LON_left'])\n",
    "    second_coords = (row['LAT_right'], row['LON_left'])\n",
    "    distance = hs.haversine(first_coords, second_coords)\n",
    "    time = (row['BaseDateTime_right'] - row['BaseDateTime_left']).total_seconds()\n",
    "    return round(((distance)/time) * 1943.84, 2) #Measured in knots\n",
    "\n",
    "\n",
    "V_s = [] # List of dataframes. Each dataframe represents a Vessel (and its journey)\n",
    "\n",
    "STATIONARY_THRESHOLD = 1\n",
    "\n",
    "# From the full db, select only the necessary columns\n",
    "clean_df = clean_df[['MMSI', 'BaseDateTime', 'LAT', 'LON', 'COG', 'SOG']].copy()\n",
    "# Drop duplicates, just in case\n",
    "clean_df.drop_duplicates(subset=['MMSI', 'BaseDateTime'], keep='first', inplace=True, ignore_index=True)\n",
    "\n",
    "# for each ship\n",
    "for mmsi in p.unique(clean_df['MMSI']):\n",
    "    # Extract all points generated by the ship\n",
    "    appendDF = p.DataFrame(clean_df[clean_df['MMSI'] == mmsi])\n",
    "    # Add a new column for storing the average speed between the current point and the previous\n",
    "    appendDF['Avg_Speed'] = np.nan\n",
    "    # Add a new column for storing the status of the ship (according to TREAD algorithm, see above)\n",
    "    appendDF['Status'] = np.nan\n",
    "    # In the first appearence the ship is set to \"sailing\"\n",
    "    appendDF.at[appendDF.index[0], 'Status'] = 'sailing'\n",
    "    # Rename the dataframe to the corresponding ship MMSI\n",
    "    appendDF.Name = mmsi\n",
    "    # reset the index of the dataframe\n",
    "    appendDF.reset_index(inplace=True)\n",
    "\n",
    "    # next step: calculate the avg_speed (distance/time) in order to find stationary points\n",
    "    # for the distance, the haversine distance is used in order to account for earth curvature\n",
    "    \n",
    "    # save a shifted-by-one-row version of the db, so that \"previous\" points can be joined with \"current\" points\n",
    "    shiftedDF = appendDF[['BaseDateTime','LAT', 'LON']].shift(1).copy()\n",
    "    # the resulting df has (for each row) a pair of points. The left one is antecedent to the roght one\n",
    "    pairsOfPointsDF = shiftedDF.iloc[1:].join(appendDF[['BaseDateTime', 'LAT', 'LON']].iloc[1:], lsuffix='_left', rsuffix='_right')\n",
    "    # calculate average speed for each row of the 'pairsOfPointsDF' df (each row represents a pair of points)\n",
    "    appendDF['Avg_Speed'] = pairsOfPointsDF.apply(my_fun, axis=1)\n",
    "    # The first row of each ship has its \"Avg_Speed\" field set equal to the SOG\n",
    "    appendDF.at[appendDF.index[0], 'Avg_Speed'] = appendDF.at[appendDF.index[0], 'SOG']\n",
    "    # save the dataframe to a list\n",
    "    V_s.append(appendDF)\n",
    "\n",
    "print(V_s[-1].head(100))"
   ]
  },
  {
   "cell_type": "code",
   "execution_count": 68,
   "metadata": {},
   "outputs": [
    {
     "name": "stdout",
     "output_type": "stream",
     "text": [
      "         index       MMSI        BaseDateTime       LAT        LON    COG  \\\n",
      "10640  1481955  338070127 2019-01-24 14:18:23  21.31309 -157.86718    0.0   \n",
      "10641  1482098  338070127 2019-01-24 14:21:23  21.31310 -157.86716    0.0   \n",
      "10642  1482248  338070127 2019-01-24 14:24:24  21.31310 -157.86717    0.0   \n",
      "10643  1482395  338070127 2019-01-24 14:27:23  21.31309 -157.86714  142.5   \n",
      "10644  1482441  338070127 2019-01-24 14:28:24  21.31215 -157.86705  174.5   \n",
      "...        ...        ...                 ...       ...        ...    ...   \n",
      "10780  1496971  338070127 2019-01-24 19:36:17  21.31311 -157.86716  141.1   \n",
      "10781  1497119  338070127 2019-01-24 19:39:47  21.31312 -157.86716    1.4   \n",
      "10782  1497233  338070127 2019-01-24 19:42:45  21.31312 -157.86716    0.0   \n",
      "10783  1497357  338070127 2019-01-24 19:45:47  21.31312 -157.86717    0.0   \n",
      "10784  1497583  338070127 2019-01-24 19:51:46  21.31312 -157.86715   31.7   \n",
      "\n",
      "       SOG  Avg_Speed      Status  \n",
      "10640  0.0       0.00  stationary  \n",
      "10641  0.0       0.01  stationary  \n",
      "10642  0.0       0.00  stationary  \n",
      "10643  0.9       0.01  stationary  \n",
      "10644  8.2       3.33     sailing  \n",
      "...    ...        ...         ...  \n",
      "10780  0.0       0.02  stationary  \n",
      "10781  0.0       0.01  stationary  \n",
      "10782  0.0       0.00  stationary  \n",
      "10783  0.0       0.00  stationary  \n",
      "10784  0.0       0.00  stationary  \n",
      "\n",
      "[145 rows x 9 columns]\n"
     ]
    },
    {
     "data": {
      "text/plain": [
       "[<matplotlib.lines.Line2D at 0x7fc53a72c340>]"
      ]
     },
     "execution_count": 68,
     "metadata": {},
     "output_type": "execute_result"
    },
    {
     "data": {
      "image/png": "[encoded data removed]",
      "text/plain": [
       "<Figure size 640x480 with 1 Axes>"
      ]
     },
     "metadata": {},
     "output_type": "display_data"
    }
   ],
   "source": [
    "for shipDF in V_s:\n",
    "    # for each point where the avg_speed is lower than the given threshold, set its status to 'stationary'\n",
    "    shipDF['Status'] = np.where(shipDF['Avg_Speed'] < STATIONARY_THRESHOLD, 'stationary', shipDF['Status'])\n",
    "\n",
    "    shipDF['Status'] = np.where(shipDF['Avg_Speed'] >= STATIONARY_THRESHOLD, 'sailing', shipDF['Status'])\n",
    "\n",
    "interval = range(10640,10785)\n",
    "\n",
    "print(V_s[3].iloc[interval])\n",
    "\n",
    "plt.plot(V_s[3]['Avg_Speed'].iloc[interval])\n",
    "\n",
    "plt.plot(V_s[3]['SOG'].iloc[interval])\n"
   ]
  }
 ],
 "metadata": {
  "kernelspec": {
   "display_name": "Python 3",
   "language": "python",
   "name": "python3"
  },
  "language_info": {
   "codemirror_mode": {
    "name": "ipython",
    "version": 3
   },
   "file_extension": ".py",
   "mimetype": "text/x-python",
   "name": "python",
   "nbconvert_exporter": "python",
   "pygments_lexer": "ipython3",
   "version": "3.10.12"
  }
 },
 "nbformat": 4,
 "nbformat_minor": 2
}
