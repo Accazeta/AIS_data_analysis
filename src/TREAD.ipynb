{
 "cells": [
  {
   "cell_type": "code",
   "execution_count": 110,
   "metadata": {},
   "outputs": [],
   "source": [
    "# imports\n",
    "import pandas as p\n",
    "import folium\n",
    "import os\n",
    "import zipfile\n",
    "from collections import Counter\n",
    "import math\n",
    "import matplotlib.pyplot as plt\n",
    "import statistics as stats\n",
    "import geopy.distance as geopydist # used for calculating geodesic distance\n",
    "import numpy as np\n",
    "from sklearn.preprocessing import StandardScaler\n",
    "from sklearn.cluster import DBSCAN\n",
    "from sklearn.cluster import HDBSCAN\n",
    "from datetime import datetime, timedelta\n",
    "\n",
    "\n",
    "# constants\n",
    "LAT_MIN = 18.76651\n",
    "LAT_MAX = 22.63089\n",
    "LON_MIN = -160.11085\n",
    "LON_MAX = -154.38957\n",
    "FOLDER_PATH = \"../dataset/2019_01/\"\n",
    "SPEED_THRESHOLD = 0.3\n",
    "KNOTS_CONST = 1.943845249221964 # constant used to convert from m/s to nautical knots"
   ]
  },
  {
   "cell_type": "markdown",
   "metadata": {},
   "source": [
    "Extract only the data with the correct latitude and longitude values\n",
    "This operation takes roughly 15-20 seconds per csv file (tested on csv files with > 1 million rows)"
   ]
  },
  {
   "cell_type": "code",
   "execution_count": null,
   "metadata": {},
   "outputs": [],
   "source": [
    "final_df = p.DataFrame()\n",
    "\n",
    "# list all the files in the specified directory\n",
    "filenames = os.listdir(FOLDER_PATH)\n",
    "# and sort them alphabetically\n",
    "filenames.sort()\n",
    "# for each file\n",
    "for file_name in filenames:\n",
    "    # only iterate over zip files\n",
    "    if file_name.endswith('.zip'):\n",
    "        file_path = os.path.join(FOLDER_PATH, file_name)\n",
    "        # if the csv file has yet to be extracted\n",
    "        csv_filename = file_name.replace(\".zip\", \".csv\")\n",
    "        if not(os.path.exists(os.path.join(FOLDER_PATH, csv_filename))):\n",
    "            # open the zip file and extract it\n",
    "            with zipfile.ZipFile(file_path, 'r') as zip_file:\n",
    "                csv_filename = zip_file.namelist()[0]\n",
    "                zip_file.extractall(FOLDER_PATH)\n",
    "        # create a dataframe using the extracted csv file\n",
    "        full_df = p.read_csv(os.path.join(FOLDER_PATH, csv_filename))\n",
    "        # extract only the rows of interest (with LAT and LON values between the specified bounds)\n",
    "        filtered_df = full_df[\n",
    "                                (full_df['LAT'].between(LAT_MIN, LAT_MAX)) &\n",
    "                                (full_df['LON'].between(LON_MIN, LON_MAX)) \n",
    "                            ]\n",
    "        # and append the extracted rows to the final dataframe\n",
    "        final_df = p.concat([final_df, filtered_df], ignore_index = True)\n",
    "\n",
    "print(f\"Final dataframe len: {final_df.shape[0]}\")\n",
    "print(final_df.head())\n",
    "      \n",
    "    "
   ]
  },
  {
   "cell_type": "markdown",
   "metadata": {},
   "source": [
    "Separate code snippet used for exporting the final dataframe as a csv file.\n",
    "This is necessary as the above code snippet takes ~8 minutes read and filter 31 csv files.\n",
    "By exporting the resulting df as a csv file it's possible import it again for the following part of this notebook"
   ]
  },
  {
   "cell_type": "code",
   "execution_count": 97,
   "metadata": {},
   "outputs": [],
   "source": [
    "#OUTPUT_PATH = os.getcwd()\n",
    "OUTPUT_PATH = FOLDER_PATH\n",
    "FILE_NAME = '2019_01.csv' #specify file name (don't forget the .csv extension)\n",
    "#final_df.to_csv(OUTPUT_PATH + '/' + FILE_NAME, index = False)\n",
    "\n",
    "#print(f\"Final dataframe len: {final_df.shape[0]}\")\n"
   ]
  },
  {
   "cell_type": "markdown",
   "metadata": {},
   "source": [
    "Read the csv file and use it as the final data source\n",
    "(The code snippet below should be used only if the code snippet #2 was not executed)"
   ]
  },
  {
   "cell_type": "code",
   "execution_count": 98,
   "metadata": {},
   "outputs": [
    {
     "name": "stdout",
     "output_type": "stream",
     "text": [
      "Final dataframe len: 1924108\n"
     ]
    }
   ],
   "source": [
    "# read csv\n",
    "final_df = p.read_csv(OUTPUT_PATH + FILE_NAME)\n",
    "final_df.drop_duplicates(keep='first', inplace=True, ignore_index=True) # drop duplicates\n",
    "final_df.BaseDateTime = p.to_datetime(final_df.BaseDateTime) # Convert DateTime into more readable format\n",
    "\n",
    "print(f\"Final dataframe len: {final_df.shape[0]}\")"
   ]
  },
  {
   "cell_type": "markdown",
   "metadata": {},
   "source": [
    "Some stats about the imported dataframe</br>\n",
    "In order to make the histogram below, occurrencies are rounded to the top hundred (ex: 33 -> 100, 244 -> 300, etc...)</br>\n",
    "This is done in order to have an idea about how many ships have negligible amount of records.</br>\n",
    "In the next code snippet (#10) the threshold is set to 100 and consequently all vessels with less than 100 data points are removed from the dataset</br>"
   ]
  },
  {
   "cell_type": "code",
   "execution_count": 99,
   "metadata": {},
   "outputs": [
    {
     "name": "stdout",
     "output_type": "stream",
     "text": [
      "Num of rows: 1924108\n",
      "Num of vessels: 423\n",
      "Avg entries for each vessel 4548.718676122931\n",
      "Variance: 37071194.430148005\n",
      "Standard Deviation: 6088.611863975893\n",
      "Max entries found for the same ship: 28648\n",
      "Min entries found for the same ship: 1\n",
      "Final dataframe len: 1924108, num of vessels: 423\n"
     ]
    },
    {
     "data": {
      "image/png": "[encoded data removed]",
      "text/plain": [
       "<Figure size 640x480 with 1 Axes>"
      ]
     },
     "metadata": {},
     "output_type": "display_data"
    }
   ],
   "source": [
    "# Number of entries (number of rows of the dataframe)\n",
    "num_of_rows = final_df.index.shape[0]\n",
    "print(\"Num of rows: \" + str(num_of_rows))\n",
    "\n",
    "# Extract all the unique MMSIs\n",
    "unique_vessels_ids = p.unique(final_df['MMSI']).tolist()\n",
    "num_of_vessels = len(unique_vessels_ids)\n",
    "print(\"Num of vessels: \" + str(num_of_vessels))\n",
    "\n",
    "# Calculate the exact number of entries for each ship\n",
    "vessels_entries_dict = dict(Counter(final_df['MMSI'].to_list())) # save it in a dict\n",
    "vessels_entries = list(vessels_entries_dict.values()) # save just the values in a list\n",
    "vessels_entries.sort()\n",
    "rounded_vessels_entries = [math.ceil(x/100) * 100 for x in vessels_entries]\n",
    "\n",
    "print(f\"Avg entries for each vessel {stats.mean(vessels_entries)}\")\n",
    "print(f\"Variance: {stats.variance(vessels_entries)}\")\n",
    "print(f\"Standard Deviation: {stats.stdev(vessels_entries)}\")\n",
    "print(f\"Max entries found for the same ship: {vessels_entries[-1]}\")\n",
    "print(f\"Min entries found for the same ship: {vessels_entries[0]}\")\n",
    "\n",
    "n, bins, patches = plt.hist(x=rounded_vessels_entries, bins='auto', color='orange', edgecolor = 'black')\n",
    "\n",
    "\n",
    "print(f\"Final dataframe len: {final_df.shape[0]}, num of vessels: {len(vessels_entries)}\")"
   ]
  },
  {
   "cell_type": "markdown",
   "metadata": {},
   "source": [
    "Remove ships with not enough entries"
   ]
  },
  {
   "cell_type": "code",
   "execution_count": 100,
   "metadata": {},
   "outputs": [
    {
     "name": "stdout",
     "output_type": "stream",
     "text": [
      "Final dataframe len: 1924108, num of vessels: 423, unwanted vessels: 71\n",
      "Cleaned dataframe len: 1922770, num of vessels: 352\n"
     ]
    }
   ],
   "source": [
    "THRESHOLD = 100\n",
    "\n",
    "mmsi_to_be_removed = [x for x in vessels_entries_dict.keys() if vessels_entries_dict[x] <= THRESHOLD]\n",
    "print(f\"Final dataframe len: {final_df.shape[0]}, num of vessels: {len(vessels_entries)}, unwanted vessels: {len(mmsi_to_be_removed)}\")\n",
    "clean_df = final_df.copy()\n",
    "\n",
    "for unwanted_mmsi in mmsi_to_be_removed:\n",
    "    clean_df = clean_df.drop(clean_df[clean_df['MMSI'] == unwanted_mmsi].index)\n",
    "\n",
    "clean_df.sort_values(by='BaseDateTime', inplace=True, ignore_index=True)\n",
    "\n",
    "print(f\"Cleaned dataframe len: {clean_df.shape[0]}, num of vessels: {len(p.unique(clean_df['MMSI']))}\")"
   ]
  },
  {
   "cell_type": "markdown",
   "metadata": {},
   "source": [
    "Export the cleaned dataframe in order to have a backup copy in a csv file"
   ]
  },
  {
   "cell_type": "code",
   "execution_count": 101,
   "metadata": {},
   "outputs": [],
   "source": [
    "#OUTPUT_PATH = os.getcwd()\n",
    "OUTPUT_PATH = FOLDER_PATH\n",
    "FILE_NAME = 'cleaned_2019_01.csv' #specify file name (don't forget the .csv extension)\n",
    "#clean_df.to_csv(OUTPUT_PATH + '/' + FILE_NAME, index = False)\n",
    "\n",
    "#print(f\"Final dataframe len: {final_df.shape[0]}\")"
   ]
  },
  {
   "cell_type": "markdown",
   "metadata": {},
   "source": [
    "Create a new histogram using the \"cleaned\" data from the clean_df"
   ]
  },
  {
   "cell_type": "code",
   "execution_count": 102,
   "metadata": {},
   "outputs": [
    {
     "name": "stdout",
     "output_type": "stream",
     "text": [
      "Avg entries for each vessel 5462.414772727273\n",
      "Variance: 39581859.54827117\n",
      "Standard Deviation: 6291.411570408597\n",
      "Max entries found for the same ship: 28648\n",
      "Min entries found for the same ship: 105\n"
     ]
    },
    {
     "data": {
      "image/png": "[encoded data removed]",
      "text/plain": [
       "<Figure size 640x480 with 1 Axes>"
      ]
     },
     "metadata": {},
     "output_type": "display_data"
    }
   ],
   "source": [
    "clean_vessel_entries = list(Counter(clean_df['MMSI'].to_list()).values())\n",
    "\n",
    "rounded_clean_vessels_entries = [math.ceil(x/100) * 100 for x in clean_vessel_entries]\n",
    "\n",
    "print(f\"Avg entries for each vessel {stats.mean(clean_vessel_entries)}\")\n",
    "print(f\"Variance: {stats.variance(clean_vessel_entries)}\")\n",
    "print(f\"Standard Deviation: {stats.stdev(clean_vessel_entries)}\")\n",
    "print(f\"Max entries found for the same ship: {max(clean_vessel_entries)}\")\n",
    "print(f\"Min entries found for the same ship: {min(clean_vessel_entries)}\")\n",
    "\n",
    "n, bins, patches = plt.hist(x=rounded_clean_vessels_entries, bins='auto', color='green', edgecolor = 'black', )"
   ]
  },
  {
   "cell_type": "markdown",
   "metadata": {},
   "source": [
    "Print a few points on the map just to check that everything works"
   ]
  },
  {
   "cell_type": "code",
   "execution_count": null,
   "metadata": {},
   "outputs": [],
   "source": [
    "map = folium.Map(location=[21, -158], tiles=\"OpenStreetMap\", zoom_start=9)\n",
    "\n",
    "clean_df.sort_values(by='MMSI', inplace=True)\n",
    "\n",
    "#test ranges (replace x and y below): [2:474], [474, 1364], [1364,1837], [1837:2285], [2285, 2725]\n",
    "x = 2\n",
    "y = 30000\n",
    "# extract from the dataset latitude and longitude of the values in range [x:y)\n",
    "loc = [[str(mmsi), lat, lon] for (mmsi, lat, lon) in zip(clean_df.iloc[x:y]['MMSI'], clean_df.iloc[x:y]['LAT'], clean_df.iloc[x:y]['LON'])]\n",
    "\n",
    "appendDF = p.DataFrame(loc)\n",
    "appendDF.columns = ['MMSI', 'LAT', 'LON'] # create a temporary df with the extracted mmsi, lat. and long. values\n",
    "\n",
    "# CircleMarker requires each point to be added one by one\n",
    "# The temp function below is applied to all points in the tempDF\n",
    "def tempFunc(row):\n",
    "    folium.CircleMarker(\n",
    "        location=[row['LAT'],row['LON']],\n",
    "        radius=0.5\n",
    "        ).add_child(folium.Popup(row['MMSI'])).add_to(map)\n",
    "\n",
    "# Using 'apply' with a custom function saves a bit of time (compared to a simple for-loop)\n",
    "appendDF.apply(tempFunc, axis=1)\n",
    "\n",
    "map "
   ]
  },
  {
   "cell_type": "markdown",
   "metadata": {},
   "source": [
    "Source: Pallotta, G., Vespe, M., & Bryan, K. (2013). Vessel Pattern Knowledge Discovery from AIS Data: A Framework for Anomaly Detection and Route Prediction. Entropy, 15(12), 2218–2245. https://doi.org/10.3390/e15062218\n",
    "\n",
    "‌TREAD algorithm (pages 2223-2231)"
   ]
  },
  {
   "cell_type": "code",
   "execution_count": 104,
   "metadata": {},
   "outputs": [],
   "source": [
    "def my_fun(timestamp_left, LAT_left, LON_left, timestamp_right, LAT_right, LON_right):\n",
    "    first_coords = (LAT_left, LON_left)\n",
    "    second_coords = (LAT_right, LON_right)\n",
    "    meters = geopydist.distance(first_coords, second_coords).m\n",
    "    seconds = (p.Timestamp(timestamp_right) - p.Timestamp(timestamp_left)).total_seconds()\n",
    "    return round(((meters)/seconds) * KNOTS_CONST, 2) # Measured in knots\n",
    "\n",
    "V_s = [] # List of dataframes. Each dataframe represents a Vessel (and its journey)\n",
    "\n",
    "# From the full db, select only the necessary columns\n",
    "clean_df = clean_df[['MMSI', 'BaseDateTime', 'LAT', 'LON', 'COG', 'SOG']].copy()\n",
    "# Drop duplicates, just in case\n",
    "clean_df.drop_duplicates(subset=['MMSI', 'BaseDateTime'], keep='first', inplace=True, ignore_index=True)\n",
    "\n",
    "# for each ship\n",
    "for mmsi in p.unique(clean_df['MMSI']):\n",
    "    # Extract all points generated by the ship\n",
    "    appendDF = p.DataFrame(clean_df[clean_df['MMSI'] == mmsi])\n",
    "    # Add a new column for storing the average speed between the current point and the previous\n",
    "    appendDF['Avg_Speed'] = np.nan\n",
    "    # Add a new column for storing the status of the ship (according to TREAD algorithm, see above)\n",
    "    appendDF['Status'] = np.nan\n",
    "    # Rename the dataframe to the corresponding ship MMSI\n",
    "    appendDF.Name = mmsi\n",
    "    # reset the index of the dataframe\n",
    "    appendDF.reset_index(inplace=True)\n",
    "\n",
    "    # next step: calculate the avg_speed (distance/time) in order to find stationary points.\n",
    "    # for the distance, the geodesic distance is used in order to account for earth curvature\n",
    "    \n",
    "    # save a shifted-by-one-row version of the db, so that \"previous\" points can be joined with \"current\" points\n",
    "    shiftedDF = appendDF[['BaseDateTime','LAT', 'LON']].shift(1).copy()\n",
    "    # the resulting df has (for each row) a pair of points. The left one is antecedent to the roght one\n",
    "    pairsOfPointsDF = shiftedDF.iloc[1:].join(appendDF[['BaseDateTime', 'LAT', 'LON']].iloc[1:], lsuffix='_left', rsuffix='_right')\n",
    "    # calculate average speed for each row of the 'pairsOfPointsDF' df (each row represents a pair of points)\n",
    "\n",
    "    vectorized_function = np.vectorize(my_fun)\n",
    "    appendDF.loc[1:, 'Avg_Speed'] = vectorized_function(pairsOfPointsDF['BaseDateTime_left'], \n",
    "                                                        pairsOfPointsDF['LAT_left'],\n",
    "                                                        pairsOfPointsDF['LON_left'],\n",
    "                                                        pairsOfPointsDF['BaseDateTime_right'],\n",
    "                                                        pairsOfPointsDF['LAT_right'],\n",
    "                                                        pairsOfPointsDF['LON_right']\n",
    "                                                    )\n",
    "\n",
    "    # The first row of each ship has its \"Avg_Speed\" field set equal to the SOG\n",
    "    appendDF.at[appendDF.index[0], 'Avg_Speed'] = appendDF.at[appendDF.index[0], 'SOG']\n",
    "    # drop the first column (generated during all the processing above)\n",
    "    appendDF.drop('index', axis=1, inplace=True)\n",
    "    # save the dataframe to a list\n",
    "    V_s.append(appendDF)\n",
    "\n",
    "print(V_s[0])"
   ]
  },
  {
   "cell_type": "code",
   "execution_count": 111,
   "metadata": {},
   "outputs": [
    {
     "name": "stdout",
     "output_type": "stream",
     "text": [
      "            MMSI        BaseDateTime       LAT        LON    COG  SOG  \\\n",
      "10640  338070127 2019-01-24 14:18:23  21.31309 -157.86718    0.0  0.0   \n",
      "10641  338070127 2019-01-24 14:21:23  21.31310 -157.86716    0.0  0.0   \n",
      "10642  338070127 2019-01-24 14:24:24  21.31310 -157.86717    0.0  0.0   \n",
      "10643  338070127 2019-01-24 14:27:23  21.31309 -157.86714  142.5  0.9   \n",
      "10644  338070127 2019-01-24 14:28:24  21.31215 -157.86705  174.5  8.2   \n",
      "...          ...                 ...       ...        ...    ...  ...   \n",
      "10780  338070127 2019-01-24 19:36:17  21.31311 -157.86716  141.1  0.0   \n",
      "10781  338070127 2019-01-24 19:39:47  21.31312 -157.86716    1.4  0.0   \n",
      "10782  338070127 2019-01-24 19:42:45  21.31312 -157.86716    0.0  0.0   \n",
      "10783  338070127 2019-01-24 19:45:47  21.31312 -157.86717    0.0  0.0   \n",
      "10784  338070127 2019-01-24 19:51:46  21.31312 -157.86715   31.7  0.0   \n",
      "\n",
      "       Avg_Speed      Status  \n",
      "10640       0.01  stationary  \n",
      "10641       0.03  stationary  \n",
      "10642       0.01  stationary  \n",
      "10643       0.04  stationary  \n",
      "10644       3.33     sailing  \n",
      "...          ...         ...  \n",
      "10780       0.02  stationary  \n",
      "10781       0.01  stationary  \n",
      "10782       0.00  stationary  \n",
      "10783       0.01  stationary  \n",
      "10784       0.01  stationary  \n",
      "\n",
      "[145 rows x 8 columns]\n"
     ]
    },
    {
     "data": {
      "text/plain": [
       "[<matplotlib.lines.Line2D at 0x7f2245eb52d0>]"
      ]
     },
     "execution_count": 111,
     "metadata": {},
     "output_type": "execute_result"
    },
    {
     "data": {
      "image/png": "[encoded data removed]",
      "text/plain": [
       "<Figure size 640x480 with 1 Axes>"
      ]
     },
     "metadata": {},
     "output_type": "display_data"
    }
   ],
   "source": [
    "# for each vessel (dataframe) in the V_s list,\n",
    "\n",
    "for shipDF in V_s:\n",
    "    # set the status of each point where the avg_speed is lower than the given threshold, to 'stationary'\n",
    "    shipDF['Status'] = np.where(shipDF[\"Avg_Speed\"] < SPEED_THRESHOLD, 'stationary', shipDF['Status'])\n",
    "    # set all remaining points as \"sailing\"\n",
    "    shipDF['Status'] = np.where(shipDF[\"Avg_Speed\"] >= SPEED_THRESHOLD, 'sailing', shipDF['Status'])\n",
    "    # set the first and last points of the ship (exit points) as stationary, regardless of speed (see algorithm)\n",
    "    shipDF.at[shipDF.index[0], 'Status'] = 'stationary'\n",
    "    shipDF.at[shipDF.index[-1], 'Status'] = 'stationary'\n",
    "    \n",
    "# print a dataframe and some points just to check\n",
    "interval = range(10640,10785)\n",
    "print(V_s[3].iloc[interval])\n",
    "plt.plot(V_s[3]['Avg_Speed'].iloc[interval])\n",
    "plt.plot(V_s[3]['SOG'].iloc[interval])\n"
   ]
  },
  {
   "cell_type": "code",
   "execution_count": 118,
   "metadata": {},
   "outputs": [
    {
     "name": "stderr",
     "output_type": "stream",
     "text": [
      "/tmp/ipykernel_20382/2279343906.py:7: FutureWarning:\n",
      "\n",
      "The behavior of DataFrame concatenation with empty or all-NA entries is deprecated. In a future version, this will no longer exclude empty or all-NA columns when determining the result dtypes. To retain the old behavior, exclude the relevant entries before the concat operation.\n",
      "\n"
     ]
    },
    {
     "name": "stdout",
     "output_type": "stream",
     "text": [
      "              LAT        LON\n",
      "0        21.31309 -157.86712\n",
      "1        21.31309 -157.86712\n",
      "2        21.31309 -157.86712\n",
      "3        21.31309 -157.86712\n",
      "4        21.31308 -157.86712\n",
      "...           ...        ...\n",
      "1329424  21.29751 -157.86866\n",
      "1329425  21.29752 -157.86869\n",
      "1329426  21.29750 -157.86868\n",
      "1329427  21.29747 -157.86870\n",
      "1329428  21.29750 -157.86869\n",
      "\n",
      "[1329429 rows x 2 columns]\n",
      "(1329429, 2)\n"
     ]
    }
   ],
   "source": [
    "# Extract all the stationary points in a single dataframe\n",
    "\n",
    "stationaryDF = p.DataFrame(columns=['LAT', 'LON']) # new empty df\n",
    "\n",
    "for vesselDF in V_s:\n",
    "    extractedDF = vesselDF[vesselDF['Status'] == 'stationary']\n",
    "    stationaryDF = p.concat([stationaryDF, extractedDF[['LAT', 'LON']]], ignore_index=True)\n",
    "\n",
    "print(stationaryDF)\n",
    "print(stationaryDF.shape)"
   ]
  },
  {
   "cell_type": "code",
   "execution_count": 120,
   "metadata": {},
   "outputs": [
    {
     "name": "stdout",
     "output_type": "stream",
     "text": [
      "Pair with most occurrencies: \n",
      "LAT          21.3068\n",
      "LON        -157.8721\n",
      "Weight    23360.0000\n",
      "Name: 11817, dtype: float64\n",
      "           LAT       LON  Weight\n",
      "0      18.7671 -159.1110     1.0\n",
      "1      18.7671 -157.2770     1.0\n",
      "2      18.7673 -155.9327     1.0\n",
      "3      18.7677 -155.7892     1.0\n",
      "4      18.7687 -156.2250     1.0\n",
      "...        ...       ...     ...\n",
      "17459  22.6305 -155.6834     1.0\n",
      "17460  22.6306 -156.1920     1.0\n",
      "17461  22.6307 -156.3146     1.0\n",
      "17462  22.6308 -156.8662     1.0\n",
      "17463  22.6308 -155.5218     1.0\n",
      "\n",
      "[17464 rows x 3 columns]\n",
      "Pair with most occurrencies: \n",
      "LAT        21.3068\n",
      "LON      -157.8721\n",
      "Weight     15.0000\n",
      "Name: 11817, dtype: float64\n",
      "\n"
     ]
    },
    {
     "name": "stderr",
     "output_type": "stream",
     "text": [
      "/tmp/ipykernel_20382/754193555.py:16: FutureWarning:\n",
      "\n",
      "A value is trying to be set on a copy of a DataFrame or Series through chained assignment using an inplace method.\n",
      "The behavior will change in pandas 3.0. This inplace method will never work because the intermediate object on which we are setting values always behaves as a copy.\n",
      "\n",
      "For example, when doing 'df[col].method(value, inplace=True)', try using 'df.method({col: value}, inplace=True)' or df[col] = df[col].method(value) instead, to perform the operation inplace on the original object.\n",
      "\n",
      "\n",
      "\n"
     ]
    }
   ],
   "source": [
    "# Some computationl tricks in order to save some time\n",
    "\n",
    "# Round lat and lon values to 4 decimal digits (instead of 5)\n",
    "stationaryDF = stationaryDF.round(decimals=4)\n",
    "# Group-by same (lat,lon) pairs and count occurrencies\n",
    "groupedDF = stationaryDF.groupby(['LAT', 'LON']).size().reset_index(name='Weight')\n",
    "\n",
    "print(\"Pair with most occurrencies: \\n\" + str(groupedDF.iloc[groupedDF['Weight'].idxmax(), :]))\n",
    "\n",
    "# Apply log2() (base-2 logarithm) to the 'weight' column in order to reduce its values\n",
    "groupedDF['Weight'] = np.round(\n",
    "                                np.log2(groupedDF['Weight']),\n",
    "                                decimals=0\n",
    "                            )\n",
    "# The minimum weight should be 1, so any zero is replaced\n",
    "groupedDF['Weight'].replace(0,1,inplace=True)\n",
    "\n",
    "print(groupedDF)\n",
    "\n",
    "print(\"Pair with most occurrencies: \\n\" + str(groupedDF.iloc[groupedDF['Weight'].idxmax(), :]) + '\\n')"
   ]
  },
  {
   "cell_type": "code",
   "execution_count": 121,
   "metadata": {},
   "outputs": [
    {
     "name": "stdout",
     "output_type": "stream",
     "text": [
      "DBSCAN(eps=0.025, min_samples=30) len: 17464, num of clusters: 49\n",
      "           LAT       LON  Weight  Label\n",
      "0      18.7671 -159.1110     1.0     -1\n",
      "1      18.7671 -157.2770     1.0     -1\n",
      "2      18.7673 -155.9327     1.0     -1\n",
      "3      18.7677 -155.7892     1.0     -1\n",
      "4      18.7687 -156.2250     1.0     -1\n",
      "...        ...       ...     ...    ...\n",
      "17459  22.6305 -155.6834     1.0     -1\n",
      "17460  22.6306 -156.1920     1.0     -1\n",
      "17461  22.6307 -156.3146     1.0     -1\n",
      "17462  22.6308 -156.8662     1.0     -1\n",
      "17463  22.6308 -155.5218     1.0     -1\n",
      "\n",
      "[17464 rows x 4 columns]\n"
     ]
    },
    {
     "data": {
      "image/png": "[encoded data removed]",
      "text/plain": [
       "<Figure size 640x480 with 1 Axes>"
      ]
     },
     "metadata": {},
     "output_type": "display_data"
    }
   ],
   "source": [
    "# Run DBSCAN algorithm on the stationary points\n",
    "\n",
    "plt.scatter(groupedDF.iloc[:,0], groupedDF.iloc[:,1], s=0.01)\n",
    "\n",
    "dbscan = DBSCAN(eps=0.025, min_samples=30)\n",
    "\n",
    "estimator = dbscan.fit(\n",
    "                    X=groupedDF.iloc[:, :2], \n",
    "                    sample_weight=groupedDF['Weight']\n",
    "                    )\n",
    "\n",
    "\n",
    "print(str(estimator) + \" len: \" + str(len(estimator.labels_)) + \", num of clusters: \" + str(max(estimator.labels_)))\n",
    "\n",
    "# Add labels to dataframe\n",
    "groupedDF['Label'] = estimator.labels_\n",
    "\n",
    "print(groupedDF)"
   ]
  },
  {
   "cell_type": "code",
   "execution_count": 116,
   "metadata": {},
   "outputs": [
    {
     "data": {
      "text/plain": [
       "'temp-plot.html'"
      ]
     },
     "execution_count": 116,
     "metadata": {},
     "output_type": "execute_result"
    }
   ],
   "source": [
    "import plotly.express as px\n",
    "import plotly.offline as po\n",
    "\n",
    "fig = px.scatter_mapbox(groupedDF,\n",
    "                        lon = groupedDF['LON'],\n",
    "                        lat= groupedDF['LAT'],\n",
    "                        zoom = 5,\n",
    "                        color = groupedDF['Label'],\n",
    "                        title = 'Clustered stationary points'\n",
    "                        )\n",
    "\n",
    "fig.update_layout(mapbox_style = 'open-street-map')\n",
    "\n",
    "po.plot(fig)"
   ]
  }
 ],
 "metadata": {
  "kernelspec": {
   "display_name": "Python 3",
   "language": "python",
   "name": "python3"
  },
  "language_info": {
   "codemirror_mode": {
    "name": "ipython",
    "version": 3
   },
   "file_extension": ".py",
   "mimetype": "text/x-python",
   "name": "python",
   "nbconvert_exporter": "python",
   "pygments_lexer": "ipython3",
   "version": "3.10.12"
  }
 },
 "nbformat": 4,
 "nbformat_minor": 2
}
