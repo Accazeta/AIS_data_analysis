{
 "cells": [
  {
   "cell_type": "code",
   "execution_count": 1,
   "metadata": {},
   "outputs": [],
   "source": [
    "# imports\n",
    "import pandas as p\n",
    "import constants as c\n",
    "import folium\n",
    "import os\n",
    "import zipfile\n",
    "from collections import Counter\n",
    "import math\n",
    "import matplotlib.pyplot as plt\n",
    "import statistics as stats\n",
    "import haversine as hs\n",
    "from datetime import datetime\n",
    "\n",
    "\n",
    "# constants\n",
    "LAT_MIN = 18.76651\n",
    "LAT_MAX = 22.63089\n",
    "LON_MIN = -160.11085\n",
    "LON_MAX = -154.38957\n",
    "FOLDER_PATH = \"../dataset/2019_01/\"\n",
    "SPEED_THRESHOLD = 1"
   ]
  },
  {
   "cell_type": "markdown",
   "metadata": {},
   "source": [
    "Extract only the data with the correct latitude and longitude values\n",
    "This operation takes roughly 15-20 seconds per csv file (tested on csv files with > 1 million rows)"
   ]
  },
  {
   "cell_type": "code",
   "execution_count": 17,
   "metadata": {},
   "outputs": [
    {
     "name": "stdout",
     "output_type": "stream",
     "text": [
      "        MMSI         BaseDateTime       LAT        LON  SOG    COG  Heading  \\\n",
      "0  338070127  2019-01-01T00:00:02  21.31311 -157.86715  0.0  190.3    511.0   \n",
      "1  367379890  2019-01-01T00:00:01  21.28031 -157.83826  1.5   36.7    511.0   \n",
      "2  367119160  2019-01-01T00:00:02  21.31010 -157.86773  0.1  329.0    159.0   \n",
      "3  367008740  2019-01-01T00:00:02  21.30887 -157.87032  0.0   21.4    511.0   \n",
      "4  367213090  2019-01-01T00:00:04  21.95327 -159.35876  0.0  196.1    511.0   \n",
      "\n",
      "  VesselName         IMO CallSign  VesselType  Status  Length  Width  Draft  \\\n",
      "0   HONOLULU         NaN      NaN        50.0     NaN    12.0    4.0    NaN   \n",
      "1  DISCOVERY         NaN  WCC5846        60.0     0.0    23.0    7.0    NaN   \n",
      "2   HOKULANI  IMO7417422  WDI9073        31.0     0.0    34.0   10.0    4.9   \n",
      "3  MIKI HANA  IMO7031163  WTW9252        31.0     0.0    33.0    9.0    3.9   \n",
      "4        NaN         NaN      NaN         NaN     0.0     NaN    NaN    NaN   \n",
      "\n",
      "   Cargo TransceiverClass  \n",
      "0    NaN                B  \n",
      "1    NaN                A  \n",
      "2   32.0                A  \n",
      "3   32.0                A  \n",
      "4    NaN                A  \n"
     ]
    }
   ],
   "source": [
    "final_df = p.DataFrame()\n",
    "\n",
    "# list all the files in the specified directory\n",
    "filenames = os.listdir(FOLDER_PATH)\n",
    "# and sort them alphabetically\n",
    "filenames.sort()\n",
    "# for each file\n",
    "for file_name in filenames:\n",
    "    # only iterate over zip files\n",
    "    if file_name.endswith('.zip'):\n",
    "        file_path = os.path.join(FOLDER_PATH, file_name)\n",
    "        # if the csv file has yet to be extracted\n",
    "        csv_filename = file_name.replace(\".zip\", \".csv\")\n",
    "        if not(os.path.exists(os.path.join(FOLDER_PATH, csv_filename))):\n",
    "            # open the zip file and extract it\n",
    "            with zipfile.ZipFile(file_path, 'r') as zip_file:\n",
    "                csv_filename = zip_file.namelist()[0]\n",
    "                zip_file.extractall(FOLDER_PATH)\n",
    "        # create a dataframe using the extracted csv file\n",
    "        full_df = p.read_csv(os.path.join(FOLDER_PATH, csv_filename))\n",
    "        # extract only the rows of interest (with LAT and LON values between the specified bounds)\n",
    "        filtered_df = full_df[\n",
    "                                (full_df['LAT'].between(LAT_MIN, LAT_MAX)) &\n",
    "                                (full_df['LON'].between(LON_MIN, LON_MAX)) \n",
    "                            ]\n",
    "        # and append the extracted rows to the final dataframe\n",
    "        final_df = p.concat([final_df, filtered_df], ignore_index = True)\n",
    "\n",
    "print(f\"Final dataframe len: {final_df.shape[0]}\")\n",
    "print(final_df.head())\n",
    "      \n",
    "    "
   ]
  },
  {
   "cell_type": "markdown",
   "metadata": {},
   "source": [
    "Separate code snippet used for exporting the final dataframe as a csv file.\n",
    "This is necessary as the above code snippet takes ~8 minutes read and filter 31 csv files.\n",
    "By exporting the resulting df as a csv file it's possible import it again for the following part of this notebook"
   ]
  },
  {
   "cell_type": "code",
   "execution_count": 2,
   "metadata": {},
   "outputs": [],
   "source": [
    "#OUTPUT_PATH = os.getcwd()\n",
    "OUTPUT_PATH = FOLDER_PATH\n",
    "FILE_NAME = '2019_01.csv' #specify file name (don't forget the .csv extension)\n",
    "#final_df.to_csv(OUTPUT_PATH + '/' + FILE_NAME, index = False)\n",
    "\n",
    "#print(f\"Final dataframe len: {final_df.shape[0]}\")\n"
   ]
  },
  {
   "cell_type": "markdown",
   "metadata": {},
   "source": [
    "Read the csv file and use it as the final data source\n",
    "(The code snippet below should be used only if the code snippet #2 was not executed)"
   ]
  },
  {
   "cell_type": "code",
   "execution_count": 57,
   "metadata": {},
   "outputs": [
    {
     "name": "stdout",
     "output_type": "stream",
     "text": [
      "Final dataframe len: 1922770\n"
     ]
    }
   ],
   "source": [
    "# read csv\n",
    "final_df = p.read_csv(OUTPUT_PATH + FILE_NAME)\n",
    "final_df.drop_duplicates(keep='first', inplace=True, ignore_index=True) # drop duplicates\n",
    "final_df.BaseDateTime = p.to_datetime(final_df.BaseDateTime) # Convert DateTime into more readable format\n",
    "\n",
    "print(f\"Final dataframe len: {final_df.shape[0]}\")"
   ]
  },
  {
   "cell_type": "markdown",
   "metadata": {},
   "source": [
    "Some stats about the imported dataframe\n",
    "In order to make the histogram below, occurrencies are rounded to the top hundred (ex: 33 -> 100, 244 -> 300, etc...)\n",
    "This is done in order to have an idea about how many ships have negligible amount of records.\n",
    "In the next code snippet (#10) the threshold is set to 100 and consequently all vessels with less than 100 data points are removed from the dataset"
   ]
  },
  {
   "cell_type": "code",
   "execution_count": 4,
   "metadata": {},
   "outputs": [
    {
     "name": "stdout",
     "output_type": "stream",
     "text": [
      "Num of rows: 1924108\n",
      "Num of vessels: 423\n",
      "Avg entries for each vessel 4548.718676122931\n",
      "Variance: 37071194.430148005\n",
      "Standard Deviation: 6088.611863975893\n",
      "Max entries found for the same ship: 28648\n",
      "Min entries found for the same ship: 1\n",
      "Final dataframe len: 1924108, num of vessels: 423\n"
     ]
    },
    {
     "data": {
      "image/png": "[encoded data removed]",
      "text/plain": [
       "<Figure size 640x480 with 1 Axes>"
      ]
     },
     "metadata": {},
     "output_type": "display_data"
    }
   ],
   "source": [
    "# Number of entries (number of rows of the dataframe)\n",
    "num_of_rows = final_df.index.shape[0]\n",
    "print(\"Num of rows: \" + str(num_of_rows))\n",
    "\n",
    "# Extract all the unique MMSIs\n",
    "unique_vessels_ids = p.unique(final_df['MMSI']).tolist()\n",
    "num_of_vessels = len(unique_vessels_ids)\n",
    "print(\"Num of vessels: \" + str(num_of_vessels))\n",
    "\n",
    "# Calculate the exact number of entries for each ship\n",
    "vessels_entries_dict = dict(Counter(final_df['MMSI'].to_list())) # save it in a dict\n",
    "vessels_entries = list(vessels_entries_dict.values()) # save just the values in a list\n",
    "vessels_entries.sort()\n",
    "rounded_vessels_entries = [math.ceil(x/100) * 100 for x in vessels_entries]\n",
    "\n",
    "print(f\"Avg entries for each vessel {stats.mean(vessels_entries)}\")\n",
    "print(f\"Variance: {stats.variance(vessels_entries)}\")\n",
    "print(f\"Standard Deviation: {stats.stdev(vessels_entries)}\")\n",
    "print(f\"Max entries found for the same ship: {vessels_entries[-1]}\")\n",
    "print(f\"Min entries found for the same ship: {vessels_entries[0]}\")\n",
    "\n",
    "n, bins, patches = plt.hist(x=rounded_vessels_entries, bins='auto', color='orange', edgecolor = 'black')\n",
    "\n",
    "\n",
    "print(f\"Final dataframe len: {final_df.shape[0]}, num of vessels: {len(vessels_entries)}\")"
   ]
  },
  {
   "cell_type": "markdown",
   "metadata": {},
   "source": [
    "Remove ships with not enough entries"
   ]
  },
  {
   "cell_type": "code",
   "execution_count": 5,
   "metadata": {},
   "outputs": [
    {
     "name": "stdout",
     "output_type": "stream",
     "text": [
      "Final dataframe len: 1924108, num of vessels: 423, unwanted vessels: 71\n",
      "Cleaned dataframe len: 1922770, num of vessels: 352\n"
     ]
    }
   ],
   "source": [
    "THRESHOLD = 100\n",
    "\n",
    "mmsi_to_be_removed = [x for x in vessels_entries_dict.keys() if vessels_entries_dict[x] <= THRESHOLD]\n",
    "print(f\"Final dataframe len: {final_df.shape[0]}, num of vessels: {len(vessels_entries)}, unwanted vessels: {len(mmsi_to_be_removed)}\")\n",
    "clean_df = final_df.copy()\n",
    "\n",
    "for unwanted_mmsi in mmsi_to_be_removed:\n",
    "    clean_df = clean_df.drop(clean_df[clean_df['MMSI'] == unwanted_mmsi].index)\n",
    "\n",
    "clean_df.sort_values(by='BaseDateTime', inplace=True, ignore_index=True)\n",
    "\n",
    "print(f\"Cleaned dataframe len: {clean_df.shape[0]}, num of vessels: {len(p.unique(clean_df['MMSI']))}\")"
   ]
  },
  {
   "cell_type": "markdown",
   "metadata": {},
   "source": [
    "Export the cleaned dataframe in order to have a backup copy in a csv file"
   ]
  },
  {
   "cell_type": "code",
   "execution_count": 6,
   "metadata": {},
   "outputs": [],
   "source": [
    "#OUTPUT_PATH = os.getcwd()\n",
    "OUTPUT_PATH = FOLDER_PATH\n",
    "FILE_NAME = 'cleaned_2019_01.csv' #specify file name (don't forget the .csv extension)\n",
    "#clean_df.to_csv(OUTPUT_PATH + '/' + FILE_NAME, index = False)\n",
    "\n",
    "#print(f\"Final dataframe len: {final_df.shape[0]}\")"
   ]
  },
  {
   "cell_type": "markdown",
   "metadata": {},
   "source": [
    "Create a new histogram using the \"cleaned\" data from the clean_df"
   ]
  },
  {
   "cell_type": "code",
   "execution_count": 7,
   "metadata": {},
   "outputs": [
    {
     "name": "stdout",
     "output_type": "stream",
     "text": [
      "Avg entries for each vessel 5462.414772727273\n",
      "Variance: 39581859.54827117\n",
      "Standard Deviation: 6291.411570408597\n",
      "Max entries found for the same ship: 28648\n",
      "Min entries found for the same ship: 105\n"
     ]
    },
    {
     "data": {
      "image/png": "[encoded data removed]",
      "text/plain": [
       "<Figure size 640x480 with 1 Axes>"
      ]
     },
     "metadata": {},
     "output_type": "display_data"
    }
   ],
   "source": [
    "clean_vessel_entries = list(Counter(clean_df['MMSI'].to_list()).values())\n",
    "\n",
    "rounded_clean_vessels_entries = [math.ceil(x/100) * 100 for x in clean_vessel_entries]\n",
    "\n",
    "print(f\"Avg entries for each vessel {stats.mean(clean_vessel_entries)}\")\n",
    "print(f\"Variance: {stats.variance(clean_vessel_entries)}\")\n",
    "print(f\"Standard Deviation: {stats.stdev(clean_vessel_entries)}\")\n",
    "print(f\"Max entries found for the same ship: {max(clean_vessel_entries)}\")\n",
    "print(f\"Min entries found for the same ship: {min(clean_vessel_entries)}\")\n",
    "\n",
    "n, bins, patches = plt.hist(x=rounded_clean_vessels_entries, bins='auto', color='green', edgecolor = 'black', )"
   ]
  },
  {
   "cell_type": "markdown",
   "metadata": {},
   "source": [
    "Print a few points on the map just to check that everything works"
   ]
  },
  {
   "cell_type": "code",
   "execution_count": null,
   "metadata": {},
   "outputs": [],
   "source": [
    "map = folium.Map(location=[21, -158], tiles=\"OpenStreetMap\", zoom_start=9)\n",
    "\n",
    "clean_df.sort_values(by='MMSI', inplace=True)\n",
    "\n",
    "#test ranges (replace x and y below): [2:474], [474, 1364], [1364,1837], [1837:2285], [2285, 2725]\n",
    "x = 2\n",
    "y = 3000\n",
    "# extract from the dataset latitude and longitude of the values in range [x:y)\n",
    "loc = [[str(mmsi), lat, lon] for (mmsi, lat, lon) in zip(clean_df.iloc[x:y]['MMSI'], clean_df.iloc[x:y]['LAT'], clean_df.iloc[x:y]['LON'])]\n",
    "\n",
    "tempDF = p.DataFrame(loc)\n",
    "tempDF.columns = ['MMSI', 'LAT', 'LON'] # create a temporary df with the extracted mmsi, lat. and long. values\n",
    "\n",
    "# CircleMarker requires each point to be added one by one\n",
    "# The temp function below is applied to all points in the tempDF\n",
    "def tempFunc(row):\n",
    "    folium.CircleMarker(\n",
    "        location=[row['LAT'],row['LON']],\n",
    "        radius=0.5\n",
    "        ).add_child(folium.Popup(row['MMSI'])).add_to(map)\n",
    "\n",
    "# Using 'apply' with a custom function saves a bit of time (compared to a simple for-loop)\n",
    "tempDF.apply(tempFunc, axis=1)\n",
    "\n",
    "map "
   ]
  },
  {
   "cell_type": "code",
   "execution_count": 56,
   "metadata": {},
   "outputs": [],
   "source": [
    "class Vessel():\n",
    "\n",
    "    def __init__(self, mmsi : str, status : str, waypoint : list) -> None:\n",
    "        self.mmsi = mmsi\n",
    "        self.status = status\n",
    "        self.WPs = {}\n",
    "        self.WPs[0] = waypoint\n",
    "        self.index = 0\n",
    "        self.index += 1\n",
    "\n",
    "    def get_index(self) -> int: # returns the index that the next waypoint will have\n",
    "        return self.index\n",
    "    \n",
    "    def add_point(self, point : list) -> None:\n",
    "        self.WPs[self.index] = point\n",
    "        self.index += 1"
   ]
  },
  {
   "cell_type": "markdown",
   "metadata": {},
   "source": [
    "Source: Pallotta, G., Vespe, M., & Bryan, K. (2013). Vessel Pattern Knowledge Discovery from AIS Data: A Framework for Anomaly Detection and Route Prediction. Entropy, 15(12), 2218–2245. https://doi.org/10.3390/e15062218\n",
    "\n",
    "‌TREAD algorithm (pages 2223-2231)"
   ]
  },
  {
   "cell_type": "markdown",
   "metadata": {},
   "source": [
    "Function \"Online_WP_Clustering\"<br>\n",
    "Takes as input:<br>\n",
    "   - Vs: list of vessels<br>\n",
    "   - v: vessel that generated the event of interest to be clustered<br>\n",
    "   - WPs: list of waypoints to be clustered (list of entri, stationary and exit points)<br>\n",
    "   - Rs: list of routes to be modified<br>\n",
    "   - Eps: radius of the cluster for the DBSCAN algorithm<br>\n",
    "   - N: minimum number of points for each cluster for the DBSCAN algorithm<br>\n",
    "   \n",
    "Returns:<br>\n",
    "   - WPs\n",
    "   - v\n",
    "   - Rs"
   ]
  },
  {
   "cell_type": "code",
   "execution_count": 13,
   "metadata": {},
   "outputs": [],
   "source": [
    "\n",
    "def Online_WP_Clustering(WPs, Rs, Vs, Eps, N, v) -> list:\n",
    "    None"
   ]
  },
  {
   "cell_type": "markdown",
   "metadata": {},
   "source": [
    "Function \"Route_Objects_Manager\"<br>\n",
    "Takes as input:<br>\n",
    "   - v: vessel that generated the event of interest to be clustered<br>\n",
    "   - WPs: list of waypoints to be clustered (list of entry, stationary and exit points)<br>\n",
    "   - Rs: list of binary lists of tuples, where each binary list has the starting and arriving point (tuple) of the route<br>\n",
    "\n",
    "Returns:<br>\n",
    "   - v\n",
    "   - Rs"
   ]
  },
  {
   "cell_type": "code",
   "execution_count": 14,
   "metadata": {},
   "outputs": [],
   "source": [
    "def check_route_existance(routes_list : list, start_point : list, arrive_point : list) -> bool:\n",
    "    for pair in routes_list:\n",
    "        if pair[0] == start_point and pair[1] == arrive_point:\n",
    "            return True\n",
    "    return False\n",
    "\n",
    "# This works only if the source df is sorted by timestamp ('BaseDateTime') in ascending order\n",
    "def Route_Objects_Manager(Rs : list, Vs, mmsi) -> list:\n",
    "    if len(Vs[mmsi].WPs) >= 2:\n",
    "        i = Vs[mmsi].get_index()\n",
    "        vector1 = Vs[mmsi].WPs[i - 2]\n",
    "        vector2 = Vs[mmsi].WPs[i - 1]\n",
    "        # extract lat and lon values\n",
    "        point1 = (vector1[1], vector1[2]) # point1 is chronologically antecedent to point2\n",
    "        point2 = (vector2[1], vector2[2]) # the first element of the tuple is the latitude, the second longitude\n",
    "        \n",
    "        if not check_route_existance(Rs, point1, point2):\n",
    "            None\n",
    "            #Rs.append([point1, point2]) TODO\n",
    "        \n",
    "\n",
    "        "
   ]
  },
  {
   "cell_type": "code",
   "execution_count": 55,
   "metadata": {},
   "outputs": [],
   "source": [
    "Vs = {} # Dictionary used for storing vessel objects during the operations of the algorithm\n",
    "        # The keys are the mmsi codes of each ship, the values are \"Vessel\" objects\n",
    "\n",
    "# Warning: the source df must be ordered by timestamp ('BaseDateTime'), ascending\n",
    "clean_df = clean_df[['MMSI', 'BaseDateTime', 'LAT', 'LON', 'COG', 'SOG']].copy()\n",
    "clean_df.drop_duplicates(subset=['MMSI', 'BaseDateTime'], keep='first', inplace=True, ignore_index=True)\n",
    "\n",
    "\n",
    "# for each row of the source dataframe\n",
    "for i in clean_df.index:\n",
    "\n",
    "    # Save each value in a variable for easier use\n",
    "    mmsi, timestamp, lat, lon, cog, sog = clean_df.iloc[i]\n",
    "    \n",
    "    # if the ship is new\n",
    "    if mmsi not in Vs.keys():\n",
    "        Vs[mmsi] = Vessel(mmsi, 'sailing', [timestamp, lat, lon, cog, sog])\n",
    "        Vs[mmsi].lastupdate = timestamp\n",
    "        #a,b,c = Online_WP_Clustering(EN, Vs, Eps, N)\n",
    "        #d,e = Routes_Objects_Manager(Rs, Vs)\n",
    "    else:\n",
    "        curr_vessel = Vs[mmsi]\n",
    "        curr_index = curr_vessel.get_index()\n",
    "        curr_vessel.add_point([timestamp, lat, lon, cog, sog]) # this method automatically updates the index\n",
    "        # calculate haversine distance in order to calculate average speed\n",
    "        distance = hs.haversine([lat, lon], [curr_vessel.WPs[curr_index - 1][1], curr_vessel.WPs[curr_index - 1][2]])\n",
    "        time = (timestamp - curr_vessel.WPs[curr_index - 1][0]).total_seconds()\n",
    "        avg_speed = round(((distance*1000)/time) * 1.94384, 2) #Measured in knots\n",
    "        if avg_speed < SPEED_THRESHOLD and curr_vessel.status == 'sailing':\n",
    "            curr_vessel.status = 'stationary'\n",
    "            #a,b,c = Online_WP_Clustering(POs, Vs, Eps, N)\n",
    "            #d,e = Routes_Objects_Manager(Rs, Vs)\n",
    "        if curr_vessel.status == 'lost':\n",
    "            curr_vessel.status = 'sailing'\n",
    "            #a,b,c = Online_WP_Clustering(ENs, Vs, Eps, N)\n",
    "            #d,e = Routes_Objects_Manager(Rs, Vs)"
   ]
  },
  {
   "cell_type": "markdown",
   "metadata": {},
   "source": [
    "\n",
    "1) Comprendere veramente pseudocodice pallotta\n",
    "2) Estrarre rotte e considerarle come verità assoluta\n",
    "3) Iniziare a trovare modo per beccare anomalia di rotta"
   ]
  }
 ],
 "metadata": {
  "kernelspec": {
   "display_name": "Python 3",
   "language": "python",
   "name": "python3"
  },
  "language_info": {
   "codemirror_mode": {
    "name": "ipython",
    "version": 3
   },
   "file_extension": ".py",
   "mimetype": "text/x-python",
   "name": "python",
   "nbconvert_exporter": "python",
   "pygments_lexer": "ipython3",
   "version": "3.10.12"
  }
 },
 "nbformat": 4,
 "nbformat_minor": 2
}
