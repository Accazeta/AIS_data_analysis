{
 "cells": [
  {
   "cell_type": "code",
   "execution_count": 3,
   "metadata": {},
   "outputs": [],
   "source": [
    "import Constants as c           # constants\n",
    "import polars as pl             # polars\n",
    "#import os                       # for reading local files and folders\n",
    "#import zipfile                  # for handling zip files\n",
    "#from collections import Counter # for stats analysis on the dataframe  \n",
    "#import math                     # for math functions\n",
    "#import matplotlib.pyplot as plt # for plotting\n",
    "#import statistics as stats      # for statistics functions"
   ]
  },
  {
   "cell_type": "markdown",
   "metadata": {},
   "source": [
    "### Denmark Dataset\n",
    "Import data from a completely new dataset (already \"cleaned\") to test the algorithm in a new scenario"
   ]
  },
  {
   "cell_type": "code",
   "execution_count": 4,
   "metadata": {},
   "outputs": [],
   "source": [
    "filename='denmark_2023-06-05_point-based.parquet'\n",
    "df = pl.read_parquet(c.FOLDER_PATH + filename)"
   ]
  },
  {
   "cell_type": "code",
   "execution_count": 5,
   "metadata": {},
   "outputs": [
    {
     "data": {
      "text/html": [
       "<div><style>\n",
       ".dataframe > thead > tr,\n",
       ".dataframe > tbody > tr {\n",
       "  text-align: right;\n",
       "  white-space: pre-wrap;\n",
       "}\n",
       "</style>\n",
       "<small>shape: (1, 40)</small><table border=\"1\" class=\"dataframe\"><thead><tr><th>t</th><th>transtype</th><th>vid</th><th>lat</th><th>lon</th><th>navstatus</th><th>rot</th><th>sog</th><th>cog</th><th>heading</th><th>imo</th><th>callsign</th><th>name</th><th>shiptype</th><th>cargotype</th><th>width</th><th>length</th><th>gpstype</th><th>draught</th><th>dest</th><th>eta</th><th>datasource</th><th>A</th><th>B</th><th>C</th><th>D</th><th>t_1</th><th>latr</th><th>lonr</th><th>havr_dist</th><th>speed_calc</th><th>journey</th><th>t_2</th><th>report_rate</th><th>heading_custom</th><th>rot_avg</th><th>rot_diff</th><th>speed_avg</th><th>speed_diff</th><th>__index_level_0__</th></tr><tr><td>datetime[ns]</td><td>str</td><td>i64</td><td>f64</td><td>f64</td><td>str</td><td>f64</td><td>f64</td><td>f64</td><td>f64</td><td>str</td><td>str</td><td>str</td><td>str</td><td>str</td><td>f64</td><td>f64</td><td>str</td><td>f64</td><td>str</td><td>str</td><td>str</td><td>f64</td><td>f64</td><td>f64</td><td>f64</td><td>duration[ns]</td><td>f64</td><td>f64</td><td>f64</td><td>f64</td><td>i64</td><td>duration[ns]</td><td>f64</td><td>f64</td><td>f64</td><td>f64</td><td>f64</td><td>f64</td><td>i64</td></tr></thead><tbody><tr><td>2023-05-06 13:11:54</td><td>&quot;Class A&quot;</td><td>205096000</td><td>55.6581</td><td>5.47449</td><td>&quot;Under way using engine&quot;</td><td>null</td><td>2.7</td><td>291.0</td><td>298.0</td><td>&quot;9898668&quot;</td><td>&quot;OPAS&quot;</td><td>&quot;Z19 BRIGITTE&quot;</td><td>&quot;Fishing&quot;</td><td>null</td><td>8.0</td><td>34.0</td><td>&quot;GPS&quot;</td><td>5.2</td><td>&quot;ZEEBRUGGE&quot;</td><td>&quot;26/04/2024 13:30:00&quot;</td><td>&quot;AIS&quot;</td><td>12.0</td><td>22.0</td><td>6.0</td><td>2.0</td><td>null</td><td>0.971417</td><td>0.095548</td><td>null</td><td>null</td><td>35</td><td>null</td><td>null</td><td>null</td><td>null</td><td>null</td><td>null</td><td>null</td><td>1299</td></tr></tbody></table></div>"
      ],
      "text/plain": [
       "shape: (1, 40)\n",
       "┌────────────┬───────────┬───────────┬─────────┬───┬──────────┬───────────┬────────────┬───────────┐\n",
       "│ t          ┆ transtype ┆ vid       ┆ lat     ┆ … ┆ rot_diff ┆ speed_avg ┆ speed_diff ┆ __index_l │\n",
       "│ ---        ┆ ---       ┆ ---       ┆ ---     ┆   ┆ ---      ┆ ---       ┆ ---        ┆ evel_0__  │\n",
       "│ datetime[n ┆ str       ┆ i64       ┆ f64     ┆   ┆ f64      ┆ f64       ┆ f64        ┆ ---       │\n",
       "│ s]         ┆           ┆           ┆         ┆   ┆          ┆           ┆            ┆ i64       │\n",
       "╞════════════╪═══════════╪═══════════╪═════════╪═══╪══════════╪═══════════╪════════════╪═══════════╡\n",
       "│ 2023-05-06 ┆ Class A   ┆ 205096000 ┆ 55.6581 ┆ … ┆ null     ┆ null      ┆ null       ┆ 1299      │\n",
       "│ 13:11:54   ┆           ┆           ┆         ┆   ┆          ┆           ┆            ┆           │\n",
       "└────────────┴───────────┴───────────┴─────────┴───┴──────────┴───────────┴────────────┴───────────┘"
      ]
     },
     "metadata": {},
     "output_type": "display_data"
    },
    {
     "data": {
      "text/html": [
       "<div><style>\n",
       ".dataframe > thead > tr,\n",
       ".dataframe > tbody > tr {\n",
       "  text-align: right;\n",
       "  white-space: pre-wrap;\n",
       "}\n",
       "</style>\n",
       "<small>shape: (1, 40)</small><table border=\"1\" class=\"dataframe\"><thead><tr><th>BaseDateTime</th><th>TransceiverClass</th><th>MMSI</th><th>LAT</th><th>LON</th><th>Status</th><th>ROT</th><th>SOG</th><th>COG</th><th>Heading</th><th>IMO</th><th>CallSign</th><th>VesselName</th><th>VesselType</th><th>Cargo</th><th>Width</th><th>Length</th><th>GPSType</th><th>Draft</th><th>Destination</th><th>ETA</th><th>Datasource</th><th>A</th><th>B</th><th>C</th><th>D</th><th>t_1</th><th>latr</th><th>lonr</th><th>havr_dist</th><th>speed_calc</th><th>journey</th><th>t_2</th><th>report_rate</th><th>heading_custom</th><th>rot_avg</th><th>rot_diff</th><th>speed_avg</th><th>speed_diff</th><th>__index_level_0__</th></tr><tr><td>datetime[ns]</td><td>str</td><td>i64</td><td>f64</td><td>f64</td><td>str</td><td>f64</td><td>f64</td><td>f64</td><td>f64</td><td>str</td><td>str</td><td>str</td><td>str</td><td>str</td><td>f64</td><td>f64</td><td>str</td><td>f64</td><td>str</td><td>str</td><td>str</td><td>f64</td><td>f64</td><td>f64</td><td>f64</td><td>duration[ns]</td><td>f64</td><td>f64</td><td>f64</td><td>f64</td><td>i64</td><td>duration[ns]</td><td>f64</td><td>f64</td><td>f64</td><td>f64</td><td>f64</td><td>f64</td><td>i64</td></tr></thead><tbody><tr><td>2023-05-06 13:11:54</td><td>&quot;Class A&quot;</td><td>205096000</td><td>55.6581</td><td>5.47449</td><td>&quot;Under way using engine&quot;</td><td>null</td><td>2.7</td><td>291.0</td><td>298.0</td><td>&quot;9898668&quot;</td><td>&quot;OPAS&quot;</td><td>&quot;Z19 BRIGITTE&quot;</td><td>&quot;Fishing&quot;</td><td>null</td><td>8.0</td><td>34.0</td><td>&quot;GPS&quot;</td><td>5.2</td><td>&quot;ZEEBRUGGE&quot;</td><td>&quot;26/04/2024 13:30:00&quot;</td><td>&quot;AIS&quot;</td><td>12.0</td><td>22.0</td><td>6.0</td><td>2.0</td><td>null</td><td>0.971417</td><td>0.095548</td><td>null</td><td>null</td><td>35</td><td>null</td><td>null</td><td>null</td><td>null</td><td>null</td><td>null</td><td>null</td><td>1299</td></tr></tbody></table></div>"
      ],
      "text/plain": [
       "shape: (1, 40)\n",
       "┌────────────┬────────────┬───────────┬─────────┬───┬──────────┬───────────┬───────────┬───────────┐\n",
       "│ BaseDateTi ┆ Transceive ┆ MMSI      ┆ LAT     ┆ … ┆ rot_diff ┆ speed_avg ┆ speed_dif ┆ __index_l │\n",
       "│ me         ┆ rClass     ┆ ---       ┆ ---     ┆   ┆ ---      ┆ ---       ┆ f         ┆ evel_0__  │\n",
       "│ ---        ┆ ---        ┆ i64       ┆ f64     ┆   ┆ f64      ┆ f64       ┆ ---       ┆ ---       │\n",
       "│ datetime[n ┆ str        ┆           ┆         ┆   ┆          ┆           ┆ f64       ┆ i64       │\n",
       "│ s]         ┆            ┆           ┆         ┆   ┆          ┆           ┆           ┆           │\n",
       "╞════════════╪════════════╪═══════════╪═════════╪═══╪══════════╪═══════════╪═══════════╪═══════════╡\n",
       "│ 2023-05-06 ┆ Class A    ┆ 205096000 ┆ 55.6581 ┆ … ┆ null     ┆ null      ┆ null      ┆ 1299      │\n",
       "│ 13:11:54   ┆            ┆           ┆         ┆   ┆          ┆           ┆           ┆           │\n",
       "└────────────┴────────────┴───────────┴─────────┴───┴──────────┴───────────┴───────────┴───────────┘"
      ]
     },
     "metadata": {},
     "output_type": "display_data"
    }
   ],
   "source": [
    "# Rename columns to the same naming scheme used in the Hawaii DataFrame\n",
    "display(df.head(1))\n",
    "new_names = {\n",
    "                \"t\":\"BaseDateTime\", \"transtype\":\"TransceiverClass\", \"vid\":\"MMSI\", \"lat\":'LAT', 'lon':'LON', 'navstatus':'Status', 'rot':'ROT',\n",
    "                'sog':'SOG', 'cog':'COG', 'heading':'Heading', 'imo':'IMO', 'callsign':'CallSign', 'name':'VesselName',\n",
    "                'shiptype':'VesselType', 'cargotype':'Cargo', 'width':'Width', 'length':'Length', 'gpstype':'GPSType', \n",
    "                'draught':'Draft', 'dest':'Destination', 'eta':'ETA', 'datasource':'Datasource'\n",
    "            }\n",
    "df = df.rename(new_names)\n",
    "display(df.head(1))"
   ]
  },
  {
   "cell_type": "code",
   "execution_count": 6,
   "metadata": {},
   "outputs": [
    {
     "data": {
      "text/html": [
       "<div><style>\n",
       ".dataframe > thead > tr,\n",
       ".dataframe > tbody > tr {\n",
       "  text-align: right;\n",
       "  white-space: pre-wrap;\n",
       "}\n",
       "</style>\n",
       "<small>shape: (1, 18)</small><table border=\"1\" class=\"dataframe\"><thead><tr><th>BaseDateTime</th><th>TransceiverClass</th><th>MMSI</th><th>LAT</th><th>LON</th><th>Status</th><th>SOG</th><th>COG</th><th>Heading</th><th>IMO</th><th>CallSign</th><th>VesselName</th><th>VesselType</th><th>Cargo</th><th>Width</th><th>Length</th><th>Draft</th><th>__index_level_0__</th></tr><tr><td>datetime[ns]</td><td>str</td><td>i64</td><td>f64</td><td>f64</td><td>cat</td><td>f64</td><td>f64</td><td>f64</td><td>str</td><td>str</td><td>str</td><td>cat</td><td>cat</td><td>f64</td><td>f64</td><td>f64</td><td>i64</td></tr></thead><tbody><tr><td>2023-05-06 13:11:54</td><td>&quot;Class A&quot;</td><td>205096000</td><td>55.6581</td><td>5.47449</td><td>&quot;Under way using engine&quot;</td><td>2.7</td><td>291.0</td><td>298.0</td><td>&quot;9898668&quot;</td><td>&quot;OPAS&quot;</td><td>&quot;Z19 BRIGITTE&quot;</td><td>&quot;Fishing&quot;</td><td>null</td><td>8.0</td><td>34.0</td><td>5.2</td><td>1299</td></tr></tbody></table></div>"
      ],
      "text/plain": [
       "shape: (1, 18)\n",
       "┌───────────────┬───────────────┬───────────┬─────────┬───┬───────┬────────┬───────┬───────────────┐\n",
       "│ BaseDateTime  ┆ TransceiverCl ┆ MMSI      ┆ LAT     ┆ … ┆ Width ┆ Length ┆ Draft ┆ __index_level │\n",
       "│ ---           ┆ ass           ┆ ---       ┆ ---     ┆   ┆ ---   ┆ ---    ┆ ---   ┆ _0__          │\n",
       "│ datetime[ns]  ┆ ---           ┆ i64       ┆ f64     ┆   ┆ f64   ┆ f64    ┆ f64   ┆ ---           │\n",
       "│               ┆ str           ┆           ┆         ┆   ┆       ┆        ┆       ┆ i64           │\n",
       "╞═══════════════╪═══════════════╪═══════════╪═════════╪═══╪═══════╪════════╪═══════╪═══════════════╡\n",
       "│ 2023-05-06    ┆ Class A       ┆ 205096000 ┆ 55.6581 ┆ … ┆ 8.0   ┆ 34.0   ┆ 5.2   ┆ 1299          │\n",
       "│ 13:11:54      ┆               ┆           ┆         ┆   ┆       ┆        ┆       ┆               │\n",
       "└───────────────┴───────────────┴───────────┴─────────┴───┴───────┴────────┴───────┴───────────────┘"
      ]
     },
     "metadata": {},
     "output_type": "display_data"
    }
   ],
   "source": [
    "df = df.drop(['ROT', 'GPSType', 'Destination', 'ETA', 'Datasource', 'A', 'B', 'C', 'D', 't_1', 'latr', 'lonr'])\n",
    "df = df.drop(['havr_dist', 'speed_calc', 'journey', 't_2', 'report_rate', 'heading_custom', 'rot_avg', 'rot_diff'])\n",
    "df = df.drop(['speed_avg', 'speed_diff'])\n",
    "#display(df.group_by(\"VesselType\").agg(pl.len()))\n",
    "pl.enable_string_cache()\n",
    "df = df.with_columns(\n",
    "                        pl.col('VesselType').cast(pl.Categorical),\n",
    "                        pl.col('Status').cast(pl.Categorical),\n",
    "                        pl.col('Cargo').cast(pl.Categorical)\n",
    "                    )\n",
    "display(df.head(1))"
   ]
  },
  {
   "cell_type": "code",
   "execution_count": 7,
   "metadata": {},
   "outputs": [
    {
     "data": {
      "text/plain": [
       "25"
      ]
     },
     "metadata": {},
     "output_type": "display_data"
    },
    {
     "data": {
      "text/plain": [
       "14"
      ]
     },
     "metadata": {},
     "output_type": "display_data"
    },
    {
     "data": {
      "text/plain": [
       "7"
      ]
     },
     "metadata": {},
     "output_type": "display_data"
    }
   ],
   "source": [
    "# check how many unique elements for each of this columns that have been converted to 'categorical'\n",
    "display(len(df.group_by(\"VesselType\").agg(pl.len())))\n",
    "display(len(df.group_by(\"Status\").agg(pl.len())))\n",
    "display(len(df.group_by(\"Cargo\").agg(pl.len())))"
   ]
  },
  {
   "cell_type": "code",
   "execution_count": 8,
   "metadata": {},
   "outputs": [
    {
     "data": {
      "text/plain": [
       "1"
      ]
     },
     "metadata": {},
     "output_type": "display_data"
    },
    {
     "data": {
      "text/html": [
       "<div><style>\n",
       ".dataframe > thead > tr,\n",
       ".dataframe > tbody > tr {\n",
       "  text-align: right;\n",
       "  white-space: pre-wrap;\n",
       "}\n",
       "</style>\n",
       "<small>shape: (1, 18)</small><table border=\"1\" class=\"dataframe\"><thead><tr><th>BaseDateTime</th><th>MMSI</th><th>LAT</th><th>LON</th><th>Status</th><th>SOG</th><th>COG</th><th>Heading</th><th>IMO</th><th>CallSign</th><th>VesselName</th><th>VesselType</th><th>Cargo</th><th>Width</th><th>Length</th><th>Draft</th><th>__index_level_0__</th><th>IsClassA</th></tr><tr><td>datetime[ns]</td><td>i64</td><td>f64</td><td>f64</td><td>cat</td><td>f64</td><td>f64</td><td>f64</td><td>str</td><td>str</td><td>str</td><td>cat</td><td>cat</td><td>f64</td><td>f64</td><td>f64</td><td>i64</td><td>bool</td></tr></thead><tbody><tr><td>2023-05-06 13:11:54</td><td>205096000</td><td>55.6581</td><td>5.47449</td><td>&quot;Under way using engine&quot;</td><td>2.7</td><td>291.0</td><td>298.0</td><td>&quot;9898668&quot;</td><td>&quot;OPAS&quot;</td><td>&quot;Z19 BRIGITTE&quot;</td><td>&quot;Fishing&quot;</td><td>null</td><td>8.0</td><td>34.0</td><td>5.2</td><td>1299</td><td>true</td></tr></tbody></table></div>"
      ],
      "text/plain": [
       "shape: (1, 18)\n",
       "┌─────────────────┬───────────┬─────────┬─────────┬───┬────────┬───────┬────────────────┬──────────┐\n",
       "│ BaseDateTime    ┆ MMSI      ┆ LAT     ┆ LON     ┆ … ┆ Length ┆ Draft ┆ __index_level_ ┆ IsClassA │\n",
       "│ ---             ┆ ---       ┆ ---     ┆ ---     ┆   ┆ ---    ┆ ---   ┆ 0__            ┆ ---      │\n",
       "│ datetime[ns]    ┆ i64       ┆ f64     ┆ f64     ┆   ┆ f64    ┆ f64   ┆ ---            ┆ bool     │\n",
       "│                 ┆           ┆         ┆         ┆   ┆        ┆       ┆ i64            ┆          │\n",
       "╞═════════════════╪═══════════╪═════════╪═════════╪═══╪════════╪═══════╪════════════════╪══════════╡\n",
       "│ 2023-05-06      ┆ 205096000 ┆ 55.6581 ┆ 5.47449 ┆ … ┆ 34.0   ┆ 5.2   ┆ 1299           ┆ true     │\n",
       "│ 13:11:54        ┆           ┆         ┆         ┆   ┆        ┆       ┆                ┆          │\n",
       "└─────────────────┴───────────┴─────────┴─────────┴───┴────────┴───────┴────────────────┴──────────┘"
      ]
     },
     "metadata": {},
     "output_type": "display_data"
    }
   ],
   "source": [
    "display(len(df.group_by(\"TransceiverClass\").agg(pl.len())))\n",
    "# Since the column 'TransceiverClass' can only contain two values ('Class A' and 'Class B')\n",
    "# change it to a boolean column where True means that the value is 'Class A'\n",
    "df = df.with_columns(\n",
    "    IsClassA = (pl.col('TransceiverClass') == 'Class A')\n",
    ").drop('TransceiverClass')\n",
    "display(df.head(1))"
   ]
  },
  {
   "cell_type": "code",
   "execution_count": 9,
   "metadata": {},
   "outputs": [
    {
     "data": {
      "text/plain": [
       "'Dataframe size in RAM 1.085 GB'"
      ]
     },
     "metadata": {},
     "output_type": "display_data"
    }
   ],
   "source": [
    "display(f'Dataframe size in RAM {df.estimated_size()/1_000_000_000:.3f} GB')\n",
    "# export final df as parquet file\n",
    "df.write_parquet(file=c.FOLDER_PATH + 'cleaned_' + filename)"
   ]
  }
 ],
 "metadata": {
  "kernelspec": {
   "display_name": "Python 3",
   "language": "python",
   "name": "python3"
  },
  "language_info": {
   "codemirror_mode": {
    "name": "ipython",
    "version": 3
   },
   "file_extension": ".py",
   "mimetype": "text/x-python",
   "name": "python",
   "nbconvert_exporter": "python",
   "pygments_lexer": "ipython3",
   "version": "3.10.12"
  }
 },
 "nbformat": 4,
 "nbformat_minor": 2
}
