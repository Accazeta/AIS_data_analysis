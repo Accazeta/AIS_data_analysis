{
 "cells": [
  {
   "cell_type": "code",
   "execution_count": 2,
   "metadata": {},
   "outputs": [],
   "source": [
    "import Constants as c           # constants\n",
    "import polars as pl             # polars\n",
    "import os                       # for reading local files and folders\n",
    "import zipfile                  # for handling zip files\n",
    "from collections import Counter # for stats analysis on the dataframe  \n",
    "import math                     # for math functions\n",
    "import matplotlib.pyplot as plt # for plotting\n",
    "import statistics as stats      # for statistics functions"
   ]
  },
  {
   "cell_type": "markdown",
   "metadata": {},
   "source": [
    "Extract only the data with the correct latitude and longitude values</br>\n",
    "This operation takes roughly 15-20 seconds per csv file (tested on csv files with > 1 million rows)</br>"
   ]
  },
  {
   "cell_type": "code",
   "execution_count": 3,
   "metadata": {},
   "outputs": [
    {
     "name": "stdout",
     "output_type": "stream",
     "text": [
      "Extracting and cleaning csv: AIS_2019_01_01.csv\n",
      "Extracting and cleaning csv: AIS_2019_01_02.csv\n",
      "Extracting and cleaning csv: AIS_2019_01_03.csv\n",
      "Extracting and cleaning csv: AIS_2019_01_04.csv\n",
      "Extracting and cleaning csv: AIS_2019_01_05.csv\n",
      "Extracting and cleaning csv: AIS_2019_01_06.csv\n",
      "Extracting and cleaning csv: AIS_2019_01_07.csv\n",
      "Extracting and cleaning csv: AIS_2019_01_08.csv\n",
      "Extracting and cleaning csv: AIS_2019_01_09.csv\n",
      "Extracting and cleaning csv: AIS_2019_01_10.csv\n",
      "Extracting and cleaning csv: AIS_2019_01_11.csv\n",
      "Extracting and cleaning csv: AIS_2019_01_12.csv\n",
      "Extracting and cleaning csv: AIS_2019_01_13.csv\n",
      "Extracting and cleaning csv: AIS_2019_01_14.csv\n",
      "Extracting and cleaning csv: AIS_2019_01_15.csv\n",
      "Extracting and cleaning csv: AIS_2019_01_16.csv\n",
      "Extracting and cleaning csv: AIS_2019_01_17.csv\n",
      "Extracting and cleaning csv: AIS_2019_01_18.csv\n",
      "Extracting and cleaning csv: AIS_2019_01_19.csv\n",
      "Extracting and cleaning csv: AIS_2019_01_20.csv\n",
      "Extracting and cleaning csv: AIS_2019_01_21.csv\n",
      "Extracting and cleaning csv: AIS_2019_01_22.csv\n",
      "Extracting and cleaning csv: AIS_2019_01_23.csv\n",
      "Extracting and cleaning csv: AIS_2019_01_24.csv\n",
      "Extracting and cleaning csv: AIS_2019_01_25.csv\n",
      "Extracting and cleaning csv: AIS_2019_01_26.csv\n",
      "Extracting and cleaning csv: AIS_2019_01_27.csv\n",
      "Extracting and cleaning csv: AIS_2019_01_28.csv\n",
      "Extracting and cleaning csv: AIS_2019_01_29.csv\n",
      "Extracting and cleaning csv: AIS_2019_01_30.csv\n",
      "Extracting and cleaning csv: AIS_2019_01_31.csv\n",
      "Extracting and cleaning csv: AIS_2019_02_01.csv\n",
      "Extracting and cleaning csv: AIS_2019_02_02.csv\n",
      "Extracting and cleaning csv: AIS_2019_02_03.csv\n",
      "Extracting and cleaning csv: AIS_2019_02_04.csv\n",
      "Extracting and cleaning csv: AIS_2019_02_05.csv\n",
      "Extracting and cleaning csv: AIS_2019_02_06.csv\n",
      "Extracting and cleaning csv: AIS_2019_02_07.csv\n",
      "Extracting and cleaning csv: AIS_2019_02_08.csv\n",
      "Extracting and cleaning csv: AIS_2019_02_09.csv\n",
      "Extracting and cleaning csv: AIS_2019_02_10.csv\n",
      "Extracting and cleaning csv: AIS_2019_02_11.csv\n",
      "Extracting and cleaning csv: AIS_2019_02_12.csv\n",
      "Extracting and cleaning csv: AIS_2019_02_13.csv\n",
      "Extracting and cleaning csv: AIS_2019_02_14.csv\n",
      "Extracting and cleaning csv: AIS_2019_02_15.csv\n",
      "Extracting and cleaning csv: AIS_2019_02_16.csv\n",
      "Extracting and cleaning csv: AIS_2019_02_17.csv\n",
      "Extracting and cleaning csv: AIS_2019_02_18.csv\n",
      "Extracting and cleaning csv: AIS_2019_02_19.csv\n",
      "Extracting and cleaning csv: AIS_2019_02_20.csv\n",
      "Extracting and cleaning csv: AIS_2019_02_21.csv\n",
      "Extracting and cleaning csv: AIS_2019_02_22.csv\n",
      "Extracting and cleaning csv: AIS_2019_02_23.csv\n",
      "Extracting and cleaning csv: AIS_2019_02_24.csv\n",
      "Extracting and cleaning csv: AIS_2019_02_25.csv\n",
      "Extracting and cleaning csv: AIS_2019_02_26.csv\n",
      "Extracting and cleaning csv: AIS_2019_02_27.csv\n",
      "Extracting and cleaning csv: AIS_2019_02_28.csv\n",
      "Extracting and cleaning csv: AIS_2019_03_01.csv\n",
      "Extracting and cleaning csv: AIS_2019_03_02.csv\n",
      "Extracting and cleaning csv: AIS_2019_03_03.csv\n",
      "Extracting and cleaning csv: AIS_2019_03_04.csv\n",
      "Extracting and cleaning csv: AIS_2019_03_05.csv\n",
      "Extracting and cleaning csv: AIS_2019_03_06.csv\n",
      "Extracting and cleaning csv: AIS_2019_03_07.csv\n",
      "Extracting and cleaning csv: AIS_2019_03_08.csv\n",
      "Extracting and cleaning csv: AIS_2019_03_09.csv\n",
      "Extracting and cleaning csv: AIS_2019_03_10.csv\n",
      "Extracting and cleaning csv: AIS_2019_03_11.csv\n",
      "Extracting and cleaning csv: AIS_2019_03_12.csv\n",
      "Extracting and cleaning csv: AIS_2019_03_13.csv\n",
      "Extracting and cleaning csv: AIS_2019_03_14.csv\n",
      "Extracting and cleaning csv: AIS_2019_03_15.csv\n",
      "Extracting and cleaning csv: AIS_2019_03_16.csv\n",
      "Extracting and cleaning csv: AIS_2019_03_17.csv\n",
      "Extracting and cleaning csv: AIS_2019_03_18.csv\n",
      "Extracting and cleaning csv: AIS_2019_03_19.csv\n",
      "Extracting and cleaning csv: AIS_2019_03_20.csv\n",
      "Extracting and cleaning csv: AIS_2019_03_21.csv\n",
      "Extracting and cleaning csv: AIS_2019_03_22.csv\n",
      "Extracting and cleaning csv: AIS_2019_03_23.csv\n",
      "Extracting and cleaning csv: AIS_2019_03_24.csv\n",
      "Extracting and cleaning csv: AIS_2019_03_25.csv\n",
      "Extracting and cleaning csv: AIS_2019_03_26.csv\n",
      "Extracting and cleaning csv: AIS_2019_03_27.csv\n",
      "Extracting and cleaning csv: AIS_2019_03_28.csv\n",
      "Extracting and cleaning csv: AIS_2019_03_29.csv\n",
      "Extracting and cleaning csv: AIS_2019_03_30.csv\n",
      "Extracting and cleaning csv: AIS_2019_03_31.csv\n",
      "Extracting and cleaning csv: AIS_2019_04_01.csv\n",
      "Extracting and cleaning csv: AIS_2019_04_02.csv\n",
      "Extracting and cleaning csv: AIS_2019_04_03.csv\n",
      "Extracting and cleaning csv: AIS_2019_04_04.csv\n",
      "Extracting and cleaning csv: AIS_2019_04_05.csv\n",
      "Extracting and cleaning csv: AIS_2019_04_06.csv\n",
      "Extracting and cleaning csv: AIS_2019_04_07.csv\n",
      "Extracting and cleaning csv: AIS_2019_04_08.csv\n",
      "Extracting and cleaning csv: AIS_2019_04_09.csv\n",
      "Extracting and cleaning csv: AIS_2019_04_10.csv\n",
      "Extracting and cleaning csv: AIS_2019_04_11.csv\n",
      "Extracting and cleaning csv: AIS_2019_04_12.csv\n",
      "Extracting and cleaning csv: AIS_2019_04_13.csv\n",
      "Extracting and cleaning csv: AIS_2019_04_14.csv\n",
      "Extracting and cleaning csv: AIS_2019_04_15.csv\n",
      "Extracting and cleaning csv: AIS_2019_04_16.csv\n",
      "Extracting and cleaning csv: AIS_2019_04_17.csv\n",
      "Extracting and cleaning csv: AIS_2019_04_18.csv\n",
      "Extracting and cleaning csv: AIS_2019_04_19.csv\n",
      "Extracting and cleaning csv: AIS_2019_04_20.csv\n",
      "Extracting and cleaning csv: AIS_2019_04_21.csv\n",
      "Extracting and cleaning csv: AIS_2019_04_22.csv\n",
      "Extracting and cleaning csv: AIS_2019_04_23.csv\n",
      "Extracting and cleaning csv: AIS_2019_04_24.csv\n",
      "Extracting and cleaning csv: AIS_2019_04_25.csv\n",
      "Extracting and cleaning csv: AIS_2019_04_26.csv\n",
      "Extracting and cleaning csv: AIS_2019_04_27.csv\n",
      "Extracting and cleaning csv: AIS_2019_04_28.csv\n",
      "Extracting and cleaning csv: AIS_2019_04_29.csv\n",
      "Extracting and cleaning csv: AIS_2019_04_30.csv\n",
      "Extracting and cleaning csv: AIS_2019_05_01.csv\n",
      "Extracting and cleaning csv: AIS_2019_05_02.csv\n",
      "Extracting and cleaning csv: AIS_2019_05_03.csv\n",
      "Extracting and cleaning csv: AIS_2019_05_04.csv\n",
      "Extracting and cleaning csv: AIS_2019_05_05.csv\n",
      "Extracting and cleaning csv: AIS_2019_05_06.csv\n",
      "Extracting and cleaning csv: AIS_2019_05_07.csv\n",
      "Extracting and cleaning csv: AIS_2019_05_08.csv\n",
      "Extracting and cleaning csv: AIS_2019_05_09.csv\n",
      "Extracting and cleaning csv: AIS_2019_05_10.csv\n",
      "Extracting and cleaning csv: AIS_2019_05_11.csv\n",
      "Extracting and cleaning csv: AIS_2019_05_12.csv\n",
      "Extracting and cleaning csv: AIS_2019_05_13.csv\n",
      "Extracting and cleaning csv: AIS_2019_05_14.csv\n",
      "Extracting and cleaning csv: AIS_2019_05_15.csv\n",
      "Extracting and cleaning csv: AIS_2019_05_16.csv\n",
      "Extracting and cleaning csv: AIS_2019_05_17.csv\n",
      "Extracting and cleaning csv: AIS_2019_05_18.csv\n",
      "Extracting and cleaning csv: AIS_2019_05_19.csv\n",
      "Extracting and cleaning csv: AIS_2019_05_20.csv\n",
      "Extracting and cleaning csv: AIS_2019_05_21.csv\n",
      "Extracting and cleaning csv: AIS_2019_05_22.csv\n",
      "Extracting and cleaning csv: AIS_2019_05_23.csv\n",
      "Extracting and cleaning csv: AIS_2019_05_24.csv\n",
      "Extracting and cleaning csv: AIS_2019_05_25.csv\n",
      "Extracting and cleaning csv: AIS_2019_05_26.csv\n",
      "Extracting and cleaning csv: AIS_2019_05_27.csv\n",
      "Extracting and cleaning csv: AIS_2019_05_28.csv\n",
      "Extracting and cleaning csv: AIS_2019_05_29.csv\n",
      "Extracting and cleaning csv: AIS_2019_05_30.csv\n",
      "Extracting and cleaning csv: AIS_2019_05_31.csv\n",
      "(9528400, 17)\n"
     ]
    }
   ],
   "source": [
    "final_df = pl.DataFrame()\n",
    "\n",
    "# list all the valid files\n",
    "valid_filenames = [f for f in os.listdir(c.FOLDER_PATH) if f.startswith('AIS')]\n",
    "valid_filenames.sort()\n",
    "csv_filenames = [f.removesuffix('.csv') for f in valid_filenames if f.endswith('.csv')]\n",
    "zip_filenames = [f.removesuffix('.zip') for f in valid_filenames if f.endswith('.zip')]\n",
    "\n",
    "already_unzipped = [f + '.zip' for f in csv_filenames]\n",
    "stored_names, to_unzip_filenames = [], []\n",
    "\n",
    "if c.LOG_FILE_NAME not in os.listdir(c.FOLDER_PATH):\n",
    "    with open(file=c.FOLDER_PATH + c.LOG_FILE_NAME, mode='w') as f:\n",
    "        for filename in already_unzipped:\n",
    "            f.write(filename + '\\n')\n",
    "        print('log file created! Run this code again to extact the zip files and import them into a dataframe')\n",
    "\n",
    "else:\n",
    "    with open(file=c.FOLDER_PATH + c.LOG_FILE_NAME, mode='r+') as f:\n",
    "        stored_names = [line.rstrip() for line in f]\n",
    "        to_unzip_filenames = [f + '.zip' for f in zip_filenames if not(f in stored_names)]\n",
    "        for zip_name in to_unzip_filenames:\n",
    "            print(f'Unzipping file {zip_name}...')\n",
    "            with zipfile.ZipFile(c.FOLDER_PATH + zip_name, 'r') as z:\n",
    "                z.extractall(c.FOLDER_PATH)\n",
    "                print(f'Writing filename: {zip_name} to log file')\n",
    "                f.write(zip_name + '\\n')\n",
    "        for csv_name in [f for f in valid_filenames if f.startswith('AIS') and f.endswith('.csv')]:\n",
    "            print(f'Importing and cleaning csv: {csv_name}')\n",
    "            full_df = pl.read_csv(source=c.FOLDER_PATH + csv_name,\n",
    "                                try_parse_dates=True,\n",
    "                                low_memory = True\n",
    "                                )\n",
    "            filtered_df = full_df.filter(\n",
    "                                        (pl.col('LAT').is_between(c.LAT_MIN, c.LAT_MAX, closed='none')) &\n",
    "                                        (pl.col('LON').is_between(c.LON_MIN, c.LON_MAX, closed='none'))\n",
    "                                        )\n",
    "\n",
    "            final_df = pl.concat([final_df, filtered_df], how='vertical')\n",
    "\n",
    "        for filename in to_unzip_filenames:\n",
    "            print(f'Deleting unzipped file {filename}')\n",
    "            os.unlink(c.FOLDER_PATH + filename)\n",
    "\n",
    "print(final_df.shape)\n"
   ]
  },
  {
   "cell_type": "markdown",
   "metadata": {},
   "source": [
    "Separate code snippet used for exporting the final dataframe as a csv file.</br>\n",
    "This is necessary as the above code snippet takes a while to read and filter several csv files.</br>\n",
    "By exporting the resulting df as a csv file it's possible import it again for the following part of this notebook.</br>"
   ]
  },
  {
   "cell_type": "code",
   "execution_count": 3,
   "metadata": {},
   "outputs": [],
   "source": [
    "#OUTPUT_PATH = os.getcwd() # returns current working dir\n",
    "OUTPUT_PATH = c.FOLDER_PATH\n",
    "FILE_NAME = '2019_01-05.csv' #specify file name (.csv extension necessary)"
   ]
  },
  {
   "cell_type": "code",
   "execution_count": 5,
   "metadata": {},
   "outputs": [
    {
     "name": "stdout",
     "output_type": "stream",
     "text": [
      "Dataframe shape: (9528400, 17)\n"
     ]
    }
   ],
   "source": [
    "# export the full, uncleaned csv for backup purposes\n",
    "final_df.write_csv(OUTPUT_PATH + '/' + FILE_NAME)\n",
    "\n",
    "print(f\"Dataframe shape: {final_df.shape}\")"
   ]
  },
  {
   "cell_type": "markdown",
   "metadata": {},
   "source": [
    "Read the csv file and use it as the final data source</br>\n",
    "(The code snippet below should be used only if the code snippet #2 was not executed)"
   ]
  },
  {
   "cell_type": "code",
   "execution_count": 4,
   "metadata": {},
   "outputs": [
    {
     "name": "stdout",
     "output_type": "stream",
     "text": [
      "Rows, col before: (9528400, 17)\n",
      "Rows, col after: (9525832, 17)\n"
     ]
    }
   ],
   "source": [
    "# read csv\n",
    "final_df = pl.read_csv(OUTPUT_PATH + FILE_NAME)\n",
    "print(f'Rows, col before: {final_df.shape}')\n",
    "final_df = final_df.unique()\n",
    "print(f'Rows, col after: {final_df.shape}')"
   ]
  },
  {
   "cell_type": "markdown",
   "metadata": {},
   "source": [
    "Some stats about the imported dataframe</br>\n",
    "In order to make the histogram below, occurrencies are rounded to the top hundred (ex: 33 -> 100, 244 -> 300, etc...)</br>\n",
    "This is done in order to have an idea about how many ships have negligible amount of records.</br>\n",
    "In the following code snippet the threshold is set to 100 and consequently all vessels with less than 100 data points are removed from the dataset</br>"
   ]
  },
  {
   "cell_type": "code",
   "execution_count": 5,
   "metadata": {},
   "outputs": [
    {
     "name": "stdout",
     "output_type": "stream",
     "text": [
      "Avg entries for each vessel 12196.967989756722\n",
      "Variance: 523944601.65666634\n",
      "Standard Deviation: 22889.836208602854\n",
      "Max entries found for the same ship: 144554\n",
      "Min entries found for the same ship: 1\n"
     ]
    },
    {
     "data": {
      "image/png": "[encoded data removed]",
      "text/plain": [
       "<Figure size 640x480 with 1 Axes>"
      ]
     },
     "metadata": {},
     "output_type": "display_data"
    }
   ],
   "source": [
    "# Extract all the unique MMSIs\n",
    "unique_mmsis = final_df['MMSI'].unique()\n",
    "\n",
    "# Calculate the exact number of entries for each ship\n",
    "\n",
    "vessels_entries_dict = dict(Counter(final_df['MMSI'].to_list()))\n",
    "vessel_entries = list(vessels_entries_dict.values())\n",
    "vessel_entries.sort()\n",
    "rounded_vessel_entries = [math.ceil(x/100) * 100 for x in vessel_entries]\n",
    "\n",
    "print(f\"Avg entries for each vessel {stats.mean(vessel_entries)}\")\n",
    "print(f\"Variance: {stats.variance(vessel_entries)}\")\n",
    "print(f\"Standard Deviation: {stats.stdev(vessel_entries)}\")\n",
    "print(f\"Max entries found for the same ship: {vessel_entries[-1]}\")\n",
    "print(f\"Min entries found for the same ship: {vessel_entries[0]}\")\n",
    "\n",
    "n, bins, patches = plt.hist(x=rounded_vessel_entries, bins='auto', color='orange', edgecolor = 'black')"
   ]
  },
  {
   "cell_type": "markdown",
   "metadata": {},
   "source": [
    "Remove ships with not enough points"
   ]
  },
  {
   "cell_type": "code",
   "execution_count": 6,
   "metadata": {},
   "outputs": [
    {
     "name": "stdout",
     "output_type": "stream",
     "text": [
      "Threshold: 1219 rows\n",
      "Final dataframe len: 9525832, num of vessels: 781, num of vessels: 494\n",
      "Cleaned dataframe len: 9449943, num of vessels: 494\n",
      "Percentage of row dropped/total rows = 0.8%\n"
     ]
    }
   ],
   "source": [
    "THRESHOLD = int(stats.mean(vessel_entries) * 0.1)  # 10% of the average entries per ship\n",
    "print(f'Threshold: {THRESHOLD} rows')\n",
    "# find the MMSIs of all the ships with more than THRESHOLD points\n",
    "mmsi_to_be_kept = [x for x in vessels_entries_dict.keys() if vessels_entries_dict[x] > THRESHOLD]\n",
    "print(f\"Final dataframe len: {final_df.shape[0]}, num of vessels: {len(vessel_entries)}, num of vessels: {len(mmsi_to_be_kept)}\")\n",
    "\n",
    "clean_df = pl.DataFrame()\n",
    "for mmsi in mmsi_to_be_kept:    \n",
    "    temp_df = final_df.filter(pl.col('MMSI') == mmsi)\n",
    "    clean_df = pl.concat([clean_df, temp_df])\n",
    "    \n",
    "print(f\"Cleaned dataframe len: {clean_df.shape[0]}, num of vessels: {len(clean_df['MMSI'].unique())}\")\n",
    "print(f'Percentage of row dropped/total rows = {round((final_df.shape[0] - clean_df.shape[0])/final_df.shape[0] * 100, 2)}%')"
   ]
  },
  {
   "cell_type": "markdown",
   "metadata": {},
   "source": [
    "Export the cleaned dataframe in order to have a backup copy in a csv file"
   ]
  },
  {
   "cell_type": "code",
   "execution_count": 7,
   "metadata": {},
   "outputs": [
    {
     "name": "stdout",
     "output_type": "stream",
     "text": [
      "Dataframe shape: (9449943, 17)\n"
     ]
    }
   ],
   "source": [
    "#OUTPUT_PATH = os.getcwd()\n",
    "OUTPUT_PATH = c.FOLDER_PATH\n",
    "clean_df.write_csv(OUTPUT_PATH + '/cleaned_' + FILE_NAME)\n",
    "\n",
    "print(f\"Dataframe shape: {clean_df.shape}\")"
   ]
  },
  {
   "cell_type": "markdown",
   "metadata": {},
   "source": [
    "Create a new histogram using the \"cleaned\" data from the clean_df"
   ]
  },
  {
   "cell_type": "code",
   "execution_count": 8,
   "metadata": {},
   "outputs": [
    {
     "name": "stdout",
     "output_type": "stream",
     "text": [
      "Avg entries for each vessel 19129.43927125506\n",
      "Variance: 697848806.9405236\n",
      "Standard Deviation: 26416.828101430416\n",
      "Max entries found for the same ship: 144554\n",
      "Min entries found for the same ship: 1228\n"
     ]
    },
    {
     "data": {
      "image/png": "[encoded data removed]",
      "text/plain": [
       "<Figure size 640x480 with 1 Axes>"
      ]
     },
     "metadata": {},
     "output_type": "display_data"
    }
   ],
   "source": [
    "clean_vessel_entries = list(Counter(clean_df['MMSI'].to_list()).values())\n",
    "\n",
    "rounded_clean_vessels_entries = [math.ceil(x/100) * 100 for x in clean_vessel_entries]\n",
    "\n",
    "print(f\"Avg entries for each vessel {stats.mean(clean_vessel_entries)}\")\n",
    "print(f\"Variance: {stats.variance(clean_vessel_entries)}\")\n",
    "print(f\"Standard Deviation: {stats.stdev(clean_vessel_entries)}\")\n",
    "print(f\"Max entries found for the same ship: {max(clean_vessel_entries)}\")\n",
    "print(f\"Min entries found for the same ship: {min(clean_vessel_entries)}\")\n",
    "\n",
    "n, bins, patches = plt.hist(x=rounded_clean_vessels_entries, bins='auto', color='green', edgecolor = 'black', )"
   ]
  },
  {
   "cell_type": "markdown",
   "metadata": {},
   "source": [
    "### Denmark Dataset\n",
    "Import data from a completely new dataset (already \"cleaned\") to test the algorithm in a new scenario\n"
   ]
  },
  {
   "cell_type": "code",
   "execution_count": 8,
   "metadata": {},
   "outputs": [],
   "source": [
    "file='denmark_2023-06-05_point-based.parquet'\n",
    "df = pl.read_parquet(c.FOLDER_PATH + c.DENMARK + file)"
   ]
  },
  {
   "cell_type": "code",
   "execution_count": 9,
   "metadata": {},
   "outputs": [
    {
     "data": {
      "text/html": [
       "<div><style>\n",
       ".dataframe > thead > tr,\n",
       ".dataframe > tbody > tr {\n",
       "  text-align: right;\n",
       "  white-space: pre-wrap;\n",
       "}\n",
       "</style>\n",
       "<small>shape: (1, 40)</small><table border=\"1\" class=\"dataframe\"><thead><tr><th>t</th><th>transtype</th><th>vid</th><th>lat</th><th>lon</th><th>navstatus</th><th>rot</th><th>sog</th><th>cog</th><th>heading</th><th>imo</th><th>callsign</th><th>name</th><th>shiptype</th><th>cargotype</th><th>width</th><th>length</th><th>gpstype</th><th>draught</th><th>dest</th><th>eta</th><th>datasource</th><th>A</th><th>B</th><th>C</th><th>D</th><th>t_1</th><th>latr</th><th>lonr</th><th>havr_dist</th><th>speed_calc</th><th>journey</th><th>t_2</th><th>report_rate</th><th>heading_custom</th><th>rot_avg</th><th>rot_diff</th><th>speed_avg</th><th>speed_diff</th><th>__index_level_0__</th></tr><tr><td>datetime[ns]</td><td>str</td><td>i64</td><td>f64</td><td>f64</td><td>str</td><td>f64</td><td>f64</td><td>f64</td><td>f64</td><td>str</td><td>str</td><td>str</td><td>str</td><td>str</td><td>f64</td><td>f64</td><td>str</td><td>f64</td><td>str</td><td>str</td><td>str</td><td>f64</td><td>f64</td><td>f64</td><td>f64</td><td>duration[ns]</td><td>f64</td><td>f64</td><td>f64</td><td>f64</td><td>i64</td><td>duration[ns]</td><td>f64</td><td>f64</td><td>f64</td><td>f64</td><td>f64</td><td>f64</td><td>i64</td></tr></thead><tbody><tr><td>2023-05-06 13:11:54</td><td>&quot;Class A&quot;</td><td>205096000</td><td>55.6581</td><td>5.47449</td><td>&quot;Under way using engine&quot;</td><td>null</td><td>2.7</td><td>291.0</td><td>298.0</td><td>&quot;9898668&quot;</td><td>&quot;OPAS&quot;</td><td>&quot;Z19 BRIGITTE&quot;</td><td>&quot;Fishing&quot;</td><td>null</td><td>8.0</td><td>34.0</td><td>&quot;GPS&quot;</td><td>5.2</td><td>&quot;ZEEBRUGGE&quot;</td><td>&quot;26/04/2024 13:30:00&quot;</td><td>&quot;AIS&quot;</td><td>12.0</td><td>22.0</td><td>6.0</td><td>2.0</td><td>null</td><td>0.971417</td><td>0.095548</td><td>null</td><td>null</td><td>35</td><td>null</td><td>null</td><td>null</td><td>null</td><td>null</td><td>null</td><td>null</td><td>1299</td></tr></tbody></table></div>"
      ],
      "text/plain": [
       "shape: (1, 40)\n",
       "┌────────────┬───────────┬───────────┬─────────┬───┬──────────┬───────────┬────────────┬───────────┐\n",
       "│ t          ┆ transtype ┆ vid       ┆ lat     ┆ … ┆ rot_diff ┆ speed_avg ┆ speed_diff ┆ __index_l │\n",
       "│ ---        ┆ ---       ┆ ---       ┆ ---     ┆   ┆ ---      ┆ ---       ┆ ---        ┆ evel_0__  │\n",
       "│ datetime[n ┆ str       ┆ i64       ┆ f64     ┆   ┆ f64      ┆ f64       ┆ f64        ┆ ---       │\n",
       "│ s]         ┆           ┆           ┆         ┆   ┆          ┆           ┆            ┆ i64       │\n",
       "╞════════════╪═══════════╪═══════════╪═════════╪═══╪══════════╪═══════════╪════════════╪═══════════╡\n",
       "│ 2023-05-06 ┆ Class A   ┆ 205096000 ┆ 55.6581 ┆ … ┆ null     ┆ null      ┆ null       ┆ 1299      │\n",
       "│ 13:11:54   ┆           ┆           ┆         ┆   ┆          ┆           ┆            ┆           │\n",
       "└────────────┴───────────┴───────────┴─────────┴───┴──────────┴───────────┴────────────┴───────────┘"
      ]
     },
     "metadata": {},
     "output_type": "display_data"
    }
   ],
   "source": [
    "# Rename columns to the same naming scheme used in the Hawaii DataFrame\n",
    "display(df.head(1))"
   ]
  },
  {
   "cell_type": "code",
   "execution_count": 10,
   "metadata": {},
   "outputs": [
    {
     "data": {
      "text/html": [
       "<div><style>\n",
       ".dataframe > thead > tr,\n",
       ".dataframe > tbody > tr {\n",
       "  text-align: right;\n",
       "  white-space: pre-wrap;\n",
       "}\n",
       "</style>\n",
       "<small>shape: (1, 40)</small><table border=\"1\" class=\"dataframe\"><thead><tr><th>BaseDateTime</th><th>TransceiverClass</th><th>MMSI</th><th>LAT</th><th>LON</th><th>Status</th><th>ROT</th><th>SOG</th><th>COG</th><th>Heading</th><th>IMO</th><th>CallSign</th><th>VesselName</th><th>VesselType</th><th>Cargo</th><th>Width</th><th>Length</th><th>GPSType</th><th>Draft</th><th>Destination</th><th>ETA</th><th>Datasource</th><th>A</th><th>B</th><th>C</th><th>D</th><th>t_1</th><th>latr</th><th>lonr</th><th>havr_dist</th><th>speed_calc</th><th>journey</th><th>t_2</th><th>report_rate</th><th>heading_custom</th><th>rot_avg</th><th>rot_diff</th><th>speed_avg</th><th>speed_diff</th><th>__index_level_0__</th></tr><tr><td>datetime[ns]</td><td>str</td><td>i64</td><td>f64</td><td>f64</td><td>str</td><td>f64</td><td>f64</td><td>f64</td><td>f64</td><td>str</td><td>str</td><td>str</td><td>str</td><td>str</td><td>f64</td><td>f64</td><td>str</td><td>f64</td><td>str</td><td>str</td><td>str</td><td>f64</td><td>f64</td><td>f64</td><td>f64</td><td>duration[ns]</td><td>f64</td><td>f64</td><td>f64</td><td>f64</td><td>i64</td><td>duration[ns]</td><td>f64</td><td>f64</td><td>f64</td><td>f64</td><td>f64</td><td>f64</td><td>i64</td></tr></thead><tbody><tr><td>2023-05-06 13:11:54</td><td>&quot;Class A&quot;</td><td>205096000</td><td>55.6581</td><td>5.47449</td><td>&quot;Under way using engine&quot;</td><td>null</td><td>2.7</td><td>291.0</td><td>298.0</td><td>&quot;9898668&quot;</td><td>&quot;OPAS&quot;</td><td>&quot;Z19 BRIGITTE&quot;</td><td>&quot;Fishing&quot;</td><td>null</td><td>8.0</td><td>34.0</td><td>&quot;GPS&quot;</td><td>5.2</td><td>&quot;ZEEBRUGGE&quot;</td><td>&quot;26/04/2024 13:30:00&quot;</td><td>&quot;AIS&quot;</td><td>12.0</td><td>22.0</td><td>6.0</td><td>2.0</td><td>null</td><td>0.971417</td><td>0.095548</td><td>null</td><td>null</td><td>35</td><td>null</td><td>null</td><td>null</td><td>null</td><td>null</td><td>null</td><td>null</td><td>1299</td></tr></tbody></table></div>"
      ],
      "text/plain": [
       "shape: (1, 40)\n",
       "┌────────────┬────────────┬───────────┬─────────┬───┬──────────┬───────────┬───────────┬───────────┐\n",
       "│ BaseDateTi ┆ Transceive ┆ MMSI      ┆ LAT     ┆ … ┆ rot_diff ┆ speed_avg ┆ speed_dif ┆ __index_l │\n",
       "│ me         ┆ rClass     ┆ ---       ┆ ---     ┆   ┆ ---      ┆ ---       ┆ f         ┆ evel_0__  │\n",
       "│ ---        ┆ ---        ┆ i64       ┆ f64     ┆   ┆ f64      ┆ f64       ┆ ---       ┆ ---       │\n",
       "│ datetime[n ┆ str        ┆           ┆         ┆   ┆          ┆           ┆ f64       ┆ i64       │\n",
       "│ s]         ┆            ┆           ┆         ┆   ┆          ┆           ┆           ┆           │\n",
       "╞════════════╪════════════╪═══════════╪═════════╪═══╪══════════╪═══════════╪═══════════╪═══════════╡\n",
       "│ 2023-05-06 ┆ Class A    ┆ 205096000 ┆ 55.6581 ┆ … ┆ null     ┆ null      ┆ null      ┆ 1299      │\n",
       "│ 13:11:54   ┆            ┆           ┆         ┆   ┆          ┆           ┆           ┆           │\n",
       "└────────────┴────────────┴───────────┴─────────┴───┴──────────┴───────────┴───────────┴───────────┘"
      ]
     },
     "metadata": {},
     "output_type": "display_data"
    }
   ],
   "source": [
    "new_names = {\n",
    "                \"t\":\"BaseDateTime\", \"transtype\":\"TransceiverClass\", \"vid\":\"MMSI\", \"lat\":'LAT', 'lon':'LON', 'navstatus':'Status', 'rot':'ROT',\n",
    "                'sog':'SOG', 'cog':'COG', 'heading':'Heading', 'imo':'IMO', 'callsign':'CallSign', 'name':'VesselName',\n",
    "                'shiptype':'VesselType', 'cargotype':'Cargo', 'width':'Width', 'length':'Length', 'gpstype':'GPSType', \n",
    "                'draught':'Draft', 'dest':'Destination', 'eta':'ETA', 'datasource':'Datasource'\n",
    "            }\n",
    "df = df.rename(new_names)\n",
    "display(df.head(1))"
   ]
  },
  {
   "cell_type": "code",
   "execution_count": null,
   "metadata": {},
   "outputs": [
    {
     "data": {
      "text/html": [
       "<div><style>\n",
       ".dataframe > thead > tr,\n",
       ".dataframe > tbody > tr {\n",
       "  text-align: right;\n",
       "  white-space: pre-wrap;\n",
       "}\n",
       "</style>\n",
       "<small>shape: (1, 18)</small><table border=\"1\" class=\"dataframe\"><thead><tr><th>BaseDateTime</th><th>TransceiverClass</th><th>MMSI</th><th>LAT</th><th>LON</th><th>Status</th><th>SOG</th><th>COG</th><th>Heading</th><th>IMO</th><th>CallSign</th><th>VesselName</th><th>VesselType</th><th>Cargo</th><th>Width</th><th>Length</th><th>Draft</th><th>__index_level_0__</th></tr><tr><td>datetime[ns]</td><td>str</td><td>i64</td><td>f64</td><td>f64</td><td>str</td><td>f64</td><td>f64</td><td>f64</td><td>str</td><td>str</td><td>str</td><td>cat</td><td>str</td><td>f64</td><td>f64</td><td>f64</td><td>i64</td></tr></thead><tbody><tr><td>2023-05-06 13:11:54</td><td>&quot;Class A&quot;</td><td>205096000</td><td>55.6581</td><td>5.47449</td><td>&quot;Under way using engine&quot;</td><td>2.7</td><td>291.0</td><td>298.0</td><td>&quot;9898668&quot;</td><td>&quot;OPAS&quot;</td><td>&quot;Z19 BRIGITTE&quot;</td><td>&quot;Fishing&quot;</td><td>null</td><td>8.0</td><td>34.0</td><td>5.2</td><td>1299</td></tr></tbody></table></div>"
      ],
      "text/plain": [
       "shape: (1, 18)\n",
       "┌───────────────┬───────────────┬───────────┬─────────┬───┬───────┬────────┬───────┬───────────────┐\n",
       "│ BaseDateTime  ┆ TransceiverCl ┆ MMSI      ┆ LAT     ┆ … ┆ Width ┆ Length ┆ Draft ┆ __index_level │\n",
       "│ ---           ┆ ass           ┆ ---       ┆ ---     ┆   ┆ ---   ┆ ---    ┆ ---   ┆ _0__          │\n",
       "│ datetime[ns]  ┆ ---           ┆ i64       ┆ f64     ┆   ┆ f64   ┆ f64    ┆ f64   ┆ ---           │\n",
       "│               ┆ str           ┆           ┆         ┆   ┆       ┆        ┆       ┆ i64           │\n",
       "╞═══════════════╪═══════════════╪═══════════╪═════════╪═══╪═══════╪════════╪═══════╪═══════════════╡\n",
       "│ 2023-05-06    ┆ Class A       ┆ 205096000 ┆ 55.6581 ┆ … ┆ 8.0   ┆ 34.0   ┆ 5.2   ┆ 1299          │\n",
       "│ 13:11:54      ┆               ┆           ┆         ┆   ┆       ┆        ┆       ┆               │\n",
       "└───────────────┴───────────────┴───────────┴─────────┴───┴───────┴────────┴───────┴───────────────┘"
      ]
     },
     "metadata": {},
     "output_type": "display_data"
    }
   ],
   "source": [
    "df = df.drop(['ROT', 'GPSType', 'Destination', 'ETA', 'Datasource', 'A', 'B', 'C', 'D', 't_1', 'latr', 'lonr'])\n",
    "df = df.drop(['havr_dist', 'speed_calc', 'journey', 't_2', 'report_rate', 'heading_custom', 'rot_avg', 'rot_diff'])\n",
    "df = df.drop(['speed_avg', 'speed_diff'])\n",
    "#display(df.group_by(\"VesselType\").agg(pl.len()))\n",
    "pl.enable_string_cache()\n",
    "df = df.with_columns(pl.col('VesselType').cast(pl.Categorical))\n",
    "display(df.head(1))"
   ]
  },
  {
   "cell_type": "code",
   "execution_count": 18,
   "metadata": {},
   "outputs": [
    {
     "data": {
      "text/plain": [
       "25"
      ]
     },
     "metadata": {},
     "output_type": "display_data"
    },
    {
     "data": {
      "text/plain": [
       "14"
      ]
     },
     "metadata": {},
     "output_type": "display_data"
    },
    {
     "data": {
      "text/plain": [
       "7"
      ]
     },
     "metadata": {},
     "output_type": "display_data"
    }
   ],
   "source": [
    "display(len(df.group_by(\"VesselType\").agg(pl.len())))\n",
    "display(len(df.group_by(\"Status\").agg(pl.len())))\n",
    "display(len(df.group_by(\"Cargo\").agg(pl.len())))"
   ]
  },
  {
   "cell_type": "code",
   "execution_count": null,
   "metadata": {},
   "outputs": [],
   "source": [
    "#display(df.group_by(\"VesselType\").agg(pl.len()))"
   ]
  }
 ],
 "metadata": {
  "kernelspec": {
   "display_name": "Python 3",
   "language": "python",
   "name": "python3"
  },
  "language_info": {
   "codemirror_mode": {
    "name": "ipython",
    "version": 3
   },
   "file_extension": ".py",
   "mimetype": "text/x-python",
   "name": "python",
   "nbconvert_exporter": "python",
   "pygments_lexer": "ipython3",
   "version": "3.10.12"
  }
 },
 "nbformat": 4,
 "nbformat_minor": 2
}
