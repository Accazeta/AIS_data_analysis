{
 "cells": [
  {
   "cell_type": "code",
   "execution_count": 3,
   "metadata": {},
   "outputs": [],
   "source": [
    "import Constants as c           # constants\n",
    "import polars as pl             # polars\n",
    "import os                       # for reading local files and folders\n",
    "import zipfile                  # for handling zip files\n",
    "from collections import Counter # for stats analysis on the dataframe  \n",
    "import math                     # for math functions\n",
    "import matplotlib.pyplot as plt # for plotting\n",
    "import statistics as stats      # for statistics functions"
   ]
  },
  {
   "cell_type": "markdown",
   "metadata": {},
   "source": [
    "Extract only the data with the correct latitude and longitude values</br>\n",
    "This operation takes roughly 15-20 seconds per csv file (tested on csv files with > 1 million rows)</br>"
   ]
  },
  {
   "cell_type": "code",
   "execution_count": 4,
   "metadata": {},
   "outputs": [
    {
     "name": "stdout",
     "output_type": "stream",
     "text": [
      "(5462415, 17)\n"
     ]
    }
   ],
   "source": [
    "final_df = pl.DataFrame()\n",
    "\n",
    "# list all the valid files\n",
    "valid_filenames = [f for f in os.listdir(c.FOLDER_PATH) if f.startswith('AIS')]\n",
    "valid_filenames.sort()\n",
    "csv_filenames = [f.removesuffix('.csv') for f in valid_filenames if f.endswith('.csv')]\n",
    "zip_filenames = [f.removesuffix('.zip') for f in valid_filenames if f.endswith('.zip')]\n",
    "\n",
    "to_unzip_filenames = [f + '.zip' for f in zip_filenames if not(f in csv_filenames)]\n",
    "\n",
    "for zip_name in zip_filenames:\n",
    "    csv_name = zip_name.removesuffix('.zip') + '.csv'\n",
    "    if zip_name in to_unzip_filenames:    \n",
    "        with zipfile.ZipFile(c.FOLDER_PATH + zip_name, 'r') as z:\n",
    "            z.extractall(c.FOLDER_PATH)\n",
    "    full_df = pl.read_csv(source=c.FOLDER_PATH + csv_name,\n",
    "                          try_parse_dates=True,\n",
    "                          low_memory = True\n",
    "                          )\n",
    "    filtered_df = full_df.filter(\n",
    "                                    (pl.col('LAT').is_between(c.LAT_MIN, c.LAT_MAX, closed='none')) &\n",
    "                                    (pl.col('LON').is_between(c.LON_MIN, c.LON_MAX, closed='none'))\n",
    "                                 )\n",
    "\n",
    "    final_df = pl.concat([final_df, filtered_df], how='vertical')\n",
    "\n",
    "print(final_df.shape)\n"
   ]
  },
  {
   "cell_type": "markdown",
   "metadata": {},
   "source": [
    "Separate code snippet used for exporting the final dataframe as a csv file.</br>\n",
    "This is necessary as the above code snippet takes a while to read and filter several csv files.</br>\n",
    "By exporting the resulting df as a csv file it's possible import it again for the following part of this notebook.</br>"
   ]
  },
  {
   "cell_type": "code",
   "execution_count": 5,
   "metadata": {},
   "outputs": [
    {
     "name": "stdout",
     "output_type": "stream",
     "text": [
      "Dataframe shape: (5462415, 17)\n"
     ]
    }
   ],
   "source": [
    "#OUTPUT_PATH = os.getcwd() # returns current working dir\n",
    "OUTPUT_PATH = c.FOLDER_PATH\n",
    "FILE_NAME = '2019_01-03.csv' #specify file name (.csv extension necessary)\n",
    "\n",
    "# export the full, uncleaned csv for backup purposes\n",
    "final_df.write_csv(OUTPUT_PATH + '/' + FILE_NAME)\n",
    "\n",
    "print(f\"Dataframe shape: {final_df.shape}\")"
   ]
  },
  {
   "cell_type": "markdown",
   "metadata": {},
   "source": [
    "Read the csv file and use it as the final data source</br>\n",
    "(The code snippet below should be used only if the code snippet #2 was not executed)"
   ]
  },
  {
   "cell_type": "code",
   "execution_count": 6,
   "metadata": {},
   "outputs": [
    {
     "name": "stdout",
     "output_type": "stream",
     "text": [
      "Rows, col before: (5462415, 17)\n",
      "Rows, col after: (5460800, 17)\n"
     ]
    }
   ],
   "source": [
    "# read csv\n",
    "final_df = pl.read_csv(OUTPUT_PATH + FILE_NAME)\n",
    "print(f'Rows, col before: {final_df.shape}')\n",
    "final_df = final_df.unique()\n",
    "print(f'Rows, col after: {final_df.shape}')"
   ]
  },
  {
   "cell_type": "markdown",
   "metadata": {},
   "source": [
    "Some stats about the imported dataframe</br>\n",
    "In order to make the histogram below, occurrencies are rounded to the top hundred (ex: 33 -> 100, 244 -> 300, etc...)</br>\n",
    "This is done in order to have an idea about how many ships have negligible amount of records.</br>\n",
    "In the following code snippet the threshold is set to 100 and consequently all vessels with less than 100 data points are removed from the dataset</br>"
   ]
  },
  {
   "cell_type": "code",
   "execution_count": 7,
   "metadata": {},
   "outputs": [
    {
     "name": "stdout",
     "output_type": "stream",
     "text": [
      "Avg entries for each vessel 9071.09634551495\n",
      "Variance: 216596411.76774037\n",
      "Standard Deviation: 14717.214810137833\n",
      "Max entries found for the same ship: 82554\n",
      "Min entries found for the same ship: 1\n"
     ]
    },
    {
     "data": {
      "image/png": "[encoded data removed]",
      "text/plain": [
       "<Figure size 640x480 with 1 Axes>"
      ]
     },
     "metadata": {},
     "output_type": "display_data"
    }
   ],
   "source": [
    "# Extract all the unique MMSIs\n",
    "unique_mmsis = final_df['MMSI'].unique()\n",
    "\n",
    "# Calculate the exact number of entries for each ship\n",
    "\n",
    "vessels_entries_dict = dict(Counter(final_df['MMSI'].to_list()))\n",
    "vessel_entries = list(vessels_entries_dict.values())\n",
    "vessel_entries.sort()\n",
    "rounded_vessel_entries = [math.ceil(x/100) * 100 for x in vessel_entries]\n",
    "\n",
    "print(f\"Avg entries for each vessel {stats.mean(vessel_entries)}\")\n",
    "print(f\"Variance: {stats.variance(vessel_entries)}\")\n",
    "print(f\"Standard Deviation: {stats.stdev(vessel_entries)}\")\n",
    "print(f\"Max entries found for the same ship: {vessel_entries[-1]}\")\n",
    "print(f\"Min entries found for the same ship: {vessel_entries[0]}\")\n",
    "\n",
    "n, bins, patches = plt.hist(x=rounded_vessel_entries, bins='auto', color='orange', edgecolor = 'black')"
   ]
  },
  {
   "cell_type": "markdown",
   "metadata": {},
   "source": [
    "Remove ships with not enough points"
   ]
  },
  {
   "cell_type": "code",
   "execution_count": 8,
   "metadata": {},
   "outputs": [
    {
     "name": "stdout",
     "output_type": "stream",
     "text": [
      "Threshold: 907 rows\n",
      "Final dataframe len: 5460800, num of vessels: 602, num of vessels: 403\n",
      "Cleaned dataframe len: 5415168, num of vessels: 403\n",
      "Percentage of row dropped/total rows = 0.84%\n"
     ]
    }
   ],
   "source": [
    "THRESHOLD = int(stats.mean(vessel_entries) * 0.1)  # 10% of the average entries per ship\n",
    "print(f'Threshold: {THRESHOLD} rows')\n",
    "# find the MMSIs of all the ships with more than THRESHOLD points\n",
    "mmsi_to_be_kept = [x for x in vessels_entries_dict.keys() if vessels_entries_dict[x] > THRESHOLD]\n",
    "print(f\"Final dataframe len: {final_df.shape[0]}, num of vessels: {len(vessel_entries)}, num of vessels: {len(mmsi_to_be_kept)}\")\n",
    "\n",
    "clean_df = pl.DataFrame()\n",
    "for mmsi in mmsi_to_be_kept:    \n",
    "    temp_df = final_df.filter(pl.col('MMSI') == mmsi)\n",
    "    clean_df = pl.concat([clean_df, temp_df])\n",
    "    \n",
    "print(f\"Cleaned dataframe len: {clean_df.shape[0]}, num of vessels: {len(clean_df['MMSI'].unique())}\")\n",
    "print(f'Percentage of row dropped/total rows = {round((final_df.shape[0] - clean_df.shape[0])/final_df.shape[0] * 100, 2)}%')"
   ]
  },
  {
   "cell_type": "markdown",
   "metadata": {},
   "source": [
    "Export the cleaned dataframe in order to have a backup copy in a csv file"
   ]
  },
  {
   "cell_type": "code",
   "execution_count": 9,
   "metadata": {},
   "outputs": [
    {
     "name": "stdout",
     "output_type": "stream",
     "text": [
      "Dataframe shape: (5415168, 17)\n"
     ]
    }
   ],
   "source": [
    "#OUTPUT_PATH = os.getcwd()\n",
    "OUTPUT_PATH = c.FOLDER_PATH\n",
    "clean_df.write_csv(OUTPUT_PATH + '/cleaned_' + FILE_NAME)\n",
    "\n",
    "print(f\"Dataframe shape: {clean_df.shape}\")"
   ]
  },
  {
   "cell_type": "markdown",
   "metadata": {},
   "source": [
    "Create a new histogram using the \"cleaned\" data from the clean_df"
   ]
  },
  {
   "cell_type": "code",
   "execution_count": 10,
   "metadata": {},
   "outputs": [
    {
     "name": "stdout",
     "output_type": "stream",
     "text": [
      "Avg entries for each vessel 13437.141439205956\n",
      "Variance: 265969260.81327853\n",
      "Standard Deviation: 16308.564032841105\n",
      "Max entries found for the same ship: 82554\n",
      "Min entries found for the same ship: 921\n"
     ]
    },
    {
     "data": {
      "image/png": "[encoded data removed]",
      "text/plain": [
       "<Figure size 640x480 with 1 Axes>"
      ]
     },
     "metadata": {},
     "output_type": "display_data"
    }
   ],
   "source": [
    "clean_vessel_entries = list(Counter(clean_df['MMSI'].to_list()).values())\n",
    "\n",
    "rounded_clean_vessels_entries = [math.ceil(x/100) * 100 for x in clean_vessel_entries]\n",
    "\n",
    "print(f\"Avg entries for each vessel {stats.mean(clean_vessel_entries)}\")\n",
    "print(f\"Variance: {stats.variance(clean_vessel_entries)}\")\n",
    "print(f\"Standard Deviation: {stats.stdev(clean_vessel_entries)}\")\n",
    "print(f\"Max entries found for the same ship: {max(clean_vessel_entries)}\")\n",
    "print(f\"Min entries found for the same ship: {min(clean_vessel_entries)}\")\n",
    "\n",
    "n, bins, patches = plt.hist(x=rounded_clean_vessels_entries, bins='auto', color='green', edgecolor = 'black', )"
   ]
  }
 ],
 "metadata": {
  "kernelspec": {
   "display_name": "Python 3",
   "language": "python",
   "name": "python3"
  },
  "language_info": {
   "codemirror_mode": {
    "name": "ipython",
    "version": 3
   },
   "file_extension": ".py",
   "mimetype": "text/x-python",
   "name": "python",
   "nbconvert_exporter": "python",
   "pygments_lexer": "ipython3",
   "version": "3.10.12"
  }
 },
 "nbformat": 4,
 "nbformat_minor": 2
}
